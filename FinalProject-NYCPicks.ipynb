{
 "cells": [
  {
   "cell_type": "code",
   "execution_count": null,
   "metadata": {},
   "outputs": [],
   "source": [
    "# Hyo Sung Kim and Chin Yee Lee\n",
    "# MUSA 620 - Final Project"
   ]
  },
  {
   "cell_type": "code",
   "execution_count": 2,
   "metadata": {},
   "outputs": [],
   "source": [
    "import pandas as pd\n",
    "import numpy as np\n",
    "from matplotlib import pyplot as plt"
   ]
  },
  {
   "cell_type": "code",
   "execution_count": 3,
   "metadata": {},
   "outputs": [],
   "source": [
    "import geopandas as gpd\n",
    "import cartopy.crs as ccrs\n",
    "from shapely.geometry import Point"
   ]
  },
  {
   "cell_type": "code",
   "execution_count": 4,
   "metadata": {},
   "outputs": [],
   "source": [
    "#from IPython.display import IFrame\n",
    "#IFrame('chart.html', width=600, height=375)"
   ]
  },
  {
   "cell_type": "code",
   "execution_count": null,
   "metadata": {},
   "outputs": [],
   "source": []
  },
  {
   "cell_type": "code",
   "execution_count": 5,
   "metadata": {},
   "outputs": [],
   "source": [
    "# Importing Uber Data"
   ]
  },
  {
   "cell_type": "code",
   "execution_count": 118,
   "metadata": {},
   "outputs": [],
   "source": [
    "# 2014\n",
    "uber_apr14 = pd.read_csv(\"./UberData/uber-raw-data-apr14.csv\")\n",
    "uber_may14 = pd.read_csv(\"./UberData/uber-raw-data-may14.csv\")\n",
    "uber_jun14 = pd.read_csv(\"./UberData/uber-raw-data-jun14.csv\")\n",
    "uber_jul14 = pd.read_csv(\"./UberData/uber-raw-data-jul14.csv\")\n",
    "uber_aug14 = pd.read_csv(\"./UberData/uber-raw-data-aug14.csv\")\n",
    "uber_sep14 = pd.read_csv(\"./UberData/uber-raw-data-sep14.csv\")"
   ]
  },
  {
   "cell_type": "code",
   "execution_count": 119,
   "metadata": {},
   "outputs": [
    {
     "data": {
      "text/plain": [
       "4534327"
      ]
     },
     "execution_count": 119,
     "metadata": {},
     "output_type": "execute_result"
    }
   ],
   "source": [
    "# Combined df should have x rows:\n",
    "uber_apr14.shape[0]+uber_may14.shape[0]+uber_jun14.shape[0]+uber_jul14.shape[0]+uber_aug14.shape[0]+uber_sep14.shape[0]"
   ]
  },
  {
   "cell_type": "code",
   "execution_count": 120,
   "metadata": {},
   "outputs": [],
   "source": [
    "# Combine 2014 data into one dataframe\n",
    "frames = [uber_apr14, uber_may14, uber_jun14, uber_jul14, uber_aug14, uber_sep14]\n",
    "uber_2014 = pd.concat(frames)"
   ]
  },
  {
   "cell_type": "code",
   "execution_count": 121,
   "metadata": {},
   "outputs": [
    {
     "name": "stdout",
     "output_type": "stream",
     "text": [
      "(4534327, 4)\n"
     ]
    },
    {
     "data": {
      "text/html": [
       "<div>\n",
       "<style scoped>\n",
       "    .dataframe tbody tr th:only-of-type {\n",
       "        vertical-align: middle;\n",
       "    }\n",
       "\n",
       "    .dataframe tbody tr th {\n",
       "        vertical-align: top;\n",
       "    }\n",
       "\n",
       "    .dataframe thead th {\n",
       "        text-align: right;\n",
       "    }\n",
       "</style>\n",
       "<table border=\"1\" class=\"dataframe\">\n",
       "  <thead>\n",
       "    <tr style=\"text-align: right;\">\n",
       "      <th></th>\n",
       "      <th>Date/Time</th>\n",
       "      <th>Lat</th>\n",
       "      <th>Lon</th>\n",
       "      <th>Base</th>\n",
       "    </tr>\n",
       "  </thead>\n",
       "  <tbody>\n",
       "    <tr>\n",
       "      <th>0</th>\n",
       "      <td>4/1/2014 0:11:00</td>\n",
       "      <td>40.7690</td>\n",
       "      <td>-73.9549</td>\n",
       "      <td>B02512</td>\n",
       "    </tr>\n",
       "    <tr>\n",
       "      <th>1</th>\n",
       "      <td>4/1/2014 0:17:00</td>\n",
       "      <td>40.7267</td>\n",
       "      <td>-74.0345</td>\n",
       "      <td>B02512</td>\n",
       "    </tr>\n",
       "    <tr>\n",
       "      <th>2</th>\n",
       "      <td>4/1/2014 0:21:00</td>\n",
       "      <td>40.7316</td>\n",
       "      <td>-73.9873</td>\n",
       "      <td>B02512</td>\n",
       "    </tr>\n",
       "    <tr>\n",
       "      <th>3</th>\n",
       "      <td>4/1/2014 0:28:00</td>\n",
       "      <td>40.7588</td>\n",
       "      <td>-73.9776</td>\n",
       "      <td>B02512</td>\n",
       "    </tr>\n",
       "    <tr>\n",
       "      <th>4</th>\n",
       "      <td>4/1/2014 0:33:00</td>\n",
       "      <td>40.7594</td>\n",
       "      <td>-73.9722</td>\n",
       "      <td>B02512</td>\n",
       "    </tr>\n",
       "  </tbody>\n",
       "</table>\n",
       "</div>"
      ],
      "text/plain": [
       "          Date/Time      Lat      Lon    Base\n",
       "0  4/1/2014 0:11:00  40.7690 -73.9549  B02512\n",
       "1  4/1/2014 0:17:00  40.7267 -74.0345  B02512\n",
       "2  4/1/2014 0:21:00  40.7316 -73.9873  B02512\n",
       "3  4/1/2014 0:28:00  40.7588 -73.9776  B02512\n",
       "4  4/1/2014 0:33:00  40.7594 -73.9722  B02512"
      ]
     },
     "execution_count": 121,
     "metadata": {},
     "output_type": "execute_result"
    }
   ],
   "source": [
    "print(uber_2014.shape)\n",
    "uber_2014.head()"
   ]
  },
  {
   "cell_type": "code",
   "execution_count": 122,
   "metadata": {},
   "outputs": [],
   "source": [
    "# Rename columns(Date/Time to DateTime)\n",
    "uber_2014.columns = ['DateTime', 'Lat', 'Lon', 'Base']"
   ]
  },
  {
   "cell_type": "code",
   "execution_count": 123,
   "metadata": {},
   "outputs": [],
   "source": [
    "# Add Type Column\n",
    "uber_2014['Type'] = 'Uber'"
   ]
  },
  {
   "cell_type": "code",
   "execution_count": 124,
   "metadata": {},
   "outputs": [
    {
     "data": {
      "text/html": [
       "<div>\n",
       "<style scoped>\n",
       "    .dataframe tbody tr th:only-of-type {\n",
       "        vertical-align: middle;\n",
       "    }\n",
       "\n",
       "    .dataframe tbody tr th {\n",
       "        vertical-align: top;\n",
       "    }\n",
       "\n",
       "    .dataframe thead th {\n",
       "        text-align: right;\n",
       "    }\n",
       "</style>\n",
       "<table border=\"1\" class=\"dataframe\">\n",
       "  <thead>\n",
       "    <tr style=\"text-align: right;\">\n",
       "      <th></th>\n",
       "      <th>DateTime</th>\n",
       "      <th>Lat</th>\n",
       "      <th>Lon</th>\n",
       "      <th>Base</th>\n",
       "      <th>Type</th>\n",
       "      <th>Hour</th>\n",
       "    </tr>\n",
       "  </thead>\n",
       "  <tbody>\n",
       "    <tr>\n",
       "      <th>0</th>\n",
       "      <td>4/1/2014 0:11:00</td>\n",
       "      <td>40.7690</td>\n",
       "      <td>-73.9549</td>\n",
       "      <td>B02512</td>\n",
       "      <td>Uber</td>\n",
       "      <td>0</td>\n",
       "    </tr>\n",
       "    <tr>\n",
       "      <th>1</th>\n",
       "      <td>4/1/2014 0:17:00</td>\n",
       "      <td>40.7267</td>\n",
       "      <td>-74.0345</td>\n",
       "      <td>B02512</td>\n",
       "      <td>Uber</td>\n",
       "      <td>0</td>\n",
       "    </tr>\n",
       "    <tr>\n",
       "      <th>2</th>\n",
       "      <td>4/1/2014 0:21:00</td>\n",
       "      <td>40.7316</td>\n",
       "      <td>-73.9873</td>\n",
       "      <td>B02512</td>\n",
       "      <td>Uber</td>\n",
       "      <td>0</td>\n",
       "    </tr>\n",
       "    <tr>\n",
       "      <th>3</th>\n",
       "      <td>4/1/2014 0:28:00</td>\n",
       "      <td>40.7588</td>\n",
       "      <td>-73.9776</td>\n",
       "      <td>B02512</td>\n",
       "      <td>Uber</td>\n",
       "      <td>0</td>\n",
       "    </tr>\n",
       "    <tr>\n",
       "      <th>4</th>\n",
       "      <td>4/1/2014 0:33:00</td>\n",
       "      <td>40.7594</td>\n",
       "      <td>-73.9722</td>\n",
       "      <td>B02512</td>\n",
       "      <td>Uber</td>\n",
       "      <td>0</td>\n",
       "    </tr>\n",
       "  </tbody>\n",
       "</table>\n",
       "</div>"
      ],
      "text/plain": [
       "           DateTime      Lat      Lon    Base  Type  Hour\n",
       "0  4/1/2014 0:11:00  40.7690 -73.9549  B02512  Uber     0\n",
       "1  4/1/2014 0:17:00  40.7267 -74.0345  B02512  Uber     0\n",
       "2  4/1/2014 0:21:00  40.7316 -73.9873  B02512  Uber     0\n",
       "3  4/1/2014 0:28:00  40.7588 -73.9776  B02512  Uber     0\n",
       "4  4/1/2014 0:33:00  40.7594 -73.9722  B02512  Uber     0"
      ]
     },
     "execution_count": 124,
     "metadata": {},
     "output_type": "execute_result"
    }
   ],
   "source": [
    "# Add Hour Column\n",
    "uber_2014['Hour'] = uber_2014['DateTime'].str[9:]\n",
    "uber_2014['Hour'] = uber_2014['Hour'].str[:-6]\n",
    "uber_2014.Hour=uber_2014.Hour.astype(int)\n",
    "\n",
    "# Check\n",
    "uber_2014.head()\n",
    "#uber_2014.Hour.unique()"
   ]
  },
  {
   "cell_type": "code",
   "execution_count": 125,
   "metadata": {},
   "outputs": [],
   "source": [
    "# Select Columns of Interest\n",
    "uber_cols = ['DateTime', 'Lat', 'Lon', 'Type', 'Hour']\n",
    "uber_2014 = uber_2014[uber_cols]"
   ]
  },
  {
   "cell_type": "code",
   "execution_count": 126,
   "metadata": {},
   "outputs": [
    {
     "data": {
      "text/html": [
       "<div>\n",
       "<style scoped>\n",
       "    .dataframe tbody tr th:only-of-type {\n",
       "        vertical-align: middle;\n",
       "    }\n",
       "\n",
       "    .dataframe tbody tr th {\n",
       "        vertical-align: top;\n",
       "    }\n",
       "\n",
       "    .dataframe thead th {\n",
       "        text-align: right;\n",
       "    }\n",
       "</style>\n",
       "<table border=\"1\" class=\"dataframe\">\n",
       "  <thead>\n",
       "    <tr style=\"text-align: right;\">\n",
       "      <th></th>\n",
       "      <th>DateTime</th>\n",
       "      <th>Lat</th>\n",
       "      <th>Lon</th>\n",
       "      <th>Type</th>\n",
       "      <th>Hour</th>\n",
       "    </tr>\n",
       "  </thead>\n",
       "  <tbody>\n",
       "    <tr>\n",
       "      <th>0</th>\n",
       "      <td>4/1/2014 0:11:00</td>\n",
       "      <td>40.7690</td>\n",
       "      <td>-73.9549</td>\n",
       "      <td>Uber</td>\n",
       "      <td>0</td>\n",
       "    </tr>\n",
       "    <tr>\n",
       "      <th>1</th>\n",
       "      <td>4/1/2014 0:17:00</td>\n",
       "      <td>40.7267</td>\n",
       "      <td>-74.0345</td>\n",
       "      <td>Uber</td>\n",
       "      <td>0</td>\n",
       "    </tr>\n",
       "    <tr>\n",
       "      <th>2</th>\n",
       "      <td>4/1/2014 0:21:00</td>\n",
       "      <td>40.7316</td>\n",
       "      <td>-73.9873</td>\n",
       "      <td>Uber</td>\n",
       "      <td>0</td>\n",
       "    </tr>\n",
       "    <tr>\n",
       "      <th>3</th>\n",
       "      <td>4/1/2014 0:28:00</td>\n",
       "      <td>40.7588</td>\n",
       "      <td>-73.9776</td>\n",
       "      <td>Uber</td>\n",
       "      <td>0</td>\n",
       "    </tr>\n",
       "    <tr>\n",
       "      <th>4</th>\n",
       "      <td>4/1/2014 0:33:00</td>\n",
       "      <td>40.7594</td>\n",
       "      <td>-73.9722</td>\n",
       "      <td>Uber</td>\n",
       "      <td>0</td>\n",
       "    </tr>\n",
       "  </tbody>\n",
       "</table>\n",
       "</div>"
      ],
      "text/plain": [
       "           DateTime      Lat      Lon  Type  Hour\n",
       "0  4/1/2014 0:11:00  40.7690 -73.9549  Uber     0\n",
       "1  4/1/2014 0:17:00  40.7267 -74.0345  Uber     0\n",
       "2  4/1/2014 0:21:00  40.7316 -73.9873  Uber     0\n",
       "3  4/1/2014 0:28:00  40.7588 -73.9776  Uber     0\n",
       "4  4/1/2014 0:33:00  40.7594 -73.9722  Uber     0"
      ]
     },
     "execution_count": 126,
     "metadata": {},
     "output_type": "execute_result"
    }
   ],
   "source": [
    "uber_2014.head()"
   ]
  },
  {
   "cell_type": "code",
   "execution_count": 127,
   "metadata": {},
   "outputs": [
    {
     "data": {
      "text/html": [
       "<div>\n",
       "<style scoped>\n",
       "    .dataframe tbody tr th:only-of-type {\n",
       "        vertical-align: middle;\n",
       "    }\n",
       "\n",
       "    .dataframe tbody tr th {\n",
       "        vertical-align: top;\n",
       "    }\n",
       "\n",
       "    .dataframe thead th {\n",
       "        text-align: right;\n",
       "    }\n",
       "</style>\n",
       "<table border=\"1\" class=\"dataframe\">\n",
       "  <thead>\n",
       "    <tr style=\"text-align: right;\">\n",
       "      <th></th>\n",
       "      <th>DateTime</th>\n",
       "      <th>Lat</th>\n",
       "      <th>Lon</th>\n",
       "      <th>Type</th>\n",
       "      <th>Hour</th>\n",
       "      <th>Month</th>\n",
       "    </tr>\n",
       "  </thead>\n",
       "  <tbody>\n",
       "    <tr>\n",
       "      <th>0</th>\n",
       "      <td>4/1/2014 0:11:00</td>\n",
       "      <td>40.7690</td>\n",
       "      <td>-73.9549</td>\n",
       "      <td>Uber</td>\n",
       "      <td>0</td>\n",
       "      <td>4</td>\n",
       "    </tr>\n",
       "    <tr>\n",
       "      <th>1</th>\n",
       "      <td>4/1/2014 0:17:00</td>\n",
       "      <td>40.7267</td>\n",
       "      <td>-74.0345</td>\n",
       "      <td>Uber</td>\n",
       "      <td>0</td>\n",
       "      <td>4</td>\n",
       "    </tr>\n",
       "    <tr>\n",
       "      <th>2</th>\n",
       "      <td>4/1/2014 0:21:00</td>\n",
       "      <td>40.7316</td>\n",
       "      <td>-73.9873</td>\n",
       "      <td>Uber</td>\n",
       "      <td>0</td>\n",
       "      <td>4</td>\n",
       "    </tr>\n",
       "    <tr>\n",
       "      <th>3</th>\n",
       "      <td>4/1/2014 0:28:00</td>\n",
       "      <td>40.7588</td>\n",
       "      <td>-73.9776</td>\n",
       "      <td>Uber</td>\n",
       "      <td>0</td>\n",
       "      <td>4</td>\n",
       "    </tr>\n",
       "    <tr>\n",
       "      <th>4</th>\n",
       "      <td>4/1/2014 0:33:00</td>\n",
       "      <td>40.7594</td>\n",
       "      <td>-73.9722</td>\n",
       "      <td>Uber</td>\n",
       "      <td>0</td>\n",
       "      <td>4</td>\n",
       "    </tr>\n",
       "  </tbody>\n",
       "</table>\n",
       "</div>"
      ],
      "text/plain": [
       "           DateTime      Lat      Lon  Type  Hour Month\n",
       "0  4/1/2014 0:11:00  40.7690 -73.9549  Uber     0     4\n",
       "1  4/1/2014 0:17:00  40.7267 -74.0345  Uber     0     4\n",
       "2  4/1/2014 0:21:00  40.7316 -73.9873  Uber     0     4\n",
       "3  4/1/2014 0:28:00  40.7588 -73.9776  Uber     0     4\n",
       "4  4/1/2014 0:33:00  40.7594 -73.9722  Uber     0     4"
      ]
     },
     "execution_count": 127,
     "metadata": {},
     "output_type": "execute_result"
    }
   ],
   "source": [
    "# Create Month Column\n",
    "uber_2014['Month']=uber_2014['DateTime'].str[0]\n",
    "uber_2014.Month=uber_2014.Month.astype(int)\n",
    "\n",
    "# Check\n",
    "uber_2014.head()\n",
    "#uber_2014.Month.unique()"
   ]
  },
  {
   "cell_type": "code",
   "execution_count": 128,
   "metadata": {},
   "outputs": [],
   "source": [
    "# Create Month Name Column\n",
    "uber_2014.loc[uber_2014.Month == '4','MonthName'] = 'April'\n",
    "uber_2014.loc[uber_2014.Month == '5','MonthName'] = 'May'\n",
    "uber_2014.loc[uber_2014.Month == '6','MonthName'] = 'June'\n",
    "uber_2014.loc[uber_2014.Month == '7','MonthName'] = 'July'\n",
    "uber_2014.loc[uber_2014.Month == '8','MonthName'] = 'August'\n",
    "uber_2014.loc[uber_2014.Month == '9','MonthName'] = 'September'"
   ]
  },
  {
   "cell_type": "code",
   "execution_count": 129,
   "metadata": {},
   "outputs": [
    {
     "data": {
      "text/html": [
       "<div>\n",
       "<style scoped>\n",
       "    .dataframe tbody tr th:only-of-type {\n",
       "        vertical-align: middle;\n",
       "    }\n",
       "\n",
       "    .dataframe tbody tr th {\n",
       "        vertical-align: top;\n",
       "    }\n",
       "\n",
       "    .dataframe thead th {\n",
       "        text-align: right;\n",
       "    }\n",
       "</style>\n",
       "<table border=\"1\" class=\"dataframe\">\n",
       "  <thead>\n",
       "    <tr style=\"text-align: right;\">\n",
       "      <th></th>\n",
       "      <th>DateTime</th>\n",
       "      <th>Lat</th>\n",
       "      <th>Lon</th>\n",
       "      <th>Type</th>\n",
       "      <th>Hour</th>\n",
       "      <th>Month</th>\n",
       "      <th>MonthName</th>\n",
       "    </tr>\n",
       "  </thead>\n",
       "  <tbody>\n",
       "    <tr>\n",
       "      <th>0</th>\n",
       "      <td>4/1/2014 0:11:00</td>\n",
       "      <td>40.7690</td>\n",
       "      <td>-73.9549</td>\n",
       "      <td>Uber</td>\n",
       "      <td>0</td>\n",
       "      <td>4</td>\n",
       "      <td>April</td>\n",
       "    </tr>\n",
       "    <tr>\n",
       "      <th>1</th>\n",
       "      <td>4/1/2014 0:17:00</td>\n",
       "      <td>40.7267</td>\n",
       "      <td>-74.0345</td>\n",
       "      <td>Uber</td>\n",
       "      <td>0</td>\n",
       "      <td>4</td>\n",
       "      <td>April</td>\n",
       "    </tr>\n",
       "    <tr>\n",
       "      <th>2</th>\n",
       "      <td>4/1/2014 0:21:00</td>\n",
       "      <td>40.7316</td>\n",
       "      <td>-73.9873</td>\n",
       "      <td>Uber</td>\n",
       "      <td>0</td>\n",
       "      <td>4</td>\n",
       "      <td>April</td>\n",
       "    </tr>\n",
       "    <tr>\n",
       "      <th>3</th>\n",
       "      <td>4/1/2014 0:28:00</td>\n",
       "      <td>40.7588</td>\n",
       "      <td>-73.9776</td>\n",
       "      <td>Uber</td>\n",
       "      <td>0</td>\n",
       "      <td>4</td>\n",
       "      <td>April</td>\n",
       "    </tr>\n",
       "    <tr>\n",
       "      <th>4</th>\n",
       "      <td>4/1/2014 0:33:00</td>\n",
       "      <td>40.7594</td>\n",
       "      <td>-73.9722</td>\n",
       "      <td>Uber</td>\n",
       "      <td>0</td>\n",
       "      <td>4</td>\n",
       "      <td>April</td>\n",
       "    </tr>\n",
       "  </tbody>\n",
       "</table>\n",
       "</div>"
      ],
      "text/plain": [
       "           DateTime      Lat      Lon  Type  Hour Month MonthName\n",
       "0  4/1/2014 0:11:00  40.7690 -73.9549  Uber     0     4     April\n",
       "1  4/1/2014 0:17:00  40.7267 -74.0345  Uber     0     4     April\n",
       "2  4/1/2014 0:21:00  40.7316 -73.9873  Uber     0     4     April\n",
       "3  4/1/2014 0:28:00  40.7588 -73.9776  Uber     0     4     April\n",
       "4  4/1/2014 0:33:00  40.7594 -73.9722  Uber     0     4     April"
      ]
     },
     "execution_count": 129,
     "metadata": {},
     "output_type": "execute_result"
    }
   ],
   "source": [
    "# Check\n",
    "uber_2014.head()\n",
    "#uber_2014.MonthName.unique()"
   ]
  },
  {
   "cell_type": "code",
   "execution_count": 70,
   "metadata": {},
   "outputs": [
    {
     "name": "stdout",
     "output_type": "stream",
     "text": [
      "September    1028136\n",
      "August        829275\n",
      "July          796121\n",
      "June          663844\n",
      "May           652435\n",
      "April         564516\n",
      "Name: MonthName, dtype: int64\n"
     ]
    }
   ],
   "source": [
    "print(uber_2014['MonthName'].value_counts())"
   ]
  },
  {
   "cell_type": "code",
   "execution_count": null,
   "metadata": {},
   "outputs": [],
   "source": []
  },
  {
   "cell_type": "code",
   "execution_count": null,
   "metadata": {},
   "outputs": [],
   "source": [
    "# Import NYC Taxi data via API call"
   ]
  },
  {
   "cell_type": "code",
   "execution_count": null,
   "metadata": {},
   "outputs": [],
   "source": [
    "import requests\n",
    "import json"
   ]
  },
  {
   "cell_type": "code",
   "execution_count": null,
   "metadata": {},
   "outputs": [],
   "source": [
    "#!pip install sodapy\n",
    "from sodapy import Socrata"
   ]
  },
  {
   "cell_type": "code",
   "execution_count": null,
   "metadata": {},
   "outputs": [],
   "source": [
    "# If API Token is needed:\n",
    "\n",
    "#Name: NYC_Picks\n",
    "#Description: MUSA620-Project\n",
    "#App Token: Jh3PX6F3BDgnCmENslklEj3iZ"
   ]
  },
  {
   "cell_type": "code",
   "execution_count": null,
   "metadata": {},
   "outputs": [],
   "source": [
    "#takes about +/- 5~10 minutes\n",
    "#source: https://dev.socrata.com/foundry/data.cityofnewyork.us/gkne-dk5s\n",
    "\n",
    "# Unauthenticated client only works with public data sets. Note 'None' in place of application token, and no username or password:\n",
    "client = Socrata(\"data.cityofnewyork.us\", None)\n",
    "\n",
    "# Get 4.5M results (~similar to uber_2014), returned as JSON from API / converted to Python list of dictionaries by sodapy.\n",
    "results = client.get(\"gkne-dk5s\", select=\"vendor_id, pickup_datetime, pickup_longitude, pickup_latitude\",where=\"pickup_datetime between '2014-04-01T00:00:00.000' and '2014-10-01T00:00:00.000'\",limit=4500000)\n",
    "\n",
    "\n",
    "# Convert to pandas DataFrame\n",
    "results_df = pd.DataFrame.from_records(results)"
   ]
  },
  {
   "cell_type": "code",
   "execution_count": null,
   "metadata": {},
   "outputs": [],
   "source": [
    "taxi_2014 = results_df"
   ]
  },
  {
   "cell_type": "code",
   "execution_count": null,
   "metadata": {},
   "outputs": [],
   "source": [
    "taxi_2014.head()"
   ]
  },
  {
   "cell_type": "code",
   "execution_count": null,
   "metadata": {},
   "outputs": [],
   "source": [
    "# Rename columns(Date/Time to DateTime)\n",
    "taxi_2014.columns = ['DateTime', 'Lat', 'Lon', 'Vendor_ID']"
   ]
  },
  {
   "cell_type": "code",
   "execution_count": null,
   "metadata": {},
   "outputs": [],
   "source": [
    "# Add Type Column\n",
    "taxi_2014['Type'] = 'Taxi'"
   ]
  },
  {
   "cell_type": "code",
   "execution_count": null,
   "metadata": {},
   "outputs": [],
   "source": [
    "# Add Hour Column\n",
    "taxi_2014['Hour'] = taxi_2014['DateTime'].str[11:13]\n",
    "\n",
    "# Check\n",
    "taxi_2014.head()\n",
    "#taxi_2014.Hour.unique()"
   ]
  },
  {
   "cell_type": "code",
   "execution_count": null,
   "metadata": {},
   "outputs": [],
   "source": [
    "# Select Columns of Interest\n",
    "taxi_cols = ['DateTime', 'Lat', 'Lon', 'Type', 'Hour']\n",
    "taxi_2014 = taxi_2014[taxi_cols]\n",
    "\n",
    "taxi_2014.head()"
   ]
  },
  {
   "cell_type": "code",
   "execution_count": 134,
   "metadata": {},
   "outputs": [
    {
     "data": {
      "text/html": [
       "<div>\n",
       "<style scoped>\n",
       "    .dataframe tbody tr th:only-of-type {\n",
       "        vertical-align: middle;\n",
       "    }\n",
       "\n",
       "    .dataframe tbody tr th {\n",
       "        vertical-align: top;\n",
       "    }\n",
       "\n",
       "    .dataframe thead th {\n",
       "        text-align: right;\n",
       "    }\n",
       "</style>\n",
       "<table border=\"1\" class=\"dataframe\">\n",
       "  <thead>\n",
       "    <tr style=\"text-align: right;\">\n",
       "      <th></th>\n",
       "      <th>DateTime</th>\n",
       "      <th>Lat</th>\n",
       "      <th>Lon</th>\n",
       "      <th>Type</th>\n",
       "      <th>Hour</th>\n",
       "      <th>HourCount</th>\n",
       "      <th>Month</th>\n",
       "    </tr>\n",
       "  </thead>\n",
       "  <tbody>\n",
       "    <tr>\n",
       "      <th>0</th>\n",
       "      <td>2014-09-18T11:01:57.000</td>\n",
       "      <td>40.76858</td>\n",
       "      <td>-73.986421000000007</td>\n",
       "      <td>Taxi</td>\n",
       "      <td>11</td>\n",
       "      <td>0</td>\n",
       "      <td>9</td>\n",
       "    </tr>\n",
       "    <tr>\n",
       "      <th>1</th>\n",
       "      <td>2014-06-14T12:00:00.000</td>\n",
       "      <td>40.761612</td>\n",
       "      <td>-73.990184999999997</td>\n",
       "      <td>Taxi</td>\n",
       "      <td>12</td>\n",
       "      <td>0</td>\n",
       "      <td>6</td>\n",
       "    </tr>\n",
       "    <tr>\n",
       "      <th>2</th>\n",
       "      <td>2014-09-24T10:10:23.000</td>\n",
       "      <td>40.739195000000002</td>\n",
       "      <td>-73.995242000000005</td>\n",
       "      <td>Taxi</td>\n",
       "      <td>10</td>\n",
       "      <td>0</td>\n",
       "      <td>9</td>\n",
       "    </tr>\n",
       "    <tr>\n",
       "      <th>3</th>\n",
       "      <td>2014-07-15T02:10:17.000</td>\n",
       "      <td>40.771959000000003</td>\n",
       "      <td>-73.952869000000007</td>\n",
       "      <td>Taxi</td>\n",
       "      <td>02</td>\n",
       "      <td>0</td>\n",
       "      <td>7</td>\n",
       "    </tr>\n",
       "    <tr>\n",
       "      <th>4</th>\n",
       "      <td>2014-04-16T20:39:38.000</td>\n",
       "      <td>40.774340000000002</td>\n",
       "      <td>-73.981078999999994</td>\n",
       "      <td>Taxi</td>\n",
       "      <td>20</td>\n",
       "      <td>0</td>\n",
       "      <td>4</td>\n",
       "    </tr>\n",
       "  </tbody>\n",
       "</table>\n",
       "</div>"
      ],
      "text/plain": [
       "                  DateTime                 Lat                  Lon  Type  \\\n",
       "0  2014-09-18T11:01:57.000            40.76858  -73.986421000000007  Taxi   \n",
       "1  2014-06-14T12:00:00.000           40.761612  -73.990184999999997  Taxi   \n",
       "2  2014-09-24T10:10:23.000  40.739195000000002  -73.995242000000005  Taxi   \n",
       "3  2014-07-15T02:10:17.000  40.771959000000003  -73.952869000000007  Taxi   \n",
       "4  2014-04-16T20:39:38.000  40.774340000000002  -73.981078999999994  Taxi   \n",
       "\n",
       "  Hour  HourCount  Month  \n",
       "0   11          0      9  \n",
       "1   12          0      6  \n",
       "2   10          0      9  \n",
       "3   02          0      7  \n",
       "4   20          0      4  "
      ]
     },
     "execution_count": 134,
     "metadata": {},
     "output_type": "execute_result"
    }
   ],
   "source": [
    "# Create Month Column\n",
    "taxi_2014['Month']=taxi_2014['DateTime'].str[5:7]\n",
    "taxi_2014.Month=taxi_2014.Month.astype(int)\n",
    "\n",
    "# Check\n",
    "taxi_2014.head()\n",
    "#taxi_2014.Month.unique()"
   ]
  },
  {
   "cell_type": "code",
   "execution_count": null,
   "metadata": {},
   "outputs": [],
   "source": [
    "# Create Month Name Column\n",
    "taxi_2014.loc[taxi_2014.Month == '4','MonthName'] = 'April'\n",
    "taxi_2014.loc[taxi_2014.Month == '5','MonthName'] = 'May'\n",
    "taxi_2014.loc[taxi_2014.Month == '6','MonthName'] = 'June'\n",
    "taxi_2014.loc[taxi_2014.Month == '7','MonthName'] = 'July'\n",
    "taxi_2014.loc[taxi_2014.Month == '8','MonthName'] = 'August'\n",
    "taxi_2014.loc[taxi_2014.Month == '9','MonthName'] = 'September'"
   ]
  },
  {
   "cell_type": "code",
   "execution_count": null,
   "metadata": {},
   "outputs": [],
   "source": [
    "# Check\n",
    "taxi_2014.head()\n",
    "#taxi_2014.MonthName.unique()"
   ]
  },
  {
   "cell_type": "code",
   "execution_count": null,
   "metadata": {},
   "outputs": [],
   "source": [
    "print(taxi_2014['MonthName'].value_counts())"
   ]
  },
  {
   "cell_type": "code",
   "execution_count": null,
   "metadata": {},
   "outputs": [],
   "source": []
  },
  {
   "cell_type": "code",
   "execution_count": null,
   "metadata": {},
   "outputs": [],
   "source": [
    "temp=taxi_2014\n",
    "temp.head()"
   ]
  },
  {
   "cell_type": "code",
   "execution_count": null,
   "metadata": {},
   "outputs": [],
   "source": [
    "temp['Lat2']=temp['Lat']\n",
    "temp=temp.round(decimals=0, *args, **kwargs)"
   ]
  },
  {
   "cell_type": "code",
   "execution_count": null,
   "metadata": {},
   "outputs": [],
   "source": []
  },
  {
   "cell_type": "code",
   "execution_count": null,
   "metadata": {},
   "outputs": [],
   "source": [
    "# Comparing Uber vs Taxi Count Trips Between April - September 2014"
   ]
  },
  {
   "cell_type": "code",
   "execution_count": null,
   "metadata": {},
   "outputs": [],
   "source": [
    "# Combine Uber and Taxi\n",
    "\n",
    "# make copies first\n",
    "uber_byMonth = uber_2014\n",
    "taxi_byMonth = taxi_2014"
   ]
  },
  {
   "cell_type": "code",
   "execution_count": null,
   "metadata": {},
   "outputs": [],
   "source": [
    "# Append, ignore index\n",
    "uber_taxi_byMonth = uber_byMonth.append(taxi_byMonth, ignore_index=True)\n",
    "uber_taxi_byMonth"
   ]
  },
  {
   "cell_type": "code",
   "execution_count": null,
   "metadata": {},
   "outputs": [],
   "source": [
    "import seaborn as sns\n",
    "import altair as alt\n",
    "alt.renderers.enable('notebook')"
   ]
  },
  {
   "cell_type": "code",
   "execution_count": null,
   "metadata": {},
   "outputs": [],
   "source": [
    "# Groupby Month and Type to get Montly pickup counts for each type of transportation\n",
    "uber_taxi_byMonth['MonthCount']=0\n",
    "uber_taxi_byMonth=uber_taxi_byMonth.groupby(['Month','Type'])['MonthCount'].count()\n",
    "uber_taxi_byMonth"
   ]
  },
  {
   "cell_type": "code",
   "execution_count": null,
   "metadata": {},
   "outputs": [],
   "source": [
    "# Reset Index\n",
    "uber_taxi_byMonth = uber_taxi_byMonth.reset_index()\n",
    "uber_taxi_byMonth #should have 24 hours, 2 types - total of 48 rows"
   ]
  },
  {
   "cell_type": "code",
   "execution_count": null,
   "metadata": {},
   "outputs": [],
   "source": [
    "# Line Graph Ordered by Month Name does not work - limitations of Altair\n",
    "\n",
    "# https://github.com/altair-viz/altair/issues/961\n",
    "# https://github.com/vega/vega-lite/issues/1520\n",
    "\n",
    "months=[\"April\", \"May\", \"June\", \"July\", \"August\", \"September\"]\n",
    "\n",
    "alt.Chart(uber_byMonth).mark_line().encode(\n",
    "    x=alt.X('MonthName:N', sort=months),\n",
    "    y='Count:Q',\n",
    "    color='Type:N',\n",
    ").properties(\n",
    "    width=800\n",
    ")"
   ]
  },
  {
   "cell_type": "code",
   "execution_count": null,
   "metadata": {},
   "outputs": [],
   "source": [
    "# Workaround: Order by Month Number"
   ]
  },
  {
   "cell_type": "code",
   "execution_count": null,
   "metadata": {},
   "outputs": [],
   "source": [
    "# Line Plot of Pick Up Counts by Month by Type with Interactive Bar Plot on the bottom\n",
    "\n",
    "brush = alt.selection(type='interval')\n",
    "\n",
    "# top line graph\n",
    "points = alt.Chart(uber_taxi_byMonth).mark_line().encode(\n",
    "    x='Month:N',\n",
    "    y='MonthCount:Q', \n",
    "    color='Type:N',\n",
    "    tooltip=['Month:Q']\n",
    ").properties(\n",
    "    selection=brush,\n",
    "    width=800\n",
    ")\n",
    "\n",
    "# the bottom bar plot\n",
    "bars = alt.Chart().mark_bar().encode(\n",
    "    y='Type:N',\n",
    "    color='Type:N',\n",
    "    x='Count:Q'\n",
    ").transform_filter(\n",
    "    brush.ref() # the filter transform uses the selection\n",
    "                # to filter the input data to this chart\n",
    ").properties(\n",
    "width=800\n",
    ")\n",
    "\n",
    "chart = alt.vconcat(points, bars, data=uber_taxi_byMonth) # vertical stacking\n",
    "chart"
   ]
  },
  {
   "cell_type": "code",
   "execution_count": null,
   "metadata": {},
   "outputs": [],
   "source": [
    "# Save to later embed in HMTL file\n",
    "chart.save(\"uber_taxi_byMonth_chart.html\")"
   ]
  },
  {
   "cell_type": "code",
   "execution_count": null,
   "metadata": {},
   "outputs": [],
   "source": []
  },
  {
   "cell_type": "code",
   "execution_count": null,
   "metadata": {},
   "outputs": [],
   "source": []
  },
  {
   "cell_type": "code",
   "execution_count": null,
   "metadata": {},
   "outputs": [],
   "source": []
  },
  {
   "cell_type": "code",
   "execution_count": null,
   "metadata": {},
   "outputs": [],
   "source": []
  },
  {
   "cell_type": "code",
   "execution_count": null,
   "metadata": {},
   "outputs": [],
   "source": [
    "#TEST"
   ]
  },
  {
   "cell_type": "code",
   "execution_count": 72,
   "metadata": {},
   "outputs": [],
   "source": [
    "months=[\"April\", \"May\", \"June\", \"July\", \"August\", \"September\"]"
   ]
  },
  {
   "cell_type": "code",
   "execution_count": 88,
   "metadata": {},
   "outputs": [
    {
     "data": {
      "text/plain": [
       "Month  Type\n",
       "4      Uber     564516\n",
       "5      Uber     652435\n",
       "6      Uber     663844\n",
       "7      Uber     796121\n",
       "8      Uber     829275\n",
       "9      Uber    1028136\n",
       "Name: MonthCount, dtype: int64"
      ]
     },
     "execution_count": 88,
     "metadata": {},
     "output_type": "execute_result"
    }
   ],
   "source": [
    "temp = uber_2014\n",
    "temp['MonthCount']=0\n",
    "temp=temp.groupby(['Month','Type'])['MonthCount'].count()\n",
    "temp"
   ]
  },
  {
   "cell_type": "code",
   "execution_count": 89,
   "metadata": {},
   "outputs": [
    {
     "data": {
      "text/html": [
       "<div>\n",
       "<style scoped>\n",
       "    .dataframe tbody tr th:only-of-type {\n",
       "        vertical-align: middle;\n",
       "    }\n",
       "\n",
       "    .dataframe tbody tr th {\n",
       "        vertical-align: top;\n",
       "    }\n",
       "\n",
       "    .dataframe thead th {\n",
       "        text-align: right;\n",
       "    }\n",
       "</style>\n",
       "<table border=\"1\" class=\"dataframe\">\n",
       "  <thead>\n",
       "    <tr style=\"text-align: right;\">\n",
       "      <th></th>\n",
       "      <th>Month</th>\n",
       "      <th>Type</th>\n",
       "      <th>MonthCount</th>\n",
       "    </tr>\n",
       "  </thead>\n",
       "  <tbody>\n",
       "    <tr>\n",
       "      <th>0</th>\n",
       "      <td>4</td>\n",
       "      <td>Uber</td>\n",
       "      <td>564516</td>\n",
       "    </tr>\n",
       "    <tr>\n",
       "      <th>1</th>\n",
       "      <td>5</td>\n",
       "      <td>Uber</td>\n",
       "      <td>652435</td>\n",
       "    </tr>\n",
       "    <tr>\n",
       "      <th>2</th>\n",
       "      <td>6</td>\n",
       "      <td>Uber</td>\n",
       "      <td>663844</td>\n",
       "    </tr>\n",
       "    <tr>\n",
       "      <th>3</th>\n",
       "      <td>7</td>\n",
       "      <td>Uber</td>\n",
       "      <td>796121</td>\n",
       "    </tr>\n",
       "    <tr>\n",
       "      <th>4</th>\n",
       "      <td>8</td>\n",
       "      <td>Uber</td>\n",
       "      <td>829275</td>\n",
       "    </tr>\n",
       "    <tr>\n",
       "      <th>5</th>\n",
       "      <td>9</td>\n",
       "      <td>Uber</td>\n",
       "      <td>1028136</td>\n",
       "    </tr>\n",
       "  </tbody>\n",
       "</table>\n",
       "</div>"
      ],
      "text/plain": [
       "  Month  Type  MonthCount\n",
       "0     4  Uber      564516\n",
       "1     5  Uber      652435\n",
       "2     6  Uber      663844\n",
       "3     7  Uber      796121\n",
       "4     8  Uber      829275\n",
       "5     9  Uber     1028136"
      ]
     },
     "execution_count": 89,
     "metadata": {},
     "output_type": "execute_result"
    }
   ],
   "source": [
    "\n",
    "temp = temp.reset_index()\n",
    "temp"
   ]
  },
  {
   "cell_type": "code",
   "execution_count": 91,
   "metadata": {},
   "outputs": [
    {
     "data": {
      "text/html": [
       "<div class=\"vega-embed\" id=\"e87b50fe-8a65-4ab0-86d7-68bcc8b8e0a0\"></div>\n",
       "\n",
       "<style>\n",
       ".vega-embed .error p {\n",
       "    color: firebrick;\n",
       "    font-size: 14px;\n",
       "}\n",
       "</style>\n"
      ]
     },
     "metadata": {
      "jupyter-vega": "#e87b50fe-8a65-4ab0-86d7-68bcc8b8e0a0"
     },
     "output_type": "display_data"
    },
    {
     "data": {
      "application/javascript": [
       "var spec = {\"config\": {\"view\": {\"width\": 400, \"height\": 300}}, \"data\": {\"name\": \"data-c9afa919cbe1e8e82a1f58c3a3c8f754\"}, \"mark\": \"line\", \"encoding\": {\"color\": {\"type\": \"nominal\", \"field\": \"Type\"}, \"tooltip\": [{\"type\": \"quantitative\", \"field\": \"Month\"}], \"x\": {\"type\": \"nominal\", \"field\": \"Month\"}, \"y\": {\"type\": \"quantitative\", \"field\": \"MonthCount\"}}, \"width\": 800, \"$schema\": \"https://vega.github.io/schema/vega-lite/v2.6.0.json\", \"datasets\": {\"data-c9afa919cbe1e8e82a1f58c3a3c8f754\": [{\"Month\": \"4\", \"Type\": \"Uber\", \"MonthCount\": 564516}, {\"Month\": \"5\", \"Type\": \"Uber\", \"MonthCount\": 652435}, {\"Month\": \"6\", \"Type\": \"Uber\", \"MonthCount\": 663844}, {\"Month\": \"7\", \"Type\": \"Uber\", \"MonthCount\": 796121}, {\"Month\": \"8\", \"Type\": \"Uber\", \"MonthCount\": 829275}, {\"Month\": \"9\", \"Type\": \"Uber\", \"MonthCount\": 1028136}]}};\n",
       "var opt = {};\n",
       "var selector = \"#e87b50fe-8a65-4ab0-86d7-68bcc8b8e0a0\";\n",
       "var type = \"vega-lite\";\n",
       "\n",
       "var output_area = this;\n",
       "\n",
       "require(['nbextensions/jupyter-vega/index'], function(vega) {\n",
       "  vega.render(selector, spec, type, opt, output_area);\n",
       "}, function (err) {\n",
       "  if (err.requireType !== 'scripterror') {\n",
       "    throw(err);\n",
       "  }\n",
       "});\n"
      ]
     },
     "metadata": {
      "jupyter-vega": "#e87b50fe-8a65-4ab0-86d7-68bcc8b8e0a0"
     },
     "output_type": "display_data"
    },
    {
     "data": {
      "text/plain": []
     },
     "execution_count": 91,
     "metadata": {},
     "output_type": "execute_result"
    },
    {
     "data": {
      "image/png": "[encoded data removed]"
     },
     "metadata": {
      "jupyter-vega": "#e87b50fe-8a65-4ab0-86d7-68bcc8b8e0a0"
     },
     "output_type": "display_data"
    }
   ],
   "source": [
    "\n",
    "alt.Chart(temp).mark_line().encode(\n",
    "    x='Month:N',\n",
    "    y='MonthCount:Q', \n",
    "    color='Type:N',\n",
    "    tooltip=['Month:Q']\n",
    ").properties(\n",
    "    width=800\n",
    ")\n"
   ]
  },
  {
   "cell_type": "code",
   "execution_count": 109,
   "metadata": {},
   "outputs": [
    {
     "data": {
      "text/html": [
       "<div>\n",
       "<style scoped>\n",
       "    .dataframe tbody tr th:only-of-type {\n",
       "        vertical-align: middle;\n",
       "    }\n",
       "\n",
       "    .dataframe tbody tr th {\n",
       "        vertical-align: top;\n",
       "    }\n",
       "\n",
       "    .dataframe thead th {\n",
       "        text-align: right;\n",
       "    }\n",
       "</style>\n",
       "<table border=\"1\" class=\"dataframe\">\n",
       "  <thead>\n",
       "    <tr style=\"text-align: right;\">\n",
       "      <th></th>\n",
       "      <th>DateTime</th>\n",
       "      <th>Lat</th>\n",
       "      <th>Lon</th>\n",
       "      <th>Type</th>\n",
       "      <th>Hour</th>\n",
       "      <th>Month</th>\n",
       "      <th>MonthName</th>\n",
       "      <th>HourCount</th>\n",
       "      <th>MonthCount</th>\n",
       "      <th>Count</th>\n",
       "    </tr>\n",
       "  </thead>\n",
       "  <tbody>\n",
       "    <tr>\n",
       "      <th>0</th>\n",
       "      <td>4/1/2014 0:11:00</td>\n",
       "      <td>40.7690</td>\n",
       "      <td>-73.9549</td>\n",
       "      <td>Uber</td>\n",
       "      <td>0</td>\n",
       "      <td>4</td>\n",
       "      <td>April</td>\n",
       "      <td>0</td>\n",
       "      <td>0</td>\n",
       "      <td>0</td>\n",
       "    </tr>\n",
       "    <tr>\n",
       "      <th>1</th>\n",
       "      <td>4/1/2014 0:17:00</td>\n",
       "      <td>40.7267</td>\n",
       "      <td>-74.0345</td>\n",
       "      <td>Uber</td>\n",
       "      <td>0</td>\n",
       "      <td>4</td>\n",
       "      <td>April</td>\n",
       "      <td>0</td>\n",
       "      <td>0</td>\n",
       "      <td>0</td>\n",
       "    </tr>\n",
       "    <tr>\n",
       "      <th>2</th>\n",
       "      <td>4/1/2014 0:21:00</td>\n",
       "      <td>40.7316</td>\n",
       "      <td>-73.9873</td>\n",
       "      <td>Uber</td>\n",
       "      <td>0</td>\n",
       "      <td>4</td>\n",
       "      <td>April</td>\n",
       "      <td>0</td>\n",
       "      <td>0</td>\n",
       "      <td>0</td>\n",
       "    </tr>\n",
       "    <tr>\n",
       "      <th>3</th>\n",
       "      <td>4/1/2014 0:28:00</td>\n",
       "      <td>40.7588</td>\n",
       "      <td>-73.9776</td>\n",
       "      <td>Uber</td>\n",
       "      <td>0</td>\n",
       "      <td>4</td>\n",
       "      <td>April</td>\n",
       "      <td>0</td>\n",
       "      <td>0</td>\n",
       "      <td>0</td>\n",
       "    </tr>\n",
       "    <tr>\n",
       "      <th>4</th>\n",
       "      <td>4/1/2014 0:33:00</td>\n",
       "      <td>40.7594</td>\n",
       "      <td>-73.9722</td>\n",
       "      <td>Uber</td>\n",
       "      <td>0</td>\n",
       "      <td>4</td>\n",
       "      <td>April</td>\n",
       "      <td>0</td>\n",
       "      <td>0</td>\n",
       "      <td>0</td>\n",
       "    </tr>\n",
       "  </tbody>\n",
       "</table>\n",
       "</div>"
      ],
      "text/plain": [
       "           DateTime      Lat      Lon  Type  Hour Month MonthName  HourCount  \\\n",
       "0  4/1/2014 0:11:00  40.7690 -73.9549  Uber     0     4     April          0   \n",
       "1  4/1/2014 0:17:00  40.7267 -74.0345  Uber     0     4     April          0   \n",
       "2  4/1/2014 0:21:00  40.7316 -73.9873  Uber     0     4     April          0   \n",
       "3  4/1/2014 0:28:00  40.7588 -73.9776  Uber     0     4     April          0   \n",
       "4  4/1/2014 0:33:00  40.7594 -73.9722  Uber     0     4     April          0   \n",
       "\n",
       "   MonthCount  Count  \n",
       "0           0      0  \n",
       "1           0      0  \n",
       "2           0      0  \n",
       "3           0      0  \n",
       "4           0      0  "
      ]
     },
     "execution_count": 109,
     "metadata": {},
     "output_type": "execute_result"
    }
   ],
   "source": [
    "#to order by month name\n",
    "temp=uber_2014\n",
    "months=[\"April\", \"May\", \"June\", \"July\", \"August\", \"September\"]\n",
    "temp['MonthName'] = pd.Categorical(temp['MonthName'],categories=months, ordered=True)\n",
    "#temp.sort_values(\"MonthName\")\n",
    "temp.head()\n",
    "\n"
   ]
  },
  {
   "cell_type": "code",
   "execution_count": 110,
   "metadata": {},
   "outputs": [
    {
     "name": "stdout",
     "output_type": "stream",
     "text": [
      "<class 'pandas.core.series.Series'>\n"
     ]
    }
   ],
   "source": [
    "# Group by Month to get count per month\n",
    "uber_byMonth = temp\n",
    "uber_byMonth['Count'] = 0\n",
    "uber_byMonth = temp.groupby(['MonthName'])['Count'].count()\n",
    "print(type(uber_byMonth))\n"
   ]
  },
  {
   "cell_type": "code",
   "execution_count": null,
   "metadata": {},
   "outputs": [],
   "source": []
  },
  {
   "cell_type": "code",
   "execution_count": 111,
   "metadata": {},
   "outputs": [],
   "source": [
    "\n",
    "#uber_byMonth.head()\n",
    "uber_byMonth = uber_byMonth.reset_index()\n",
    "\n",
    "\n",
    "uber_byMonth['Type']='Uber'"
   ]
  },
  {
   "cell_type": "code",
   "execution_count": 112,
   "metadata": {},
   "outputs": [
    {
     "data": {
      "text/html": [
       "<div>\n",
       "<style scoped>\n",
       "    .dataframe tbody tr th:only-of-type {\n",
       "        vertical-align: middle;\n",
       "    }\n",
       "\n",
       "    .dataframe tbody tr th {\n",
       "        vertical-align: top;\n",
       "    }\n",
       "\n",
       "    .dataframe thead th {\n",
       "        text-align: right;\n",
       "    }\n",
       "</style>\n",
       "<table border=\"1\" class=\"dataframe\">\n",
       "  <thead>\n",
       "    <tr style=\"text-align: right;\">\n",
       "      <th></th>\n",
       "      <th>MonthName</th>\n",
       "      <th>Count</th>\n",
       "      <th>Type</th>\n",
       "    </tr>\n",
       "  </thead>\n",
       "  <tbody>\n",
       "    <tr>\n",
       "      <th>0</th>\n",
       "      <td>April</td>\n",
       "      <td>564516</td>\n",
       "      <td>Uber</td>\n",
       "    </tr>\n",
       "    <tr>\n",
       "      <th>1</th>\n",
       "      <td>May</td>\n",
       "      <td>652435</td>\n",
       "      <td>Uber</td>\n",
       "    </tr>\n",
       "    <tr>\n",
       "      <th>2</th>\n",
       "      <td>June</td>\n",
       "      <td>663844</td>\n",
       "      <td>Uber</td>\n",
       "    </tr>\n",
       "    <tr>\n",
       "      <th>3</th>\n",
       "      <td>July</td>\n",
       "      <td>796121</td>\n",
       "      <td>Uber</td>\n",
       "    </tr>\n",
       "    <tr>\n",
       "      <th>4</th>\n",
       "      <td>August</td>\n",
       "      <td>829275</td>\n",
       "      <td>Uber</td>\n",
       "    </tr>\n",
       "    <tr>\n",
       "      <th>5</th>\n",
       "      <td>September</td>\n",
       "      <td>1028136</td>\n",
       "      <td>Uber</td>\n",
       "    </tr>\n",
       "  </tbody>\n",
       "</table>\n",
       "</div>"
      ],
      "text/plain": [
       "   MonthName    Count  Type\n",
       "0      April   564516  Uber\n",
       "1        May   652435  Uber\n",
       "2       June   663844  Uber\n",
       "3       July   796121  Uber\n",
       "4     August   829275  Uber\n",
       "5  September  1028136  Uber"
      ]
     },
     "execution_count": 112,
     "metadata": {},
     "output_type": "execute_result"
    }
   ],
   "source": [
    "uber_byMonth"
   ]
  },
  {
   "cell_type": "code",
   "execution_count": 116,
   "metadata": {},
   "outputs": [
    {
     "data": {
      "text/html": [
       "<div class=\"vega-embed\" id=\"294168ca-82c5-46f4-b945-afaba3793268\"></div>\n",
       "\n",
       "<style>\n",
       ".vega-embed .error p {\n",
       "    color: firebrick;\n",
       "    font-size: 14px;\n",
       "}\n",
       "</style>\n"
      ]
     },
     "metadata": {
      "jupyter-vega": "#294168ca-82c5-46f4-b945-afaba3793268"
     },
     "output_type": "display_data"
    },
    {
     "data": {
      "application/javascript": [
       "var spec = {\"config\": {\"view\": {\"width\": 400, \"height\": 300}}, \"data\": {\"name\": \"data-4d3d61fc104c0229a88afb34eb3a8f77\"}, \"mark\": \"line\", \"encoding\": {\"color\": {\"type\": \"nominal\", \"field\": \"Type\"}, \"x\": {\"type\": \"nominal\", \"field\": \"MonthName\", \"sort\": [\"April\", \"May\", \"June\", \"July\", \"August\", \"September\"]}, \"y\": {\"type\": \"quantitative\", \"field\": \"Count\", \"sort\": [564516, 652435, 663844, 796121, 829275, 1028136]}}, \"width\": 800, \"$schema\": \"https://vega.github.io/schema/vega-lite/v2.6.0.json\", \"datasets\": {\"data-4d3d61fc104c0229a88afb34eb3a8f77\": [{\"MonthName\": \"April\", \"Count\": 564516, \"Type\": \"Uber\"}, {\"MonthName\": \"May\", \"Count\": 652435, \"Type\": \"Uber\"}, {\"MonthName\": \"June\", \"Count\": 663844, \"Type\": \"Uber\"}, {\"MonthName\": \"July\", \"Count\": 796121, \"Type\": \"Uber\"}, {\"MonthName\": \"August\", \"Count\": 829275, \"Type\": \"Uber\"}, {\"MonthName\": \"September\", \"Count\": 1028136, \"Type\": \"Uber\"}]}};\n",
       "var opt = {};\n",
       "var selector = \"#294168ca-82c5-46f4-b945-afaba3793268\";\n",
       "var type = \"vega-lite\";\n",
       "\n",
       "var output_area = this;\n",
       "\n",
       "require(['nbextensions/jupyter-vega/index'], function(vega) {\n",
       "  vega.render(selector, spec, type, opt, output_area);\n",
       "}, function (err) {\n",
       "  if (err.requireType !== 'scripterror') {\n",
       "    throw(err);\n",
       "  }\n",
       "});\n"
      ]
     },
     "metadata": {
      "jupyter-vega": "#294168ca-82c5-46f4-b945-afaba3793268"
     },
     "output_type": "display_data"
    },
    {
     "data": {
      "text/plain": []
     },
     "execution_count": 116,
     "metadata": {},
     "output_type": "execute_result"
    },
    {
     "data": {
      "image/png": "[encoded data removed]"
     },
     "metadata": {
      "jupyter-vega": "#294168ca-82c5-46f4-b945-afaba3793268"
     },
     "output_type": "display_data"
    }
   ],
   "source": [
    "months=[\"April\", \"May\", \"June\", \"July\", \"August\", \"September\"]\n",
    "\n",
    "alt.Chart(uber_byMonth).mark_line().encode(\n",
    "    x=alt.X('MonthName:N', sort=months),\n",
    "    y='Count:Q',\n",
    "    color='Type:N',\n",
    ").properties(\n",
    "    width=800\n",
    ")"
   ]
  },
  {
   "cell_type": "code",
   "execution_count": null,
   "metadata": {},
   "outputs": [],
   "source": []
  },
  {
   "cell_type": "code",
   "execution_count": null,
   "metadata": {},
   "outputs": [],
   "source": []
  },
  {
   "cell_type": "code",
   "execution_count": null,
   "metadata": {},
   "outputs": [],
   "source": []
  },
  {
   "cell_type": "code",
   "execution_count": null,
   "metadata": {},
   "outputs": [],
   "source": [
    "# Modifying Dataframes"
   ]
  },
  {
   "cell_type": "code",
   "execution_count": null,
   "metadata": {},
   "outputs": [],
   "source": [
    "print(taxi_2014['Month'].value_counts())"
   ]
  },
  {
   "cell_type": "code",
   "execution_count": null,
   "metadata": {},
   "outputs": [],
   "source": [
    "#sum (missing 5?)\n",
    "807456+796865+755445+731852+716026+692351"
   ]
  },
  {
   "cell_type": "code",
   "execution_count": null,
   "metadata": {},
   "outputs": [],
   "source": [
    "#to order by month name\n",
    "#taxi_2014['Month'] = pd.Categorical(taxi_2014['Month'],categories=months, ordered=True)\n",
    "#taxi_2014.sort_values(\"Month\")\n",
    "#taxi_2014.head()"
   ]
  },
  {
   "cell_type": "code",
   "execution_count": null,
   "metadata": {},
   "outputs": [],
   "source": [
    "# Group by Month to get count per month\n",
    "taxi_byMonth = taxi_2014\n",
    "taxi_byMonth['Count'] = 0\n",
    "taxi_byMonth = taxi_2014.groupby(['Month'])['Count'].count()\n",
    "#taxi_byMonth = taxi_2014.groupby(['Month','Type'])['Count'].count()\n",
    "print(type(taxi_byMonth))"
   ]
  },
  {
   "cell_type": "code",
   "execution_count": null,
   "metadata": {},
   "outputs": [],
   "source": [
    "#taxi_byMonth.head()\n",
    "taxi_byMonth = taxi_byMonth.reset_index()\n",
    "taxi_byMonth"
   ]
  },
  {
   "cell_type": "code",
   "execution_count": null,
   "metadata": {},
   "outputs": [],
   "source": []
  },
  {
   "cell_type": "code",
   "execution_count": null,
   "metadata": {},
   "outputs": [],
   "source": []
  },
  {
   "cell_type": "code",
   "execution_count": null,
   "metadata": {},
   "outputs": [],
   "source": []
  },
  {
   "cell_type": "code",
   "execution_count": null,
   "metadata": {},
   "outputs": [],
   "source": []
  },
  {
   "cell_type": "code",
   "execution_count": null,
   "metadata": {},
   "outputs": [],
   "source": [
    "brush = alt.selection(type='interval')\n",
    "\n",
    "# top line graph\n",
    "points = alt.Chart(uber_taxi_byMonth).mark_line().encode(\n",
    "    x= alt.X('Month:N', sort=months),\n",
    "    #x='Month:N',\n",
    "    y='Count:Q', # \n",
    "    color='Type:N',\n",
    "    tooltip=['Count:Q']\n",
    ").properties(\n",
    "    selection=brush,\n",
    "    width=800\n",
    ")\n",
    "\n",
    "# the bottom bar plot\n",
    "bars = alt.Chart().mark_bar().encode(\n",
    "    y='Type:N',\n",
    "    color='Type:N',\n",
    "    x='Count:Q'\n",
    ").transform_filter(\n",
    "    brush.ref() # the filter transform uses the selection\n",
    "                # to filter the input data to this chart\n",
    ").properties(\n",
    "width=800\n",
    ")\n",
    "\n",
    "chart = alt.vconcat(points, bars, data=uber_taxi_byMonth) # vertical stacking\n",
    "chart"
   ]
  },
  {
   "cell_type": "code",
   "execution_count": null,
   "metadata": {},
   "outputs": [],
   "source": []
  },
  {
   "cell_type": "code",
   "execution_count": null,
   "metadata": {},
   "outputs": [],
   "source": []
  },
  {
   "cell_type": "code",
   "execution_count": null,
   "metadata": {},
   "outputs": [],
   "source": [
    "# Taxi and Uber Pick Up Locations"
   ]
  },
  {
   "cell_type": "code",
   "execution_count": null,
   "metadata": {},
   "outputs": [],
   "source": [
    "import osmnx as ox\n",
    "import networkx as nx"
   ]
  },
  {
   "cell_type": "code",
   "execution_count": null,
   "metadata": {},
   "outputs": [],
   "source": [
    "import folium"
   ]
  },
  {
   "cell_type": "code",
   "execution_count": null,
   "metadata": {},
   "outputs": [],
   "source": []
  },
  {
   "cell_type": "code",
   "execution_count": null,
   "metadata": {},
   "outputs": [],
   "source": [
    "# Aggregate by Hour"
   ]
  },
  {
   "cell_type": "code",
   "execution_count": null,
   "metadata": {},
   "outputs": [],
   "source": [
    "# Subset uber data to June\n",
    "\n",
    "uber_jun = uber_2014[uber_2014['Month']=='June']\n",
    "uber_jun.shape[0]"
   ]
  },
  {
   "cell_type": "code",
   "execution_count": null,
   "metadata": {},
   "outputs": [],
   "source": [
    "# Subset taxi data to June\n",
    "\n",
    "taxi_jun = taxi_2014[taxi_2014['Month']=='June']\n",
    "taxi_jun.shape[0]"
   ]
  },
  {
   "cell_type": "code",
   "execution_count": null,
   "metadata": {},
   "outputs": [],
   "source": [
    "# columns of interest\n",
    "columns = ['DateTime', 'Lat', 'Lon', 'Month']\n",
    "\n",
    "uber_jun2 = uber_jun[columns]\n",
    "uber_jun2['Type'] = 'Uber'\n",
    "\n",
    "\n",
    "taxi_jun2 = taxi_jun[columns]\n",
    "taxi_jun2['Type'] = 'Taxi'"
   ]
  },
  {
   "cell_type": "code",
   "execution_count": null,
   "metadata": {},
   "outputs": [],
   "source": [
    "# Hour Column for Uber\n",
    "\n",
    "uber_jun2['Hour']=uber_jun2['DateTime']\n",
    "uber_jun2.head()"
   ]
  },
  {
   "cell_type": "code",
   "execution_count": null,
   "metadata": {},
   "outputs": [],
   "source": [
    "uber_jun2['Hour']=uber_jun2['Hour'].str[9:]\n",
    "uber_jun2['Hour']=uber_jun2['Hour'].str[:-6]\n",
    "uber_jun2.head()"
   ]
  },
  {
   "cell_type": "code",
   "execution_count": null,
   "metadata": {},
   "outputs": [],
   "source": [
    "uber_jun3['Hour'] = pd.to_numeric(uber_jun3['Hour'])"
   ]
  },
  {
   "cell_type": "code",
   "execution_count": null,
   "metadata": {},
   "outputs": [],
   "source": [
    "# Group by Hour\n",
    "\n",
    "uber_jun2['HourCount'] = 0\n",
    "uber_jun3 = uber_jun2.groupby(['Hour'])['HourCount'].count()\n",
    "\n",
    "print(type(uber_jun3))"
   ]
  },
  {
   "cell_type": "code",
   "execution_count": null,
   "metadata": {},
   "outputs": [],
   "source": [
    "uber_jun3.head()"
   ]
  },
  {
   "cell_type": "code",
   "execution_count": null,
   "metadata": {},
   "outputs": [],
   "source": [
    "uber_jun3=uber_jun3.reset_index()\n",
    "\n",
    "uber_jun3.head()"
   ]
  },
  {
   "cell_type": "code",
   "execution_count": null,
   "metadata": {},
   "outputs": [],
   "source": [
    "uber_jun3"
   ]
  },
  {
   "cell_type": "code",
   "execution_count": null,
   "metadata": {},
   "outputs": [],
   "source": []
  },
  {
   "cell_type": "code",
   "execution_count": null,
   "metadata": {},
   "outputs": [],
   "source": []
  },
  {
   "cell_type": "code",
   "execution_count": null,
   "metadata": {},
   "outputs": [],
   "source": []
  },
  {
   "cell_type": "code",
   "execution_count": null,
   "metadata": {},
   "outputs": [],
   "source": [
    "# Group by Hour\n",
    "\n",
    "uber_jun3 = uber_jun2\n",
    "uber_jun3['HourCount'] = 0\n",
    "uber_jun3 = uber_jun2.groupby(['Hour'])['HourCount'].count()\n",
    "\n",
    "print(type(uber_jun3))"
   ]
  },
  {
   "cell_type": "code",
   "execution_count": null,
   "metadata": {},
   "outputs": [],
   "source": []
  },
  {
   "cell_type": "code",
   "execution_count": null,
   "metadata": {},
   "outputs": [],
   "source": [
    "uber_jun3.shape[0]"
   ]
  },
  {
   "cell_type": "code",
   "execution_count": null,
   "metadata": {},
   "outputs": [],
   "source": [
    "uber_jun3"
   ]
  },
  {
   "cell_type": "code",
   "execution_count": null,
   "metadata": {},
   "outputs": [],
   "source": []
  },
  {
   "cell_type": "code",
   "execution_count": null,
   "metadata": {},
   "outputs": [],
   "source": [
    "#combine\n",
    "uber_taxi_june = uber_jun2.append(taxi_jun2, ignore_index=True)\n",
    "uber_taxi_june.shape"
   ]
  },
  {
   "cell_type": "code",
   "execution_count": null,
   "metadata": {},
   "outputs": [],
   "source": [
    "# check correct join\n",
    "uber_jun.shape[0] + taxi_jun.shape[0]"
   ]
  },
  {
   "cell_type": "code",
   "execution_count": null,
   "metadata": {},
   "outputs": [],
   "source": []
  },
  {
   "cell_type": "code",
   "execution_count": null,
   "metadata": {},
   "outputs": [],
   "source": []
  },
  {
   "cell_type": "code",
   "execution_count": null,
   "metadata": {},
   "outputs": [],
   "source": []
  },
  {
   "cell_type": "code",
   "execution_count": null,
   "metadata": {},
   "outputs": [],
   "source": [
    "# center the map on New York and add custom tiles (carto positron)\n",
    "\n",
    "tile_url = 'https://{s}.basemaps.cartocdn.com/light_all/{z}/{x}/{y}{r}.png'\n",
    "attr = '&copy; <a href=\"https://www.openstreetmap.org/copyright\">OpenStreetMap</a> contributors &copy; <a href=\"https://carto.com/attributions\">CARTO</a>'\n",
    "\n",
    "#coordinates in lat and lon\n",
    "m = folium.Map(\n",
    "    location=[40.7128, -74.0060],\n",
    "    zoom_start=13,\n",
    "    tiles=tile_url,\n",
    "    attr=attr\n",
    ")\n",
    "\n",
    "m"
   ]
  },
  {
   "cell_type": "code",
   "execution_count": null,
   "metadata": {},
   "outputs": [],
   "source": []
  },
  {
   "cell_type": "code",
   "execution_count": null,
   "metadata": {},
   "outputs": [],
   "source": [
    "# Taxi and Uber Avg Pick Ups by Hour\n",
    "\n",
    "taxi_byHour = taxi_2014\n",
    "uber_byHour = uber_2014"
   ]
  },
  {
   "cell_type": "code",
   "execution_count": null,
   "metadata": {},
   "outputs": [],
   "source": [
    "# Create Hour Column by copying DateTime column first, then adjusting the string \n",
    "\n",
    "taxi_byHour['Hour']=taxi_byHour['DateTime']\n",
    "taxi_byHour.head()"
   ]
  },
  {
   "cell_type": "code",
   "execution_count": null,
   "metadata": {},
   "outputs": [],
   "source": [
    "# Extract just the hour value\n",
    "for index, point in taxi_byHour.iterrows():\n",
    "    taxi_byHour.loc[index,'Hour'] = point['Hour'][11:13]\n",
    "    \n",
    "taxi_byHour.head()"
   ]
  },
  {
   "cell_type": "code",
   "execution_count": null,
   "metadata": {},
   "outputs": [],
   "source": [
    "# Perform the same with Uber data by Hour\n",
    "uber_byHour['Hour']=uber_byHour['DateTime']\n",
    "uber_byHour.head()\n",
    "\n",
    "for index, point in uber_byHour.iterrows():\n",
    "    uber_byHour.loc[index,'Hour'] = point['Hour'][9:]\n",
    "    \n",
    "uber_byHour.head()"
   ]
  },
  {
   "cell_type": "code",
   "execution_count": null,
   "metadata": {},
   "outputs": [],
   "source": []
  },
  {
   "cell_type": "code",
   "execution_count": null,
   "metadata": {},
   "outputs": [],
   "source": []
  },
  {
   "cell_type": "code",
   "execution_count": null,
   "metadata": {},
   "outputs": [],
   "source": []
  },
  {
   "cell_type": "code",
   "execution_count": null,
   "metadata": {},
   "outputs": [],
   "source": []
  },
  {
   "cell_type": "code",
   "execution_count": null,
   "metadata": {},
   "outputs": [],
   "source": []
  },
  {
   "cell_type": "code",
   "execution_count": null,
   "metadata": {},
   "outputs": [],
   "source": []
  },
  {
   "cell_type": "code",
   "execution_count": null,
   "metadata": {},
   "outputs": [],
   "source": []
  },
  {
   "cell_type": "code",
   "execution_count": null,
   "metadata": {},
   "outputs": [],
   "source": []
  },
  {
   "cell_type": "code",
   "execution_count": null,
   "metadata": {},
   "outputs": [],
   "source": []
  },
  {
   "cell_type": "code",
   "execution_count": null,
   "metadata": {},
   "outputs": [],
   "source": [
    "# Notes\n",
    "\n",
    "#append\n",
    "#uber_2014 = uber_apr14.append(uber_may14, ignore_index=True)\n",
    "#uber_2014 = uber_2014.append(uber_jun14, ignore_index=True)\n",
    "#uber_2014 = uber_2014.append(uber_jul14, ignore_index=True)\n",
    "#uber_2014 = uber_2014.append(uber_aug14, ignore_index=True)\n",
    "#uber_2014 = uber_2014.append(uber_sep14, ignore_index=True)\n",
    "\n",
    "for index, point in uber_2014.iterrows():\n",
    "    if point.DateTime.str[0] == '4':\n",
    "        point['Month']='April'\n",
    "    elif point.DateTime.str[0] == '5':\n",
    "        point['Month']='May'\n",
    "    elif point.DateTime.str[0] == '6':\n",
    "        point['Month']='June'\n",
    "\n",
    "        \n",
    "        \n",
    "#to order by month name\n",
    "months=[\"April\", \"May\", \"June\", \"July\", \"August\", \"September\"]\n",
    "uber_2014['Month'] = pd.Categorical(uber_2014['Month'],categories=months, ordered=True)\n",
    "uber_2014.sort_values(\"Month\")\n",
    "uber_2014.head()\n",
    "# Group by Month to get count per month\n",
    "uber_byMonth = uber_2014\n",
    "uber_byMonth['Count'] = 0\n",
    "uber_byMonth = uber_2014.groupby(['Month'])['Count'].count()\n",
    "print(type(uber_byMonth))\n",
    "#uber_byMonth.head()\n",
    "uber_byMonth = uber_byMonth.reset_index()\n",
    "uber_byMonth\n",
    "\n",
    "\n",
    "\n",
    "#Simple line Graph\n",
    "ax = plt.gca()\n",
    "uber_byMonth.plot(kind='line',x='Month',y='Count',ax=ax)\n",
    "taxi_byMonth.plot(kind='line',x='Month',y='Count',ax=ax)\n",
    "plt.show()\n",
    "#plt.savefig('output.png')"
   ]
  }
 ],
 "metadata": {
  "kernelspec": {
   "display_name": "Python 3",
   "language": "python",
   "name": "python3"
  },
  "language_info": {
   "codemirror_mode": {
    "name": "ipython",
    "version": 3
   },
   "file_extension": ".py",
   "mimetype": "text/x-python",
   "name": "python",
   "nbconvert_exporter": "python",
   "pygments_lexer": "ipython3",
   "version": "3.6.7"
  }
 },
 "nbformat": 4,
 "nbformat_minor": 2
}
