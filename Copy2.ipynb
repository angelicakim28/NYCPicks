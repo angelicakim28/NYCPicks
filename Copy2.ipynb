{
 "cells": [
  {
   "cell_type": "code",
   "execution_count": 1,
   "metadata": {},
   "outputs": [],
   "source": [
    "# Hyo Sung Kim and Chin Yee Lee\n",
    "# MUSA 620 - Final Project"
   ]
  },
  {
   "cell_type": "code",
   "execution_count": 2,
   "metadata": {},
   "outputs": [],
   "source": [
    "import pandas as pd\n",
    "import numpy as np\n",
    "from matplotlib import pyplot as plt"
   ]
  },
  {
   "cell_type": "code",
   "execution_count": 3,
   "metadata": {},
   "outputs": [],
   "source": [
    "import geopandas as gpd\n",
    "import cartopy.crs as ccrs\n",
    "from shapely.geometry import Point"
   ]
  },
  {
   "cell_type": "code",
   "execution_count": null,
   "metadata": {},
   "outputs": [],
   "source": []
  },
  {
   "cell_type": "code",
   "execution_count": 4,
   "metadata": {},
   "outputs": [],
   "source": [
    "# Importing Uber Data"
   ]
  },
  {
   "cell_type": "code",
   "execution_count": 5,
   "metadata": {},
   "outputs": [],
   "source": [
    "# 2014\n",
    "uber_apr14 = pd.read_csv(\"./UberData/uber-raw-data-apr14.csv\")\n",
    "uber_may14 = pd.read_csv(\"./UberData/uber-raw-data-may14.csv\")\n",
    "uber_jun14 = pd.read_csv(\"./UberData/uber-raw-data-jun14.csv\")\n",
    "uber_jul14 = pd.read_csv(\"./UberData/uber-raw-data-jul14.csv\")\n",
    "uber_aug14 = pd.read_csv(\"./UberData/uber-raw-data-aug14.csv\")\n",
    "uber_sep14 = pd.read_csv(\"./UberData/uber-raw-data-sep14.csv\")"
   ]
  },
  {
   "cell_type": "code",
   "execution_count": 6,
   "metadata": {},
   "outputs": [
    {
     "data": {
      "text/plain": [
       "4534327"
      ]
     },
     "execution_count": 6,
     "metadata": {},
     "output_type": "execute_result"
    }
   ],
   "source": [
    "# Combined df should have x rows:\n",
    "uber_apr14.shape[0]+uber_may14.shape[0]+uber_jun14.shape[0]+uber_jul14.shape[0]+uber_aug14.shape[0]+uber_sep14.shape[0]"
   ]
  },
  {
   "cell_type": "code",
   "execution_count": 7,
   "metadata": {},
   "outputs": [],
   "source": [
    "# Combine 2014 data into one dataframe\n",
    "frames = [uber_apr14, uber_may14, uber_jun14, uber_jul14, uber_aug14, uber_sep14]\n",
    "uber_2014 = pd.concat(frames)"
   ]
  },
  {
   "cell_type": "code",
   "execution_count": 8,
   "metadata": {},
   "outputs": [
    {
     "name": "stdout",
     "output_type": "stream",
     "text": [
      "(4534327, 4)\n"
     ]
    },
    {
     "data": {
      "text/html": [
       "<div>\n",
       "<style scoped>\n",
       "    .dataframe tbody tr th:only-of-type {\n",
       "        vertical-align: middle;\n",
       "    }\n",
       "\n",
       "    .dataframe tbody tr th {\n",
       "        vertical-align: top;\n",
       "    }\n",
       "\n",
       "    .dataframe thead th {\n",
       "        text-align: right;\n",
       "    }\n",
       "</style>\n",
       "<table border=\"1\" class=\"dataframe\">\n",
       "  <thead>\n",
       "    <tr style=\"text-align: right;\">\n",
       "      <th></th>\n",
       "      <th>Date/Time</th>\n",
       "      <th>Lat</th>\n",
       "      <th>Lon</th>\n",
       "      <th>Base</th>\n",
       "    </tr>\n",
       "  </thead>\n",
       "  <tbody>\n",
       "    <tr>\n",
       "      <th>0</th>\n",
       "      <td>4/1/2014 0:11:00</td>\n",
       "      <td>40.7690</td>\n",
       "      <td>-73.9549</td>\n",
       "      <td>B02512</td>\n",
       "    </tr>\n",
       "    <tr>\n",
       "      <th>1</th>\n",
       "      <td>4/1/2014 0:17:00</td>\n",
       "      <td>40.7267</td>\n",
       "      <td>-74.0345</td>\n",
       "      <td>B02512</td>\n",
       "    </tr>\n",
       "    <tr>\n",
       "      <th>2</th>\n",
       "      <td>4/1/2014 0:21:00</td>\n",
       "      <td>40.7316</td>\n",
       "      <td>-73.9873</td>\n",
       "      <td>B02512</td>\n",
       "    </tr>\n",
       "    <tr>\n",
       "      <th>3</th>\n",
       "      <td>4/1/2014 0:28:00</td>\n",
       "      <td>40.7588</td>\n",
       "      <td>-73.9776</td>\n",
       "      <td>B02512</td>\n",
       "    </tr>\n",
       "    <tr>\n",
       "      <th>4</th>\n",
       "      <td>4/1/2014 0:33:00</td>\n",
       "      <td>40.7594</td>\n",
       "      <td>-73.9722</td>\n",
       "      <td>B02512</td>\n",
       "    </tr>\n",
       "  </tbody>\n",
       "</table>\n",
       "</div>"
      ],
      "text/plain": [
       "          Date/Time      Lat      Lon    Base\n",
       "0  4/1/2014 0:11:00  40.7690 -73.9549  B02512\n",
       "1  4/1/2014 0:17:00  40.7267 -74.0345  B02512\n",
       "2  4/1/2014 0:21:00  40.7316 -73.9873  B02512\n",
       "3  4/1/2014 0:28:00  40.7588 -73.9776  B02512\n",
       "4  4/1/2014 0:33:00  40.7594 -73.9722  B02512"
      ]
     },
     "execution_count": 8,
     "metadata": {},
     "output_type": "execute_result"
    }
   ],
   "source": [
    "print(uber_2014.shape)\n",
    "uber_2014.head()"
   ]
  },
  {
   "cell_type": "code",
   "execution_count": 9,
   "metadata": {},
   "outputs": [],
   "source": [
    "# Rename columns(Date/Time to DateTime)\n",
    "uber_2014.columns = ['DateTime', 'Lat', 'Lon', 'Base']"
   ]
  },
  {
   "cell_type": "code",
   "execution_count": 10,
   "metadata": {},
   "outputs": [],
   "source": [
    "# Add Type Column\n",
    "uber_2014['Type'] = 'Uber'"
   ]
  },
  {
   "cell_type": "code",
   "execution_count": 11,
   "metadata": {},
   "outputs": [
    {
     "data": {
      "text/html": [
       "<div>\n",
       "<style scoped>\n",
       "    .dataframe tbody tr th:only-of-type {\n",
       "        vertical-align: middle;\n",
       "    }\n",
       "\n",
       "    .dataframe tbody tr th {\n",
       "        vertical-align: top;\n",
       "    }\n",
       "\n",
       "    .dataframe thead th {\n",
       "        text-align: right;\n",
       "    }\n",
       "</style>\n",
       "<table border=\"1\" class=\"dataframe\">\n",
       "  <thead>\n",
       "    <tr style=\"text-align: right;\">\n",
       "      <th></th>\n",
       "      <th>DateTime</th>\n",
       "      <th>Lat</th>\n",
       "      <th>Lon</th>\n",
       "      <th>Base</th>\n",
       "      <th>Type</th>\n",
       "      <th>Hour</th>\n",
       "    </tr>\n",
       "  </thead>\n",
       "  <tbody>\n",
       "    <tr>\n",
       "      <th>0</th>\n",
       "      <td>4/1/2014 0:11:00</td>\n",
       "      <td>40.7690</td>\n",
       "      <td>-73.9549</td>\n",
       "      <td>B02512</td>\n",
       "      <td>Uber</td>\n",
       "      <td>0</td>\n",
       "    </tr>\n",
       "    <tr>\n",
       "      <th>1</th>\n",
       "      <td>4/1/2014 0:17:00</td>\n",
       "      <td>40.7267</td>\n",
       "      <td>-74.0345</td>\n",
       "      <td>B02512</td>\n",
       "      <td>Uber</td>\n",
       "      <td>0</td>\n",
       "    </tr>\n",
       "    <tr>\n",
       "      <th>2</th>\n",
       "      <td>4/1/2014 0:21:00</td>\n",
       "      <td>40.7316</td>\n",
       "      <td>-73.9873</td>\n",
       "      <td>B02512</td>\n",
       "      <td>Uber</td>\n",
       "      <td>0</td>\n",
       "    </tr>\n",
       "    <tr>\n",
       "      <th>3</th>\n",
       "      <td>4/1/2014 0:28:00</td>\n",
       "      <td>40.7588</td>\n",
       "      <td>-73.9776</td>\n",
       "      <td>B02512</td>\n",
       "      <td>Uber</td>\n",
       "      <td>0</td>\n",
       "    </tr>\n",
       "    <tr>\n",
       "      <th>4</th>\n",
       "      <td>4/1/2014 0:33:00</td>\n",
       "      <td>40.7594</td>\n",
       "      <td>-73.9722</td>\n",
       "      <td>B02512</td>\n",
       "      <td>Uber</td>\n",
       "      <td>0</td>\n",
       "    </tr>\n",
       "  </tbody>\n",
       "</table>\n",
       "</div>"
      ],
      "text/plain": [
       "           DateTime      Lat      Lon    Base  Type  Hour\n",
       "0  4/1/2014 0:11:00  40.7690 -73.9549  B02512  Uber     0\n",
       "1  4/1/2014 0:17:00  40.7267 -74.0345  B02512  Uber     0\n",
       "2  4/1/2014 0:21:00  40.7316 -73.9873  B02512  Uber     0\n",
       "3  4/1/2014 0:28:00  40.7588 -73.9776  B02512  Uber     0\n",
       "4  4/1/2014 0:33:00  40.7594 -73.9722  B02512  Uber     0"
      ]
     },
     "execution_count": 11,
     "metadata": {},
     "output_type": "execute_result"
    }
   ],
   "source": [
    "# Add Hour Column\n",
    "uber_2014['Hour'] = uber_2014['DateTime'].str[9:]\n",
    "uber_2014['Hour'] = uber_2014['Hour'].str[:-6]\n",
    "uber_2014.Hour=uber_2014.Hour.astype(int)\n",
    "\n",
    "# Check\n",
    "uber_2014.head()\n",
    "#uber_2014.Hour.unique()"
   ]
  },
  {
   "cell_type": "code",
   "execution_count": 12,
   "metadata": {},
   "outputs": [],
   "source": [
    "# Select Columns of Interest\n",
    "uber_cols = ['DateTime', 'Lat', 'Lon', 'Type', 'Hour']\n",
    "uber_2014 = uber_2014[uber_cols]"
   ]
  },
  {
   "cell_type": "code",
   "execution_count": 13,
   "metadata": {},
   "outputs": [
    {
     "data": {
      "text/html": [
       "<div>\n",
       "<style scoped>\n",
       "    .dataframe tbody tr th:only-of-type {\n",
       "        vertical-align: middle;\n",
       "    }\n",
       "\n",
       "    .dataframe tbody tr th {\n",
       "        vertical-align: top;\n",
       "    }\n",
       "\n",
       "    .dataframe thead th {\n",
       "        text-align: right;\n",
       "    }\n",
       "</style>\n",
       "<table border=\"1\" class=\"dataframe\">\n",
       "  <thead>\n",
       "    <tr style=\"text-align: right;\">\n",
       "      <th></th>\n",
       "      <th>DateTime</th>\n",
       "      <th>Lat</th>\n",
       "      <th>Lon</th>\n",
       "      <th>Type</th>\n",
       "      <th>Hour</th>\n",
       "    </tr>\n",
       "  </thead>\n",
       "  <tbody>\n",
       "    <tr>\n",
       "      <th>0</th>\n",
       "      <td>4/1/2014 0:11:00</td>\n",
       "      <td>40.7690</td>\n",
       "      <td>-73.9549</td>\n",
       "      <td>Uber</td>\n",
       "      <td>0</td>\n",
       "    </tr>\n",
       "    <tr>\n",
       "      <th>1</th>\n",
       "      <td>4/1/2014 0:17:00</td>\n",
       "      <td>40.7267</td>\n",
       "      <td>-74.0345</td>\n",
       "      <td>Uber</td>\n",
       "      <td>0</td>\n",
       "    </tr>\n",
       "    <tr>\n",
       "      <th>2</th>\n",
       "      <td>4/1/2014 0:21:00</td>\n",
       "      <td>40.7316</td>\n",
       "      <td>-73.9873</td>\n",
       "      <td>Uber</td>\n",
       "      <td>0</td>\n",
       "    </tr>\n",
       "    <tr>\n",
       "      <th>3</th>\n",
       "      <td>4/1/2014 0:28:00</td>\n",
       "      <td>40.7588</td>\n",
       "      <td>-73.9776</td>\n",
       "      <td>Uber</td>\n",
       "      <td>0</td>\n",
       "    </tr>\n",
       "    <tr>\n",
       "      <th>4</th>\n",
       "      <td>4/1/2014 0:33:00</td>\n",
       "      <td>40.7594</td>\n",
       "      <td>-73.9722</td>\n",
       "      <td>Uber</td>\n",
       "      <td>0</td>\n",
       "    </tr>\n",
       "  </tbody>\n",
       "</table>\n",
       "</div>"
      ],
      "text/plain": [
       "           DateTime      Lat      Lon  Type  Hour\n",
       "0  4/1/2014 0:11:00  40.7690 -73.9549  Uber     0\n",
       "1  4/1/2014 0:17:00  40.7267 -74.0345  Uber     0\n",
       "2  4/1/2014 0:21:00  40.7316 -73.9873  Uber     0\n",
       "3  4/1/2014 0:28:00  40.7588 -73.9776  Uber     0\n",
       "4  4/1/2014 0:33:00  40.7594 -73.9722  Uber     0"
      ]
     },
     "execution_count": 13,
     "metadata": {},
     "output_type": "execute_result"
    }
   ],
   "source": [
    "uber_2014.head()"
   ]
  },
  {
   "cell_type": "code",
   "execution_count": 14,
   "metadata": {},
   "outputs": [
    {
     "data": {
      "text/html": [
       "<div>\n",
       "<style scoped>\n",
       "    .dataframe tbody tr th:only-of-type {\n",
       "        vertical-align: middle;\n",
       "    }\n",
       "\n",
       "    .dataframe tbody tr th {\n",
       "        vertical-align: top;\n",
       "    }\n",
       "\n",
       "    .dataframe thead th {\n",
       "        text-align: right;\n",
       "    }\n",
       "</style>\n",
       "<table border=\"1\" class=\"dataframe\">\n",
       "  <thead>\n",
       "    <tr style=\"text-align: right;\">\n",
       "      <th></th>\n",
       "      <th>DateTime</th>\n",
       "      <th>Lat</th>\n",
       "      <th>Lon</th>\n",
       "      <th>Type</th>\n",
       "      <th>Hour</th>\n",
       "      <th>Month</th>\n",
       "    </tr>\n",
       "  </thead>\n",
       "  <tbody>\n",
       "    <tr>\n",
       "      <th>0</th>\n",
       "      <td>4/1/2014 0:11:00</td>\n",
       "      <td>40.7690</td>\n",
       "      <td>-73.9549</td>\n",
       "      <td>Uber</td>\n",
       "      <td>0</td>\n",
       "      <td>4</td>\n",
       "    </tr>\n",
       "    <tr>\n",
       "      <th>1</th>\n",
       "      <td>4/1/2014 0:17:00</td>\n",
       "      <td>40.7267</td>\n",
       "      <td>-74.0345</td>\n",
       "      <td>Uber</td>\n",
       "      <td>0</td>\n",
       "      <td>4</td>\n",
       "    </tr>\n",
       "    <tr>\n",
       "      <th>2</th>\n",
       "      <td>4/1/2014 0:21:00</td>\n",
       "      <td>40.7316</td>\n",
       "      <td>-73.9873</td>\n",
       "      <td>Uber</td>\n",
       "      <td>0</td>\n",
       "      <td>4</td>\n",
       "    </tr>\n",
       "    <tr>\n",
       "      <th>3</th>\n",
       "      <td>4/1/2014 0:28:00</td>\n",
       "      <td>40.7588</td>\n",
       "      <td>-73.9776</td>\n",
       "      <td>Uber</td>\n",
       "      <td>0</td>\n",
       "      <td>4</td>\n",
       "    </tr>\n",
       "    <tr>\n",
       "      <th>4</th>\n",
       "      <td>4/1/2014 0:33:00</td>\n",
       "      <td>40.7594</td>\n",
       "      <td>-73.9722</td>\n",
       "      <td>Uber</td>\n",
       "      <td>0</td>\n",
       "      <td>4</td>\n",
       "    </tr>\n",
       "  </tbody>\n",
       "</table>\n",
       "</div>"
      ],
      "text/plain": [
       "           DateTime      Lat      Lon  Type  Hour  Month\n",
       "0  4/1/2014 0:11:00  40.7690 -73.9549  Uber     0      4\n",
       "1  4/1/2014 0:17:00  40.7267 -74.0345  Uber     0      4\n",
       "2  4/1/2014 0:21:00  40.7316 -73.9873  Uber     0      4\n",
       "3  4/1/2014 0:28:00  40.7588 -73.9776  Uber     0      4\n",
       "4  4/1/2014 0:33:00  40.7594 -73.9722  Uber     0      4"
      ]
     },
     "execution_count": 14,
     "metadata": {},
     "output_type": "execute_result"
    }
   ],
   "source": [
    "# Create Month Column\n",
    "uber_2014['Month']=uber_2014['DateTime'].str[0]\n",
    "uber_2014.Month=uber_2014.Month.astype(int)\n",
    "\n",
    "# Check\n",
    "uber_2014.head()\n",
    "#uber_2014.Month.unique()"
   ]
  },
  {
   "cell_type": "code",
   "execution_count": 15,
   "metadata": {},
   "outputs": [],
   "source": [
    "# Create Month Name Column\n",
    "uber_2014.loc[uber_2014.Month == 4,'MonthName'] = 'April'\n",
    "uber_2014.loc[uber_2014.Month == 5,'MonthName'] = 'May'\n",
    "uber_2014.loc[uber_2014.Month == 6,'MonthName'] = 'June'\n",
    "uber_2014.loc[uber_2014.Month == 7,'MonthName'] = 'July'\n",
    "uber_2014.loc[uber_2014.Month == 8,'MonthName'] = 'August'\n",
    "uber_2014.loc[uber_2014.Month == 9,'MonthName'] = 'September'"
   ]
  },
  {
   "cell_type": "code",
   "execution_count": 16,
   "metadata": {},
   "outputs": [
    {
     "data": {
      "text/html": [
       "<div>\n",
       "<style scoped>\n",
       "    .dataframe tbody tr th:only-of-type {\n",
       "        vertical-align: middle;\n",
       "    }\n",
       "\n",
       "    .dataframe tbody tr th {\n",
       "        vertical-align: top;\n",
       "    }\n",
       "\n",
       "    .dataframe thead th {\n",
       "        text-align: right;\n",
       "    }\n",
       "</style>\n",
       "<table border=\"1\" class=\"dataframe\">\n",
       "  <thead>\n",
       "    <tr style=\"text-align: right;\">\n",
       "      <th></th>\n",
       "      <th>DateTime</th>\n",
       "      <th>Lat</th>\n",
       "      <th>Lon</th>\n",
       "      <th>Type</th>\n",
       "      <th>Hour</th>\n",
       "      <th>Month</th>\n",
       "      <th>MonthName</th>\n",
       "    </tr>\n",
       "  </thead>\n",
       "  <tbody>\n",
       "    <tr>\n",
       "      <th>0</th>\n",
       "      <td>4/1/2014 0:11:00</td>\n",
       "      <td>40.7690</td>\n",
       "      <td>-73.9549</td>\n",
       "      <td>Uber</td>\n",
       "      <td>0</td>\n",
       "      <td>4</td>\n",
       "      <td>April</td>\n",
       "    </tr>\n",
       "    <tr>\n",
       "      <th>1</th>\n",
       "      <td>4/1/2014 0:17:00</td>\n",
       "      <td>40.7267</td>\n",
       "      <td>-74.0345</td>\n",
       "      <td>Uber</td>\n",
       "      <td>0</td>\n",
       "      <td>4</td>\n",
       "      <td>April</td>\n",
       "    </tr>\n",
       "    <tr>\n",
       "      <th>2</th>\n",
       "      <td>4/1/2014 0:21:00</td>\n",
       "      <td>40.7316</td>\n",
       "      <td>-73.9873</td>\n",
       "      <td>Uber</td>\n",
       "      <td>0</td>\n",
       "      <td>4</td>\n",
       "      <td>April</td>\n",
       "    </tr>\n",
       "    <tr>\n",
       "      <th>3</th>\n",
       "      <td>4/1/2014 0:28:00</td>\n",
       "      <td>40.7588</td>\n",
       "      <td>-73.9776</td>\n",
       "      <td>Uber</td>\n",
       "      <td>0</td>\n",
       "      <td>4</td>\n",
       "      <td>April</td>\n",
       "    </tr>\n",
       "    <tr>\n",
       "      <th>4</th>\n",
       "      <td>4/1/2014 0:33:00</td>\n",
       "      <td>40.7594</td>\n",
       "      <td>-73.9722</td>\n",
       "      <td>Uber</td>\n",
       "      <td>0</td>\n",
       "      <td>4</td>\n",
       "      <td>April</td>\n",
       "    </tr>\n",
       "  </tbody>\n",
       "</table>\n",
       "</div>"
      ],
      "text/plain": [
       "           DateTime      Lat      Lon  Type  Hour  Month MonthName\n",
       "0  4/1/2014 0:11:00  40.7690 -73.9549  Uber     0      4     April\n",
       "1  4/1/2014 0:17:00  40.7267 -74.0345  Uber     0      4     April\n",
       "2  4/1/2014 0:21:00  40.7316 -73.9873  Uber     0      4     April\n",
       "3  4/1/2014 0:28:00  40.7588 -73.9776  Uber     0      4     April\n",
       "4  4/1/2014 0:33:00  40.7594 -73.9722  Uber     0      4     April"
      ]
     },
     "execution_count": 16,
     "metadata": {},
     "output_type": "execute_result"
    }
   ],
   "source": [
    "# Check\n",
    "uber_2014.head()\n",
    "#uber_2014.MonthName.unique()"
   ]
  },
  {
   "cell_type": "code",
   "execution_count": 17,
   "metadata": {},
   "outputs": [
    {
     "name": "stdout",
     "output_type": "stream",
     "text": [
      "September    1028136\n",
      "August        829275\n",
      "July          796121\n",
      "June          663844\n",
      "May           652435\n",
      "April         564516\n",
      "Name: MonthName, dtype: int64\n"
     ]
    }
   ],
   "source": [
    "print(uber_2014['MonthName'].value_counts())"
   ]
  },
  {
   "cell_type": "code",
   "execution_count": null,
   "metadata": {},
   "outputs": [],
   "source": []
  },
  {
   "cell_type": "code",
   "execution_count": 18,
   "metadata": {},
   "outputs": [],
   "source": [
    "# Import NYC Taxi data via API call\n",
    "    # not using Green cab data (for now)"
   ]
  },
  {
   "cell_type": "code",
   "execution_count": 19,
   "metadata": {},
   "outputs": [],
   "source": [
    "import requests\n",
    "import json"
   ]
  },
  {
   "cell_type": "code",
   "execution_count": 20,
   "metadata": {},
   "outputs": [],
   "source": [
    "#!pip install sodapy\n",
    "from sodapy import Socrata"
   ]
  },
  {
   "cell_type": "code",
   "execution_count": 21,
   "metadata": {},
   "outputs": [],
   "source": [
    "# If API Token is needed:\n",
    "\n",
    "#Name: NYC_Picks\n",
    "#Description: MUSA620-Project\n",
    "#App Token: Jh3PX6F3BDgnCmENslklEj3iZ"
   ]
  },
  {
   "cell_type": "code",
   "execution_count": 22,
   "metadata": {},
   "outputs": [
    {
     "name": "stderr",
     "output_type": "stream",
     "text": [
      "WARNING:root:Requests made without an app_token will be subject to strict throttling limits.\n"
     ]
    }
   ],
   "source": [
    "#takes about +/- 5~10 minutes\n",
    "#source: https://dev.socrata.com/foundry/data.cityofnewyork.us/gkne-dk5s\n",
    "\n",
    "# Unauthenticated client only works with public data sets. Note 'None' in place of application token, and no username or password:\n",
    "client = Socrata(\"data.cityofnewyork.us\", None)\n",
    "\n",
    "# Get 4.5M results (~similar to uber_2014), returned as JSON from API / converted to Python list of dictionaries by sodapy.\n",
    "results = client.get(\"gkne-dk5s\", select=\"vendor_id, pickup_datetime, pickup_longitude, pickup_latitude\",where=\"pickup_datetime between '2014-04-01T00:00:00.000' and '2014-10-01T00:00:00.000'\",limit=4500000)\n",
    "\n",
    "\n",
    "# Convert to pandas DataFrame\n",
    "results_df = pd.DataFrame.from_records(results)"
   ]
  },
  {
   "cell_type": "code",
   "execution_count": 23,
   "metadata": {},
   "outputs": [],
   "source": [
    "taxi_2014 = results_df"
   ]
  },
  {
   "cell_type": "code",
   "execution_count": 24,
   "metadata": {},
   "outputs": [
    {
     "data": {
      "text/html": [
       "<div>\n",
       "<style scoped>\n",
       "    .dataframe tbody tr th:only-of-type {\n",
       "        vertical-align: middle;\n",
       "    }\n",
       "\n",
       "    .dataframe tbody tr th {\n",
       "        vertical-align: top;\n",
       "    }\n",
       "\n",
       "    .dataframe thead th {\n",
       "        text-align: right;\n",
       "    }\n",
       "</style>\n",
       "<table border=\"1\" class=\"dataframe\">\n",
       "  <thead>\n",
       "    <tr style=\"text-align: right;\">\n",
       "      <th></th>\n",
       "      <th>pickup_datetime</th>\n",
       "      <th>pickup_latitude</th>\n",
       "      <th>pickup_longitude</th>\n",
       "      <th>vendor_id</th>\n",
       "    </tr>\n",
       "  </thead>\n",
       "  <tbody>\n",
       "    <tr>\n",
       "      <th>0</th>\n",
       "      <td>2014-05-26T19:00:00.000</td>\n",
       "      <td>40.724215000000001</td>\n",
       "      <td>-73.997567000000004</td>\n",
       "      <td>VTS</td>\n",
       "    </tr>\n",
       "    <tr>\n",
       "      <th>1</th>\n",
       "      <td>2014-09-26T12:13:34.000</td>\n",
       "      <td>40.747537999999999</td>\n",
       "      <td>-73.981323000000003</td>\n",
       "      <td>CMT</td>\n",
       "    </tr>\n",
       "    <tr>\n",
       "      <th>2</th>\n",
       "      <td>2014-08-03T17:48:47.000</td>\n",
       "      <td>40.646569</td>\n",
       "      <td>-73.789541999999997</td>\n",
       "      <td>CMT</td>\n",
       "    </tr>\n",
       "    <tr>\n",
       "      <th>3</th>\n",
       "      <td>2014-07-02T22:40:55.000</td>\n",
       "      <td>40.761696000000001</td>\n",
       "      <td>-73.984191999999993</td>\n",
       "      <td>CMT</td>\n",
       "    </tr>\n",
       "    <tr>\n",
       "      <th>4</th>\n",
       "      <td>2014-05-01T23:09:00.000</td>\n",
       "      <td>40.757396999999997</td>\n",
       "      <td>-73.966916999999995</td>\n",
       "      <td>VTS</td>\n",
       "    </tr>\n",
       "  </tbody>\n",
       "</table>\n",
       "</div>"
      ],
      "text/plain": [
       "           pickup_datetime     pickup_latitude     pickup_longitude vendor_id\n",
       "0  2014-05-26T19:00:00.000  40.724215000000001  -73.997567000000004       VTS\n",
       "1  2014-09-26T12:13:34.000  40.747537999999999  -73.981323000000003       CMT\n",
       "2  2014-08-03T17:48:47.000           40.646569  -73.789541999999997       CMT\n",
       "3  2014-07-02T22:40:55.000  40.761696000000001  -73.984191999999993       CMT\n",
       "4  2014-05-01T23:09:00.000  40.757396999999997  -73.966916999999995       VTS"
      ]
     },
     "execution_count": 24,
     "metadata": {},
     "output_type": "execute_result"
    }
   ],
   "source": [
    "taxi_2014.head()"
   ]
  },
  {
   "cell_type": "code",
   "execution_count": 25,
   "metadata": {},
   "outputs": [],
   "source": [
    "# Rename columns(Date/Time to DateTime)\n",
    "taxi_2014.columns = ['DateTime', 'Lat', 'Lon', 'Vendor_ID']"
   ]
  },
  {
   "cell_type": "code",
   "execution_count": 26,
   "metadata": {},
   "outputs": [],
   "source": [
    "# Add Type Column\n",
    "taxi_2014['Type'] = 'Taxi'"
   ]
  },
  {
   "cell_type": "code",
   "execution_count": 27,
   "metadata": {},
   "outputs": [
    {
     "data": {
      "text/html": [
       "<div>\n",
       "<style scoped>\n",
       "    .dataframe tbody tr th:only-of-type {\n",
       "        vertical-align: middle;\n",
       "    }\n",
       "\n",
       "    .dataframe tbody tr th {\n",
       "        vertical-align: top;\n",
       "    }\n",
       "\n",
       "    .dataframe thead th {\n",
       "        text-align: right;\n",
       "    }\n",
       "</style>\n",
       "<table border=\"1\" class=\"dataframe\">\n",
       "  <thead>\n",
       "    <tr style=\"text-align: right;\">\n",
       "      <th></th>\n",
       "      <th>DateTime</th>\n",
       "      <th>Lat</th>\n",
       "      <th>Lon</th>\n",
       "      <th>Vendor_ID</th>\n",
       "      <th>Type</th>\n",
       "      <th>Hour</th>\n",
       "    </tr>\n",
       "  </thead>\n",
       "  <tbody>\n",
       "    <tr>\n",
       "      <th>0</th>\n",
       "      <td>2014-05-26T19:00:00.000</td>\n",
       "      <td>40.724215000000001</td>\n",
       "      <td>-73.997567000000004</td>\n",
       "      <td>VTS</td>\n",
       "      <td>Taxi</td>\n",
       "      <td>19</td>\n",
       "    </tr>\n",
       "    <tr>\n",
       "      <th>1</th>\n",
       "      <td>2014-09-26T12:13:34.000</td>\n",
       "      <td>40.747537999999999</td>\n",
       "      <td>-73.981323000000003</td>\n",
       "      <td>CMT</td>\n",
       "      <td>Taxi</td>\n",
       "      <td>12</td>\n",
       "    </tr>\n",
       "    <tr>\n",
       "      <th>2</th>\n",
       "      <td>2014-08-03T17:48:47.000</td>\n",
       "      <td>40.646569</td>\n",
       "      <td>-73.789541999999997</td>\n",
       "      <td>CMT</td>\n",
       "      <td>Taxi</td>\n",
       "      <td>17</td>\n",
       "    </tr>\n",
       "    <tr>\n",
       "      <th>3</th>\n",
       "      <td>2014-07-02T22:40:55.000</td>\n",
       "      <td>40.761696000000001</td>\n",
       "      <td>-73.984191999999993</td>\n",
       "      <td>CMT</td>\n",
       "      <td>Taxi</td>\n",
       "      <td>22</td>\n",
       "    </tr>\n",
       "    <tr>\n",
       "      <th>4</th>\n",
       "      <td>2014-05-01T23:09:00.000</td>\n",
       "      <td>40.757396999999997</td>\n",
       "      <td>-73.966916999999995</td>\n",
       "      <td>VTS</td>\n",
       "      <td>Taxi</td>\n",
       "      <td>23</td>\n",
       "    </tr>\n",
       "  </tbody>\n",
       "</table>\n",
       "</div>"
      ],
      "text/plain": [
       "                  DateTime                 Lat                  Lon Vendor_ID  \\\n",
       "0  2014-05-26T19:00:00.000  40.724215000000001  -73.997567000000004       VTS   \n",
       "1  2014-09-26T12:13:34.000  40.747537999999999  -73.981323000000003       CMT   \n",
       "2  2014-08-03T17:48:47.000           40.646569  -73.789541999999997       CMT   \n",
       "3  2014-07-02T22:40:55.000  40.761696000000001  -73.984191999999993       CMT   \n",
       "4  2014-05-01T23:09:00.000  40.757396999999997  -73.966916999999995       VTS   \n",
       "\n",
       "   Type  Hour  \n",
       "0  Taxi    19  \n",
       "1  Taxi    12  \n",
       "2  Taxi    17  \n",
       "3  Taxi    22  \n",
       "4  Taxi    23  "
      ]
     },
     "execution_count": 27,
     "metadata": {},
     "output_type": "execute_result"
    }
   ],
   "source": [
    "# Add Hour Column\n",
    "taxi_2014['Hour'] = taxi_2014['DateTime'].str[11:13]\n",
    "taxi_2014.Hour=taxi_2014.Hour.astype(int)\n",
    "\n",
    "# Check\n",
    "taxi_2014.head()\n",
    "#taxi_2014.Hour.unique()"
   ]
  },
  {
   "cell_type": "code",
   "execution_count": 28,
   "metadata": {},
   "outputs": [
    {
     "data": {
      "text/html": [
       "<div>\n",
       "<style scoped>\n",
       "    .dataframe tbody tr th:only-of-type {\n",
       "        vertical-align: middle;\n",
       "    }\n",
       "\n",
       "    .dataframe tbody tr th {\n",
       "        vertical-align: top;\n",
       "    }\n",
       "\n",
       "    .dataframe thead th {\n",
       "        text-align: right;\n",
       "    }\n",
       "</style>\n",
       "<table border=\"1\" class=\"dataframe\">\n",
       "  <thead>\n",
       "    <tr style=\"text-align: right;\">\n",
       "      <th></th>\n",
       "      <th>DateTime</th>\n",
       "      <th>Lat</th>\n",
       "      <th>Lon</th>\n",
       "      <th>Type</th>\n",
       "      <th>Hour</th>\n",
       "    </tr>\n",
       "  </thead>\n",
       "  <tbody>\n",
       "    <tr>\n",
       "      <th>0</th>\n",
       "      <td>2014-05-26T19:00:00.000</td>\n",
       "      <td>40.724215000000001</td>\n",
       "      <td>-73.997567000000004</td>\n",
       "      <td>Taxi</td>\n",
       "      <td>19</td>\n",
       "    </tr>\n",
       "    <tr>\n",
       "      <th>1</th>\n",
       "      <td>2014-09-26T12:13:34.000</td>\n",
       "      <td>40.747537999999999</td>\n",
       "      <td>-73.981323000000003</td>\n",
       "      <td>Taxi</td>\n",
       "      <td>12</td>\n",
       "    </tr>\n",
       "    <tr>\n",
       "      <th>2</th>\n",
       "      <td>2014-08-03T17:48:47.000</td>\n",
       "      <td>40.646569</td>\n",
       "      <td>-73.789541999999997</td>\n",
       "      <td>Taxi</td>\n",
       "      <td>17</td>\n",
       "    </tr>\n",
       "    <tr>\n",
       "      <th>3</th>\n",
       "      <td>2014-07-02T22:40:55.000</td>\n",
       "      <td>40.761696000000001</td>\n",
       "      <td>-73.984191999999993</td>\n",
       "      <td>Taxi</td>\n",
       "      <td>22</td>\n",
       "    </tr>\n",
       "    <tr>\n",
       "      <th>4</th>\n",
       "      <td>2014-05-01T23:09:00.000</td>\n",
       "      <td>40.757396999999997</td>\n",
       "      <td>-73.966916999999995</td>\n",
       "      <td>Taxi</td>\n",
       "      <td>23</td>\n",
       "    </tr>\n",
       "  </tbody>\n",
       "</table>\n",
       "</div>"
      ],
      "text/plain": [
       "                  DateTime                 Lat                  Lon  Type  \\\n",
       "0  2014-05-26T19:00:00.000  40.724215000000001  -73.997567000000004  Taxi   \n",
       "1  2014-09-26T12:13:34.000  40.747537999999999  -73.981323000000003  Taxi   \n",
       "2  2014-08-03T17:48:47.000           40.646569  -73.789541999999997  Taxi   \n",
       "3  2014-07-02T22:40:55.000  40.761696000000001  -73.984191999999993  Taxi   \n",
       "4  2014-05-01T23:09:00.000  40.757396999999997  -73.966916999999995  Taxi   \n",
       "\n",
       "   Hour  \n",
       "0    19  \n",
       "1    12  \n",
       "2    17  \n",
       "3    22  \n",
       "4    23  "
      ]
     },
     "execution_count": 28,
     "metadata": {},
     "output_type": "execute_result"
    }
   ],
   "source": [
    "# Select Columns of Interest\n",
    "taxi_cols = ['DateTime', 'Lat', 'Lon', 'Type', 'Hour']\n",
    "taxi_2014 = taxi_2014[taxi_cols]\n",
    "\n",
    "taxi_2014.head()"
   ]
  },
  {
   "cell_type": "code",
   "execution_count": 29,
   "metadata": {},
   "outputs": [
    {
     "data": {
      "text/html": [
       "<div>\n",
       "<style scoped>\n",
       "    .dataframe tbody tr th:only-of-type {\n",
       "        vertical-align: middle;\n",
       "    }\n",
       "\n",
       "    .dataframe tbody tr th {\n",
       "        vertical-align: top;\n",
       "    }\n",
       "\n",
       "    .dataframe thead th {\n",
       "        text-align: right;\n",
       "    }\n",
       "</style>\n",
       "<table border=\"1\" class=\"dataframe\">\n",
       "  <thead>\n",
       "    <tr style=\"text-align: right;\">\n",
       "      <th></th>\n",
       "      <th>DateTime</th>\n",
       "      <th>Lat</th>\n",
       "      <th>Lon</th>\n",
       "      <th>Type</th>\n",
       "      <th>Hour</th>\n",
       "      <th>Month</th>\n",
       "    </tr>\n",
       "  </thead>\n",
       "  <tbody>\n",
       "    <tr>\n",
       "      <th>0</th>\n",
       "      <td>2014-05-26T19:00:00.000</td>\n",
       "      <td>40.724215000000001</td>\n",
       "      <td>-73.997567000000004</td>\n",
       "      <td>Taxi</td>\n",
       "      <td>19</td>\n",
       "      <td>5</td>\n",
       "    </tr>\n",
       "    <tr>\n",
       "      <th>1</th>\n",
       "      <td>2014-09-26T12:13:34.000</td>\n",
       "      <td>40.747537999999999</td>\n",
       "      <td>-73.981323000000003</td>\n",
       "      <td>Taxi</td>\n",
       "      <td>12</td>\n",
       "      <td>9</td>\n",
       "    </tr>\n",
       "    <tr>\n",
       "      <th>2</th>\n",
       "      <td>2014-08-03T17:48:47.000</td>\n",
       "      <td>40.646569</td>\n",
       "      <td>-73.789541999999997</td>\n",
       "      <td>Taxi</td>\n",
       "      <td>17</td>\n",
       "      <td>8</td>\n",
       "    </tr>\n",
       "    <tr>\n",
       "      <th>3</th>\n",
       "      <td>2014-07-02T22:40:55.000</td>\n",
       "      <td>40.761696000000001</td>\n",
       "      <td>-73.984191999999993</td>\n",
       "      <td>Taxi</td>\n",
       "      <td>22</td>\n",
       "      <td>7</td>\n",
       "    </tr>\n",
       "    <tr>\n",
       "      <th>4</th>\n",
       "      <td>2014-05-01T23:09:00.000</td>\n",
       "      <td>40.757396999999997</td>\n",
       "      <td>-73.966916999999995</td>\n",
       "      <td>Taxi</td>\n",
       "      <td>23</td>\n",
       "      <td>5</td>\n",
       "    </tr>\n",
       "  </tbody>\n",
       "</table>\n",
       "</div>"
      ],
      "text/plain": [
       "                  DateTime                 Lat                  Lon  Type  \\\n",
       "0  2014-05-26T19:00:00.000  40.724215000000001  -73.997567000000004  Taxi   \n",
       "1  2014-09-26T12:13:34.000  40.747537999999999  -73.981323000000003  Taxi   \n",
       "2  2014-08-03T17:48:47.000           40.646569  -73.789541999999997  Taxi   \n",
       "3  2014-07-02T22:40:55.000  40.761696000000001  -73.984191999999993  Taxi   \n",
       "4  2014-05-01T23:09:00.000  40.757396999999997  -73.966916999999995  Taxi   \n",
       "\n",
       "   Hour  Month  \n",
       "0    19      5  \n",
       "1    12      9  \n",
       "2    17      8  \n",
       "3    22      7  \n",
       "4    23      5  "
      ]
     },
     "execution_count": 29,
     "metadata": {},
     "output_type": "execute_result"
    }
   ],
   "source": [
    "# Create Month Column\n",
    "taxi_2014['Month']=taxi_2014['DateTime'].str[5:7]\n",
    "taxi_2014.Month=taxi_2014.Month.astype(int)\n",
    "\n",
    "# Check\n",
    "taxi_2014.head()\n",
    "#taxi_2014.Month.unique()"
   ]
  },
  {
   "cell_type": "code",
   "execution_count": 30,
   "metadata": {},
   "outputs": [],
   "source": [
    "# Create Month Name Column\n",
    "taxi_2014.loc[taxi_2014.Month == 4,'MonthName'] = 'April'\n",
    "taxi_2014.loc[taxi_2014.Month == 5,'MonthName'] = 'May'\n",
    "taxi_2014.loc[taxi_2014.Month == 6,'MonthName'] = 'June'\n",
    "taxi_2014.loc[taxi_2014.Month == 7,'MonthName'] = 'July'\n",
    "taxi_2014.loc[taxi_2014.Month == 8,'MonthName'] = 'August'\n",
    "taxi_2014.loc[taxi_2014.Month == 9,'MonthName'] = 'September'"
   ]
  },
  {
   "cell_type": "code",
   "execution_count": 31,
   "metadata": {},
   "outputs": [
    {
     "data": {
      "text/html": [
       "<div>\n",
       "<style scoped>\n",
       "    .dataframe tbody tr th:only-of-type {\n",
       "        vertical-align: middle;\n",
       "    }\n",
       "\n",
       "    .dataframe tbody tr th {\n",
       "        vertical-align: top;\n",
       "    }\n",
       "\n",
       "    .dataframe thead th {\n",
       "        text-align: right;\n",
       "    }\n",
       "</style>\n",
       "<table border=\"1\" class=\"dataframe\">\n",
       "  <thead>\n",
       "    <tr style=\"text-align: right;\">\n",
       "      <th></th>\n",
       "      <th>DateTime</th>\n",
       "      <th>Lat</th>\n",
       "      <th>Lon</th>\n",
       "      <th>Type</th>\n",
       "      <th>Hour</th>\n",
       "      <th>Month</th>\n",
       "      <th>MonthName</th>\n",
       "    </tr>\n",
       "  </thead>\n",
       "  <tbody>\n",
       "    <tr>\n",
       "      <th>0</th>\n",
       "      <td>2014-05-26T19:00:00.000</td>\n",
       "      <td>40.724215000000001</td>\n",
       "      <td>-73.997567000000004</td>\n",
       "      <td>Taxi</td>\n",
       "      <td>19</td>\n",
       "      <td>5</td>\n",
       "      <td>May</td>\n",
       "    </tr>\n",
       "    <tr>\n",
       "      <th>1</th>\n",
       "      <td>2014-09-26T12:13:34.000</td>\n",
       "      <td>40.747537999999999</td>\n",
       "      <td>-73.981323000000003</td>\n",
       "      <td>Taxi</td>\n",
       "      <td>12</td>\n",
       "      <td>9</td>\n",
       "      <td>September</td>\n",
       "    </tr>\n",
       "    <tr>\n",
       "      <th>2</th>\n",
       "      <td>2014-08-03T17:48:47.000</td>\n",
       "      <td>40.646569</td>\n",
       "      <td>-73.789541999999997</td>\n",
       "      <td>Taxi</td>\n",
       "      <td>17</td>\n",
       "      <td>8</td>\n",
       "      <td>August</td>\n",
       "    </tr>\n",
       "    <tr>\n",
       "      <th>3</th>\n",
       "      <td>2014-07-02T22:40:55.000</td>\n",
       "      <td>40.761696000000001</td>\n",
       "      <td>-73.984191999999993</td>\n",
       "      <td>Taxi</td>\n",
       "      <td>22</td>\n",
       "      <td>7</td>\n",
       "      <td>July</td>\n",
       "    </tr>\n",
       "    <tr>\n",
       "      <th>4</th>\n",
       "      <td>2014-05-01T23:09:00.000</td>\n",
       "      <td>40.757396999999997</td>\n",
       "      <td>-73.966916999999995</td>\n",
       "      <td>Taxi</td>\n",
       "      <td>23</td>\n",
       "      <td>5</td>\n",
       "      <td>May</td>\n",
       "    </tr>\n",
       "  </tbody>\n",
       "</table>\n",
       "</div>"
      ],
      "text/plain": [
       "                  DateTime                 Lat                  Lon  Type  \\\n",
       "0  2014-05-26T19:00:00.000  40.724215000000001  -73.997567000000004  Taxi   \n",
       "1  2014-09-26T12:13:34.000  40.747537999999999  -73.981323000000003  Taxi   \n",
       "2  2014-08-03T17:48:47.000           40.646569  -73.789541999999997  Taxi   \n",
       "3  2014-07-02T22:40:55.000  40.761696000000001  -73.984191999999993  Taxi   \n",
       "4  2014-05-01T23:09:00.000  40.757396999999997  -73.966916999999995  Taxi   \n",
       "\n",
       "   Hour  Month  MonthName  \n",
       "0    19      5        May  \n",
       "1    12      9  September  \n",
       "2    17      8     August  \n",
       "3    22      7       July  \n",
       "4    23      5        May  "
      ]
     },
     "execution_count": 31,
     "metadata": {},
     "output_type": "execute_result"
    }
   ],
   "source": [
    "# Check\n",
    "taxi_2014.head()\n",
    "#taxi_2014.MonthName.unique()"
   ]
  },
  {
   "cell_type": "code",
   "execution_count": 32,
   "metadata": {},
   "outputs": [
    {
     "name": "stdout",
     "output_type": "stream",
     "text": [
      "May          807933\n",
      "April        798625\n",
      "June         754387\n",
      "September    731412\n",
      "July         715433\n",
      "August       692206\n",
      "Name: MonthName, dtype: int64\n"
     ]
    }
   ],
   "source": [
    "print(taxi_2014['MonthName'].value_counts())"
   ]
  },
  {
   "cell_type": "code",
   "execution_count": 33,
   "metadata": {},
   "outputs": [
    {
     "data": {
      "text/html": [
       "<div>\n",
       "<style scoped>\n",
       "    .dataframe tbody tr th:only-of-type {\n",
       "        vertical-align: middle;\n",
       "    }\n",
       "\n",
       "    .dataframe tbody tr th {\n",
       "        vertical-align: top;\n",
       "    }\n",
       "\n",
       "    .dataframe thead th {\n",
       "        text-align: right;\n",
       "    }\n",
       "</style>\n",
       "<table border=\"1\" class=\"dataframe\">\n",
       "  <thead>\n",
       "    <tr style=\"text-align: right;\">\n",
       "      <th></th>\n",
       "      <th>DateTime</th>\n",
       "      <th>Lat</th>\n",
       "      <th>Lon</th>\n",
       "      <th>Type</th>\n",
       "      <th>Hour</th>\n",
       "      <th>Month</th>\n",
       "      <th>MonthName</th>\n",
       "    </tr>\n",
       "  </thead>\n",
       "  <tbody>\n",
       "    <tr>\n",
       "      <th>0</th>\n",
       "      <td>2014-05-26T19:00:00.000</td>\n",
       "      <td>40.724215</td>\n",
       "      <td>-73.997567</td>\n",
       "      <td>Taxi</td>\n",
       "      <td>19</td>\n",
       "      <td>5</td>\n",
       "      <td>May</td>\n",
       "    </tr>\n",
       "    <tr>\n",
       "      <th>1</th>\n",
       "      <td>2014-09-26T12:13:34.000</td>\n",
       "      <td>40.747538</td>\n",
       "      <td>-73.981323</td>\n",
       "      <td>Taxi</td>\n",
       "      <td>12</td>\n",
       "      <td>9</td>\n",
       "      <td>September</td>\n",
       "    </tr>\n",
       "    <tr>\n",
       "      <th>2</th>\n",
       "      <td>2014-08-03T17:48:47.000</td>\n",
       "      <td>40.646569</td>\n",
       "      <td>-73.789542</td>\n",
       "      <td>Taxi</td>\n",
       "      <td>17</td>\n",
       "      <td>8</td>\n",
       "      <td>August</td>\n",
       "    </tr>\n",
       "    <tr>\n",
       "      <th>3</th>\n",
       "      <td>2014-07-02T22:40:55.000</td>\n",
       "      <td>40.761696</td>\n",
       "      <td>-73.984192</td>\n",
       "      <td>Taxi</td>\n",
       "      <td>22</td>\n",
       "      <td>7</td>\n",
       "      <td>July</td>\n",
       "    </tr>\n",
       "    <tr>\n",
       "      <th>4</th>\n",
       "      <td>2014-05-01T23:09:00.000</td>\n",
       "      <td>40.757397</td>\n",
       "      <td>-73.966917</td>\n",
       "      <td>Taxi</td>\n",
       "      <td>23</td>\n",
       "      <td>5</td>\n",
       "      <td>May</td>\n",
       "    </tr>\n",
       "  </tbody>\n",
       "</table>\n",
       "</div>"
      ],
      "text/plain": [
       "                  DateTime        Lat        Lon  Type  Hour  Month  MonthName\n",
       "0  2014-05-26T19:00:00.000  40.724215 -73.997567  Taxi    19      5        May\n",
       "1  2014-09-26T12:13:34.000  40.747538 -73.981323  Taxi    12      9  September\n",
       "2  2014-08-03T17:48:47.000  40.646569 -73.789542  Taxi    17      8     August\n",
       "3  2014-07-02T22:40:55.000  40.761696 -73.984192  Taxi    22      7       July\n",
       "4  2014-05-01T23:09:00.000  40.757397 -73.966917  Taxi    23      5        May"
      ]
     },
     "execution_count": 33,
     "metadata": {},
     "output_type": "execute_result"
    }
   ],
   "source": [
    "# Make Lat Lon Columns to Numeric\n",
    "taxi_2014['Lat']=pd.to_numeric(taxi_2014['Lat'])\n",
    "taxi_2014['Lon']=pd.to_numeric(taxi_2014['Lon'])\n",
    "\n",
    "taxi_2014.head()"
   ]
  },
  {
   "cell_type": "code",
   "execution_count": null,
   "metadata": {},
   "outputs": [],
   "source": []
  },
  {
   "cell_type": "code",
   "execution_count": null,
   "metadata": {},
   "outputs": [],
   "source": []
  },
  {
   "cell_type": "code",
   "execution_count": null,
   "metadata": {},
   "outputs": [],
   "source": [
    "# Check and Compare Uber and Taxi df"
   ]
  },
  {
   "cell_type": "code",
   "execution_count": 34,
   "metadata": {},
   "outputs": [
    {
     "data": {
      "text/html": [
       "<div>\n",
       "<style scoped>\n",
       "    .dataframe tbody tr th:only-of-type {\n",
       "        vertical-align: middle;\n",
       "    }\n",
       "\n",
       "    .dataframe tbody tr th {\n",
       "        vertical-align: top;\n",
       "    }\n",
       "\n",
       "    .dataframe thead th {\n",
       "        text-align: right;\n",
       "    }\n",
       "</style>\n",
       "<table border=\"1\" class=\"dataframe\">\n",
       "  <thead>\n",
       "    <tr style=\"text-align: right;\">\n",
       "      <th></th>\n",
       "      <th>DateTime</th>\n",
       "      <th>Lat</th>\n",
       "      <th>Lon</th>\n",
       "      <th>Type</th>\n",
       "      <th>Hour</th>\n",
       "      <th>Month</th>\n",
       "      <th>MonthName</th>\n",
       "    </tr>\n",
       "  </thead>\n",
       "  <tbody>\n",
       "    <tr>\n",
       "      <th>0</th>\n",
       "      <td>4/1/2014 0:11:00</td>\n",
       "      <td>40.7690</td>\n",
       "      <td>-73.9549</td>\n",
       "      <td>Uber</td>\n",
       "      <td>0</td>\n",
       "      <td>4</td>\n",
       "      <td>April</td>\n",
       "    </tr>\n",
       "    <tr>\n",
       "      <th>1</th>\n",
       "      <td>4/1/2014 0:17:00</td>\n",
       "      <td>40.7267</td>\n",
       "      <td>-74.0345</td>\n",
       "      <td>Uber</td>\n",
       "      <td>0</td>\n",
       "      <td>4</td>\n",
       "      <td>April</td>\n",
       "    </tr>\n",
       "    <tr>\n",
       "      <th>2</th>\n",
       "      <td>4/1/2014 0:21:00</td>\n",
       "      <td>40.7316</td>\n",
       "      <td>-73.9873</td>\n",
       "      <td>Uber</td>\n",
       "      <td>0</td>\n",
       "      <td>4</td>\n",
       "      <td>April</td>\n",
       "    </tr>\n",
       "    <tr>\n",
       "      <th>3</th>\n",
       "      <td>4/1/2014 0:28:00</td>\n",
       "      <td>40.7588</td>\n",
       "      <td>-73.9776</td>\n",
       "      <td>Uber</td>\n",
       "      <td>0</td>\n",
       "      <td>4</td>\n",
       "      <td>April</td>\n",
       "    </tr>\n",
       "    <tr>\n",
       "      <th>4</th>\n",
       "      <td>4/1/2014 0:33:00</td>\n",
       "      <td>40.7594</td>\n",
       "      <td>-73.9722</td>\n",
       "      <td>Uber</td>\n",
       "      <td>0</td>\n",
       "      <td>4</td>\n",
       "      <td>April</td>\n",
       "    </tr>\n",
       "  </tbody>\n",
       "</table>\n",
       "</div>"
      ],
      "text/plain": [
       "           DateTime      Lat      Lon  Type  Hour  Month MonthName\n",
       "0  4/1/2014 0:11:00  40.7690 -73.9549  Uber     0      4     April\n",
       "1  4/1/2014 0:17:00  40.7267 -74.0345  Uber     0      4     April\n",
       "2  4/1/2014 0:21:00  40.7316 -73.9873  Uber     0      4     April\n",
       "3  4/1/2014 0:28:00  40.7588 -73.9776  Uber     0      4     April\n",
       "4  4/1/2014 0:33:00  40.7594 -73.9722  Uber     0      4     April"
      ]
     },
     "execution_count": 34,
     "metadata": {},
     "output_type": "execute_result"
    }
   ],
   "source": [
    "uber_2014.head()"
   ]
  },
  {
   "cell_type": "code",
   "execution_count": 35,
   "metadata": {},
   "outputs": [
    {
     "data": {
      "text/html": [
       "<div>\n",
       "<style scoped>\n",
       "    .dataframe tbody tr th:only-of-type {\n",
       "        vertical-align: middle;\n",
       "    }\n",
       "\n",
       "    .dataframe tbody tr th {\n",
       "        vertical-align: top;\n",
       "    }\n",
       "\n",
       "    .dataframe thead th {\n",
       "        text-align: right;\n",
       "    }\n",
       "</style>\n",
       "<table border=\"1\" class=\"dataframe\">\n",
       "  <thead>\n",
       "    <tr style=\"text-align: right;\">\n",
       "      <th></th>\n",
       "      <th>DateTime</th>\n",
       "      <th>Lat</th>\n",
       "      <th>Lon</th>\n",
       "      <th>Type</th>\n",
       "      <th>Hour</th>\n",
       "      <th>Month</th>\n",
       "      <th>MonthName</th>\n",
       "    </tr>\n",
       "  </thead>\n",
       "  <tbody>\n",
       "    <tr>\n",
       "      <th>0</th>\n",
       "      <td>2014-05-26T19:00:00.000</td>\n",
       "      <td>40.724215</td>\n",
       "      <td>-73.997567</td>\n",
       "      <td>Taxi</td>\n",
       "      <td>19</td>\n",
       "      <td>5</td>\n",
       "      <td>May</td>\n",
       "    </tr>\n",
       "    <tr>\n",
       "      <th>1</th>\n",
       "      <td>2014-09-26T12:13:34.000</td>\n",
       "      <td>40.747538</td>\n",
       "      <td>-73.981323</td>\n",
       "      <td>Taxi</td>\n",
       "      <td>12</td>\n",
       "      <td>9</td>\n",
       "      <td>September</td>\n",
       "    </tr>\n",
       "    <tr>\n",
       "      <th>2</th>\n",
       "      <td>2014-08-03T17:48:47.000</td>\n",
       "      <td>40.646569</td>\n",
       "      <td>-73.789542</td>\n",
       "      <td>Taxi</td>\n",
       "      <td>17</td>\n",
       "      <td>8</td>\n",
       "      <td>August</td>\n",
       "    </tr>\n",
       "    <tr>\n",
       "      <th>3</th>\n",
       "      <td>2014-07-02T22:40:55.000</td>\n",
       "      <td>40.761696</td>\n",
       "      <td>-73.984192</td>\n",
       "      <td>Taxi</td>\n",
       "      <td>22</td>\n",
       "      <td>7</td>\n",
       "      <td>July</td>\n",
       "    </tr>\n",
       "    <tr>\n",
       "      <th>4</th>\n",
       "      <td>2014-05-01T23:09:00.000</td>\n",
       "      <td>40.757397</td>\n",
       "      <td>-73.966917</td>\n",
       "      <td>Taxi</td>\n",
       "      <td>23</td>\n",
       "      <td>5</td>\n",
       "      <td>May</td>\n",
       "    </tr>\n",
       "  </tbody>\n",
       "</table>\n",
       "</div>"
      ],
      "text/plain": [
       "                  DateTime        Lat        Lon  Type  Hour  Month  MonthName\n",
       "0  2014-05-26T19:00:00.000  40.724215 -73.997567  Taxi    19      5        May\n",
       "1  2014-09-26T12:13:34.000  40.747538 -73.981323  Taxi    12      9  September\n",
       "2  2014-08-03T17:48:47.000  40.646569 -73.789542  Taxi    17      8     August\n",
       "3  2014-07-02T22:40:55.000  40.761696 -73.984192  Taxi    22      7       July\n",
       "4  2014-05-01T23:09:00.000  40.757397 -73.966917  Taxi    23      5        May"
      ]
     },
     "execution_count": 35,
     "metadata": {},
     "output_type": "execute_result"
    }
   ],
   "source": [
    "taxi_2014.head()"
   ]
  },
  {
   "cell_type": "code",
   "execution_count": null,
   "metadata": {},
   "outputs": [],
   "source": []
  },
  {
   "cell_type": "code",
   "execution_count": null,
   "metadata": {},
   "outputs": [],
   "source": []
  },
  {
   "cell_type": "code",
   "execution_count": null,
   "metadata": {},
   "outputs": [],
   "source": [
    "# Comparing Uber vs Taxi Count Trips Between April - September 2014"
   ]
  },
  {
   "cell_type": "code",
   "execution_count": 36,
   "metadata": {},
   "outputs": [],
   "source": [
    "# Combine Uber and Taxi\n",
    "\n",
    "# make copies first\n",
    "uber_byMonth = uber_2014\n",
    "taxi_byMonth = taxi_2014"
   ]
  },
  {
   "cell_type": "code",
   "execution_count": 37,
   "metadata": {},
   "outputs": [
    {
     "data": {
      "text/html": [
       "<div>\n",
       "<style scoped>\n",
       "    .dataframe tbody tr th:only-of-type {\n",
       "        vertical-align: middle;\n",
       "    }\n",
       "\n",
       "    .dataframe tbody tr th {\n",
       "        vertical-align: top;\n",
       "    }\n",
       "\n",
       "    .dataframe thead th {\n",
       "        text-align: right;\n",
       "    }\n",
       "</style>\n",
       "<table border=\"1\" class=\"dataframe\">\n",
       "  <thead>\n",
       "    <tr style=\"text-align: right;\">\n",
       "      <th></th>\n",
       "      <th>DateTime</th>\n",
       "      <th>Lat</th>\n",
       "      <th>Lon</th>\n",
       "      <th>Type</th>\n",
       "      <th>Hour</th>\n",
       "      <th>Month</th>\n",
       "      <th>MonthName</th>\n",
       "    </tr>\n",
       "  </thead>\n",
       "  <tbody>\n",
       "    <tr>\n",
       "      <th>0</th>\n",
       "      <td>4/1/2014 0:11:00</td>\n",
       "      <td>40.7690</td>\n",
       "      <td>-73.9549</td>\n",
       "      <td>Uber</td>\n",
       "      <td>0</td>\n",
       "      <td>4</td>\n",
       "      <td>April</td>\n",
       "    </tr>\n",
       "    <tr>\n",
       "      <th>1</th>\n",
       "      <td>4/1/2014 0:17:00</td>\n",
       "      <td>40.7267</td>\n",
       "      <td>-74.0345</td>\n",
       "      <td>Uber</td>\n",
       "      <td>0</td>\n",
       "      <td>4</td>\n",
       "      <td>April</td>\n",
       "    </tr>\n",
       "    <tr>\n",
       "      <th>2</th>\n",
       "      <td>4/1/2014 0:21:00</td>\n",
       "      <td>40.7316</td>\n",
       "      <td>-73.9873</td>\n",
       "      <td>Uber</td>\n",
       "      <td>0</td>\n",
       "      <td>4</td>\n",
       "      <td>April</td>\n",
       "    </tr>\n",
       "    <tr>\n",
       "      <th>3</th>\n",
       "      <td>4/1/2014 0:28:00</td>\n",
       "      <td>40.7588</td>\n",
       "      <td>-73.9776</td>\n",
       "      <td>Uber</td>\n",
       "      <td>0</td>\n",
       "      <td>4</td>\n",
       "      <td>April</td>\n",
       "    </tr>\n",
       "    <tr>\n",
       "      <th>4</th>\n",
       "      <td>4/1/2014 0:33:00</td>\n",
       "      <td>40.7594</td>\n",
       "      <td>-73.9722</td>\n",
       "      <td>Uber</td>\n",
       "      <td>0</td>\n",
       "      <td>4</td>\n",
       "      <td>April</td>\n",
       "    </tr>\n",
       "  </tbody>\n",
       "</table>\n",
       "</div>"
      ],
      "text/plain": [
       "           DateTime      Lat      Lon  Type  Hour  Month MonthName\n",
       "0  4/1/2014 0:11:00  40.7690 -73.9549  Uber     0      4     April\n",
       "1  4/1/2014 0:17:00  40.7267 -74.0345  Uber     0      4     April\n",
       "2  4/1/2014 0:21:00  40.7316 -73.9873  Uber     0      4     April\n",
       "3  4/1/2014 0:28:00  40.7588 -73.9776  Uber     0      4     April\n",
       "4  4/1/2014 0:33:00  40.7594 -73.9722  Uber     0      4     April"
      ]
     },
     "execution_count": 37,
     "metadata": {},
     "output_type": "execute_result"
    }
   ],
   "source": [
    "# Append, ignore index\n",
    "uber_taxi_byMonth = uber_byMonth.append(taxi_byMonth, ignore_index=True)\n",
    "uber_taxi_byMonth.head()"
   ]
  },
  {
   "cell_type": "code",
   "execution_count": 43,
   "metadata": {},
   "outputs": [
    {
     "data": {
      "text/plain": [
       "RendererRegistry.enable('notebook')"
      ]
     },
     "execution_count": 43,
     "metadata": {},
     "output_type": "execute_result"
    }
   ],
   "source": [
    "import seaborn as sns\n",
    "import altair as alt\n",
    "from altair import Chart, Color, Scale\n",
    "alt.renderers.enable('notebook')"
   ]
  },
  {
   "cell_type": "code",
   "execution_count": 39,
   "metadata": {},
   "outputs": [
    {
     "data": {
      "text/plain": [
       "Month  MonthName  Type\n",
       "4      April      Taxi     798625\n",
       "                  Uber     564516\n",
       "5      May        Taxi     807933\n",
       "                  Uber     652435\n",
       "6      June       Taxi     754387\n",
       "                  Uber     663844\n",
       "7      July       Taxi     715433\n",
       "                  Uber     796121\n",
       "8      August     Taxi     692206\n",
       "                  Uber     829275\n",
       "9      September  Taxi     731412\n",
       "                  Uber    1028136\n",
       "Name: MonthCount, dtype: int64"
      ]
     },
     "execution_count": 39,
     "metadata": {},
     "output_type": "execute_result"
    }
   ],
   "source": [
    "# Groupby Month and Type to get Montly pickup counts for each type of transportation\n",
    "    # drops nan in taxi MonthName (about 4 october counts)\n",
    "uber_taxi_byMonth['MonthCount']=0\n",
    "uber_taxi_byMonth=uber_taxi_byMonth.groupby(['Month','MonthName','Type'])['MonthCount'].count()\n",
    "uber_taxi_byMonth"
   ]
  },
  {
   "cell_type": "code",
   "execution_count": 40,
   "metadata": {},
   "outputs": [
    {
     "data": {
      "text/html": [
       "<div>\n",
       "<style scoped>\n",
       "    .dataframe tbody tr th:only-of-type {\n",
       "        vertical-align: middle;\n",
       "    }\n",
       "\n",
       "    .dataframe tbody tr th {\n",
       "        vertical-align: top;\n",
       "    }\n",
       "\n",
       "    .dataframe thead th {\n",
       "        text-align: right;\n",
       "    }\n",
       "</style>\n",
       "<table border=\"1\" class=\"dataframe\">\n",
       "  <thead>\n",
       "    <tr style=\"text-align: right;\">\n",
       "      <th></th>\n",
       "      <th>Month</th>\n",
       "      <th>MonthName</th>\n",
       "      <th>Type</th>\n",
       "      <th>MonthCount</th>\n",
       "    </tr>\n",
       "  </thead>\n",
       "  <tbody>\n",
       "    <tr>\n",
       "      <th>0</th>\n",
       "      <td>4</td>\n",
       "      <td>April</td>\n",
       "      <td>Taxi</td>\n",
       "      <td>798625</td>\n",
       "    </tr>\n",
       "    <tr>\n",
       "      <th>1</th>\n",
       "      <td>4</td>\n",
       "      <td>April</td>\n",
       "      <td>Uber</td>\n",
       "      <td>564516</td>\n",
       "    </tr>\n",
       "    <tr>\n",
       "      <th>2</th>\n",
       "      <td>5</td>\n",
       "      <td>May</td>\n",
       "      <td>Taxi</td>\n",
       "      <td>807933</td>\n",
       "    </tr>\n",
       "    <tr>\n",
       "      <th>3</th>\n",
       "      <td>5</td>\n",
       "      <td>May</td>\n",
       "      <td>Uber</td>\n",
       "      <td>652435</td>\n",
       "    </tr>\n",
       "    <tr>\n",
       "      <th>4</th>\n",
       "      <td>6</td>\n",
       "      <td>June</td>\n",
       "      <td>Taxi</td>\n",
       "      <td>754387</td>\n",
       "    </tr>\n",
       "    <tr>\n",
       "      <th>5</th>\n",
       "      <td>6</td>\n",
       "      <td>June</td>\n",
       "      <td>Uber</td>\n",
       "      <td>663844</td>\n",
       "    </tr>\n",
       "    <tr>\n",
       "      <th>6</th>\n",
       "      <td>7</td>\n",
       "      <td>July</td>\n",
       "      <td>Taxi</td>\n",
       "      <td>715433</td>\n",
       "    </tr>\n",
       "    <tr>\n",
       "      <th>7</th>\n",
       "      <td>7</td>\n",
       "      <td>July</td>\n",
       "      <td>Uber</td>\n",
       "      <td>796121</td>\n",
       "    </tr>\n",
       "    <tr>\n",
       "      <th>8</th>\n",
       "      <td>8</td>\n",
       "      <td>August</td>\n",
       "      <td>Taxi</td>\n",
       "      <td>692206</td>\n",
       "    </tr>\n",
       "    <tr>\n",
       "      <th>9</th>\n",
       "      <td>8</td>\n",
       "      <td>August</td>\n",
       "      <td>Uber</td>\n",
       "      <td>829275</td>\n",
       "    </tr>\n",
       "    <tr>\n",
       "      <th>10</th>\n",
       "      <td>9</td>\n",
       "      <td>September</td>\n",
       "      <td>Taxi</td>\n",
       "      <td>731412</td>\n",
       "    </tr>\n",
       "    <tr>\n",
       "      <th>11</th>\n",
       "      <td>9</td>\n",
       "      <td>September</td>\n",
       "      <td>Uber</td>\n",
       "      <td>1028136</td>\n",
       "    </tr>\n",
       "  </tbody>\n",
       "</table>\n",
       "</div>"
      ],
      "text/plain": [
       "    Month  MonthName  Type  MonthCount\n",
       "0       4      April  Taxi      798625\n",
       "1       4      April  Uber      564516\n",
       "2       5        May  Taxi      807933\n",
       "3       5        May  Uber      652435\n",
       "4       6       June  Taxi      754387\n",
       "5       6       June  Uber      663844\n",
       "6       7       July  Taxi      715433\n",
       "7       7       July  Uber      796121\n",
       "8       8     August  Taxi      692206\n",
       "9       8     August  Uber      829275\n",
       "10      9  September  Taxi      731412\n",
       "11      9  September  Uber     1028136"
      ]
     },
     "execution_count": 40,
     "metadata": {},
     "output_type": "execute_result"
    }
   ],
   "source": [
    "# Reset Index\n",
    "uber_taxi_byMonth = uber_taxi_byMonth.reset_index()\n",
    "uber_taxi_byMonth #should have 6 months, 2 types - total of 12 rows"
   ]
  },
  {
   "cell_type": "code",
   "execution_count": null,
   "metadata": {},
   "outputs": [],
   "source": []
  },
  {
   "cell_type": "code",
   "execution_count": 44,
   "metadata": {},
   "outputs": [
    {
     "data": {
      "text/html": [
       "<div class=\"vega-embed\" id=\"e4192b11-9ed2-4fa3-8e85-057871178db1\"></div>\n",
       "\n",
       "<style>\n",
       ".vega-embed .error p {\n",
       "    color: firebrick;\n",
       "    font-size: 14px;\n",
       "}\n",
       "</style>\n"
      ]
     },
     "metadata": {
      "jupyter-vega": "#e4192b11-9ed2-4fa3-8e85-057871178db1"
     },
     "output_type": "display_data"
    },
    {
     "data": {
      "application/javascript": [
       "var spec = {\"config\": {\"view\": {\"width\": 400, \"height\": 300}}, \"data\": {\"name\": \"data-934be45ba549ade2db3f537ab08809bf\"}, \"mark\": \"line\", \"encoding\": {\"color\": {\"type\": \"nominal\", \"field\": \"Type\", \"scale\": {\"domain\": [\"Taxi\", \"Uber\"], \"range\": [\"gold\", \"black\"]}}, \"x\": {\"type\": \"nominal\", \"field\": \"MonthName\", \"sort\": [\"April\", \"May\", \"June\", \"July\", \"August\", \"September\"]}, \"y\": {\"type\": \"quantitative\", \"field\": \"MonthCount\"}}, \"width\": 800, \"$schema\": \"https://vega.github.io/schema/vega-lite/v2.6.0.json\", \"datasets\": {\"data-934be45ba549ade2db3f537ab08809bf\": [{\"Month\": 4, \"MonthName\": \"April\", \"Type\": \"Taxi\", \"MonthCount\": 798625}, {\"Month\": 4, \"MonthName\": \"April\", \"Type\": \"Uber\", \"MonthCount\": 564516}, {\"Month\": 5, \"MonthName\": \"May\", \"Type\": \"Taxi\", \"MonthCount\": 807933}, {\"Month\": 5, \"MonthName\": \"May\", \"Type\": \"Uber\", \"MonthCount\": 652435}, {\"Month\": 6, \"MonthName\": \"June\", \"Type\": \"Taxi\", \"MonthCount\": 754387}, {\"Month\": 6, \"MonthName\": \"June\", \"Type\": \"Uber\", \"MonthCount\": 663844}, {\"Month\": 7, \"MonthName\": \"July\", \"Type\": \"Taxi\", \"MonthCount\": 715433}, {\"Month\": 7, \"MonthName\": \"July\", \"Type\": \"Uber\", \"MonthCount\": 796121}, {\"Month\": 8, \"MonthName\": \"August\", \"Type\": \"Taxi\", \"MonthCount\": 692206}, {\"Month\": 8, \"MonthName\": \"August\", \"Type\": \"Uber\", \"MonthCount\": 829275}, {\"Month\": 9, \"MonthName\": \"September\", \"Type\": \"Taxi\", \"MonthCount\": 731412}, {\"Month\": 9, \"MonthName\": \"September\", \"Type\": \"Uber\", \"MonthCount\": 1028136}]}};\n",
       "var opt = {};\n",
       "var selector = \"#e4192b11-9ed2-4fa3-8e85-057871178db1\";\n",
       "var type = \"vega-lite\";\n",
       "\n",
       "var output_area = this;\n",
       "\n",
       "require(['nbextensions/jupyter-vega/index'], function(vega) {\n",
       "  vega.render(selector, spec, type, opt, output_area);\n",
       "}, function (err) {\n",
       "  if (err.requireType !== 'scripterror') {\n",
       "    throw(err);\n",
       "  }\n",
       "});\n"
      ]
     },
     "metadata": {
      "jupyter-vega": "#e4192b11-9ed2-4fa3-8e85-057871178db1"
     },
     "output_type": "display_data"
    },
    {
     "data": {
      "text/plain": []
     },
     "execution_count": 44,
     "metadata": {},
     "output_type": "execute_result"
    },
    {
     "data": {
      "image/png": "[encoded data removed]"
     },
     "metadata": {
      "jupyter-vega": "#e4192b11-9ed2-4fa3-8e85-057871178db1"
     },
     "output_type": "display_data"
    }
   ],
   "source": [
    "# Line Graph Ordered by Month Name does not work - limitations of Altair\n",
    "\n",
    "# https://github.com/altair-viz/altair/issues/961\n",
    "# https://github.com/vega/vega-lite/issues/1520\n",
    "\n",
    "months=[\"April\", \"May\", \"June\", \"July\", \"August\", \"September\"]\n",
    "\n",
    "alt.Chart(uber_taxi_byMonth).mark_line().encode(\n",
    "    Color('Type:N',\n",
    "           scale=Scale(domain=['Taxi','Uber'],\n",
    "                       range=['gold','black'])),\n",
    "    x=alt.X('MonthName:N', sort=months),\n",
    "    y='MonthCount:Q',\n",
    ").properties(\n",
    "    width=800\n",
    ")"
   ]
  },
  {
   "cell_type": "code",
   "execution_count": null,
   "metadata": {},
   "outputs": [],
   "source": [
    "# Workaround: Order by Month Number"
   ]
  },
  {
   "cell_type": "code",
   "execution_count": 45,
   "metadata": {},
   "outputs": [
    {
     "data": {
      "text/html": [
       "<div class=\"vega-embed\" id=\"c10b04c7-428d-4649-97d8-8d665464c9e6\"></div>\n",
       "\n",
       "<style>\n",
       ".vega-embed .error p {\n",
       "    color: firebrick;\n",
       "    font-size: 14px;\n",
       "}\n",
       "</style>\n"
      ]
     },
     "metadata": {
      "jupyter-vega": "#c10b04c7-428d-4649-97d8-8d665464c9e6"
     },
     "output_type": "display_data"
    },
    {
     "data": {
      "application/javascript": [
       "var spec = {\"config\": {\"view\": {\"width\": 400, \"height\": 300}}, \"vconcat\": [{\"data\": {\"name\": \"data-934be45ba549ade2db3f537ab08809bf\"}, \"mark\": \"line\", \"encoding\": {\"color\": {\"type\": \"nominal\", \"field\": \"Type\", \"scale\": {\"domain\": [\"Taxi\", \"Uber\"], \"range\": [\"gold\", \"black\"]}}, \"tooltip\": [{\"type\": \"quantitative\", \"field\": \"Month\"}], \"x\": {\"type\": \"nominal\", \"field\": \"Month\"}, \"y\": {\"type\": \"quantitative\", \"field\": \"MonthCount\"}}, \"selection\": {\"selector002\": {\"type\": \"interval\"}}, \"width\": 800}, {\"mark\": \"bar\", \"encoding\": {\"color\": {\"type\": \"nominal\", \"field\": \"Type\"}, \"x\": {\"type\": \"quantitative\", \"field\": \"MonthCount\"}, \"y\": {\"type\": \"nominal\", \"field\": \"Type\"}}, \"transform\": [{\"filter\": {\"selection\": \"selector002\"}}], \"width\": 800}], \"data\": {\"name\": \"data-934be45ba549ade2db3f537ab08809bf\"}, \"$schema\": \"https://vega.github.io/schema/vega-lite/v2.6.0.json\", \"datasets\": {\"data-934be45ba549ade2db3f537ab08809bf\": [{\"Month\": 4, \"MonthName\": \"April\", \"Type\": \"Taxi\", \"MonthCount\": 798625}, {\"Month\": 4, \"MonthName\": \"April\", \"Type\": \"Uber\", \"MonthCount\": 564516}, {\"Month\": 5, \"MonthName\": \"May\", \"Type\": \"Taxi\", \"MonthCount\": 807933}, {\"Month\": 5, \"MonthName\": \"May\", \"Type\": \"Uber\", \"MonthCount\": 652435}, {\"Month\": 6, \"MonthName\": \"June\", \"Type\": \"Taxi\", \"MonthCount\": 754387}, {\"Month\": 6, \"MonthName\": \"June\", \"Type\": \"Uber\", \"MonthCount\": 663844}, {\"Month\": 7, \"MonthName\": \"July\", \"Type\": \"Taxi\", \"MonthCount\": 715433}, {\"Month\": 7, \"MonthName\": \"July\", \"Type\": \"Uber\", \"MonthCount\": 796121}, {\"Month\": 8, \"MonthName\": \"August\", \"Type\": \"Taxi\", \"MonthCount\": 692206}, {\"Month\": 8, \"MonthName\": \"August\", \"Type\": \"Uber\", \"MonthCount\": 829275}, {\"Month\": 9, \"MonthName\": \"September\", \"Type\": \"Taxi\", \"MonthCount\": 731412}, {\"Month\": 9, \"MonthName\": \"September\", \"Type\": \"Uber\", \"MonthCount\": 1028136}]}};\n",
       "var opt = {};\n",
       "var selector = \"#c10b04c7-428d-4649-97d8-8d665464c9e6\";\n",
       "var type = \"vega-lite\";\n",
       "\n",
       "var output_area = this;\n",
       "\n",
       "require(['nbextensions/jupyter-vega/index'], function(vega) {\n",
       "  vega.render(selector, spec, type, opt, output_area);\n",
       "}, function (err) {\n",
       "  if (err.requireType !== 'scripterror') {\n",
       "    throw(err);\n",
       "  }\n",
       "});\n"
      ]
     },
     "metadata": {
      "jupyter-vega": "#c10b04c7-428d-4649-97d8-8d665464c9e6"
     },
     "output_type": "display_data"
    },
    {
     "data": {
      "text/plain": []
     },
     "execution_count": 45,
     "metadata": {},
     "output_type": "execute_result"
    },
    {
     "data": {
      "image/png": "[encoded data removed]"
     },
     "metadata": {
      "jupyter-vega": "#c10b04c7-428d-4649-97d8-8d665464c9e6"
     },
     "output_type": "display_data"
    }
   ],
   "source": [
    "# Line Plot of Pick Up Counts by Month by Type with Interactive Bar Plot on the bottom\n",
    "\n",
    "brush = alt.selection(type='interval')\n",
    "\n",
    "# top line graph\n",
    "points = alt.Chart(uber_taxi_byMonth).mark_line().encode(\n",
    "    Color('Type:N',\n",
    "           scale=Scale(domain=['Taxi','Uber'],\n",
    "                       range=['gold','black'])),\n",
    "    x='Month:N',\n",
    "    y='MonthCount:Q', \n",
    "    tooltip=['Month:Q']\n",
    ").properties(\n",
    "    selection=brush,\n",
    "    width=800\n",
    ")\n",
    "\n",
    "# the bottom bar plot\n",
    "bars = alt.Chart().mark_bar().encode(\n",
    "    y='Type:N',\n",
    "    color='Type:N',\n",
    "    x='MonthCount:Q'\n",
    ").transform_filter(\n",
    "    brush.ref() # the filter transform uses the selection\n",
    "                # to filter the input data to this chart\n",
    ").properties(\n",
    "width=800\n",
    ")\n",
    "\n",
    "chart = alt.vconcat(points, bars, data=uber_taxi_byMonth) # vertical stacking\n",
    "chart"
   ]
  },
  {
   "cell_type": "code",
   "execution_count": null,
   "metadata": {},
   "outputs": [],
   "source": [
    "# To do:\n",
    "# Change colors for type\n",
    "# Add Title\n",
    "# ..."
   ]
  },
  {
   "cell_type": "code",
   "execution_count": null,
   "metadata": {},
   "outputs": [],
   "source": [
    "# Save to later embed in HMTL file\n",
    "chart.save(\"uber_taxi_byMonth_chart.html\")"
   ]
  },
  {
   "cell_type": "code",
   "execution_count": null,
   "metadata": {},
   "outputs": [],
   "source": []
  },
  {
   "cell_type": "code",
   "execution_count": 46,
   "metadata": {},
   "outputs": [],
   "source": [
    "# Avg Pick Ups by Hour (Counts) - Avg is done later on\n",
    "\n",
    "# make copies first\n",
    "uber_byHourC = uber_2014\n",
    "taxi_byHourC = taxi_2014"
   ]
  },
  {
   "cell_type": "code",
   "execution_count": null,
   "metadata": {},
   "outputs": [],
   "source": [
    "# Append, ignore index\n",
    "uber_taxi_byHourC = uber_byHourC.append(taxi_byHourC, ignore_index=True)\n",
    "uber_taxi_byHourC.head()"
   ]
  },
  {
   "cell_type": "code",
   "execution_count": null,
   "metadata": {},
   "outputs": [],
   "source": [
    "uber_taxi_byHourC.shape"
   ]
  },
  {
   "cell_type": "code",
   "execution_count": null,
   "metadata": {},
   "outputs": [],
   "source": [
    "# Groupby Hour and Type to get Hourly pickup counts for each type of transportation\n",
    "uber_taxi_byHourC['HourCount']=0\n",
    "uber_taxi_byHourC=uber_taxi_byHourC.groupby(['Hour','Type'])['HourCount'].count()\n",
    "uber_taxi_byHourC"
   ]
  },
  {
   "cell_type": "code",
   "execution_count": null,
   "metadata": {},
   "outputs": [],
   "source": [
    "# Reset Index\n",
    "uber_taxi_byHourC = uber_taxi_byHourC.reset_index()\n",
    "uber_taxi_byHourC #should have 24 hours months, 2 types - total of 48 rows"
   ]
  },
  {
   "cell_type": "code",
   "execution_count": null,
   "metadata": {},
   "outputs": [],
   "source": [
    "# Line Plot of Pick Up Counts by Hour by Type with Interactive Bar Plot on the bottom\n",
    "\n",
    "brush = alt.selection(type='interval')\n",
    "\n",
    "# top line graph\n",
    "points2 = alt.Chart(uber_taxi_byHourC).mark_line().encode(\n",
    "    x='Hour:N',\n",
    "    y='HourCount:Q', \n",
    "    color='Type:N',\n",
    "    tooltip=['Hour:Q']\n",
    ").properties(\n",
    "    selection=brush,\n",
    "    width=800\n",
    ")\n",
    "\n",
    "# the bottom bar plot\n",
    "bars2 = alt.Chart().mark_bar().encode(\n",
    "    y='Type:N',\n",
    "    color='Type:N',\n",
    "    x='HourCount:Q'\n",
    ").transform_filter(\n",
    "    brush.ref() # the filter transform uses the selection\n",
    "                # to filter the input data to this chart\n",
    ").properties(\n",
    "width=800\n",
    ")\n",
    "\n",
    "chart2 = alt.vconcat(points2, bars2, data=uber_taxi_byHourC) # vertical stacking\n",
    "chart2"
   ]
  },
  {
   "cell_type": "code",
   "execution_count": null,
   "metadata": {},
   "outputs": [],
   "source": [
    "# To do:\n",
    "# Change colors for type\n",
    "# Add Title\n",
    "# ..."
   ]
  },
  {
   "cell_type": "code",
   "execution_count": null,
   "metadata": {},
   "outputs": [],
   "source": [
    "# Save to later embed in HMTL file\n",
    "chart.save(\"uber_taxi_byHour_chart.html\")"
   ]
  },
  {
   "cell_type": "code",
   "execution_count": null,
   "metadata": {},
   "outputs": [],
   "source": []
  },
  {
   "cell_type": "code",
   "execution_count": null,
   "metadata": {},
   "outputs": [],
   "source": [
    "# Avg Pick Ups by Hour (Counts)\n",
    "\n",
    "# make copies first\n",
    "uber_byHourA = uber_2014\n",
    "taxi_byHourA = taxi_2014"
   ]
  },
  {
   "cell_type": "code",
   "execution_count": null,
   "metadata": {},
   "outputs": [],
   "source": [
    "print(uber_byHourA.shape)\n",
    "print(taxi_byHourA.shape)"
   ]
  },
  {
   "cell_type": "code",
   "execution_count": null,
   "metadata": {},
   "outputs": [],
   "source": [
    "# Groupby Hour and Type to get Average Hourly pickups for each type of transportation\n",
    "uber_byHourA['CountsPickUp']=1\n",
    "uber_byHourA=uber_byHourA.groupby(['Hour','Type'])['CountsPickUp'].sum()\n",
    "uber_byHourA.head()"
   ]
  },
  {
   "cell_type": "code",
   "execution_count": null,
   "metadata": {},
   "outputs": [],
   "source": [
    "# Reset Index\n",
    "uber_byHourA = uber_byHourA.reset_index()\n",
    "uber_byHourA.head()"
   ]
  },
  {
   "cell_type": "code",
   "execution_count": null,
   "metadata": {},
   "outputs": [],
   "source": [
    "uber_byHourA['AvgHrPickUp']=uber_byHourA['CountsPickUp']/4534327\n",
    "uber_byHourA.head()"
   ]
  },
  {
   "cell_type": "code",
   "execution_count": null,
   "metadata": {},
   "outputs": [],
   "source": [
    "# Groupby Hour and Type to get Average Hourly pickups for each type of transportation\n",
    "taxi_byHourA['CountsPickUp']=1\n",
    "taxi_byHourA=taxi_byHourA.groupby(['Hour','Type'])['CountsPickUp'].sum()\n",
    "taxi_byHourA.head()"
   ]
  },
  {
   "cell_type": "code",
   "execution_count": null,
   "metadata": {},
   "outputs": [],
   "source": [
    "# Reset Index\n",
    "taxi_byHourA = taxi_byHourA.reset_index()\n",
    "taxi_byHourA.head()"
   ]
  },
  {
   "cell_type": "code",
   "execution_count": null,
   "metadata": {},
   "outputs": [],
   "source": [
    "taxi_byHourA['AvgHrPickUp']=taxi_byHourA['CountsPickUp']/4500000\n",
    "taxi_byHourA.head()"
   ]
  },
  {
   "cell_type": "code",
   "execution_count": null,
   "metadata": {},
   "outputs": [],
   "source": []
  },
  {
   "cell_type": "code",
   "execution_count": null,
   "metadata": {},
   "outputs": [],
   "source": [
    "# Append, ignore index\n",
    "uber_taxi_byHourA = uber_byHourA.append(taxi_byHourA, ignore_index=True)\n",
    "uber_taxi_byHourA.head()"
   ]
  },
  {
   "cell_type": "code",
   "execution_count": null,
   "metadata": {},
   "outputs": [],
   "source": [
    "uber_taxi_byHourA.shape"
   ]
  },
  {
   "cell_type": "code",
   "execution_count": null,
   "metadata": {},
   "outputs": [],
   "source": [
    "# Line Plot of Pick Up Counts by Hour by Type with Interactive Bar Plot on the bottom\n",
    "\n",
    "brush = alt.selection(type='interval')\n",
    "\n",
    "# top line graph\n",
    "points3 = alt.Chart(uber_taxi_byHourA).mark_line().encode(\n",
    "    x='Hour:N',\n",
    "    y='AvgHrPickUp:Q', \n",
    "    color='Type:N',\n",
    "    tooltip=['Hour:Q']\n",
    ").properties(\n",
    "    selection=brush,\n",
    "    width=800\n",
    ")\n",
    "\n",
    "# the bottom bar plot\n",
    "bars3 = alt.Chart().mark_bar().encode(\n",
    "    y='Type:N',\n",
    "    color='Type:N',\n",
    "    x='AvgHrPickUp:Q'\n",
    ").transform_filter(\n",
    "    brush.ref() # the filter transform uses the selection\n",
    "                # to filter the input data to this chart\n",
    ").properties(\n",
    "width=800\n",
    ")\n",
    "\n",
    "chart3 = alt.vconcat(points3, bars3, data=uber_taxi_byHourA) # vertical stacking\n",
    "chart3"
   ]
  },
  {
   "cell_type": "code",
   "execution_count": null,
   "metadata": {},
   "outputs": [],
   "source": []
  },
  {
   "cell_type": "code",
   "execution_count": null,
   "metadata": {},
   "outputs": [],
   "source": []
  },
  {
   "cell_type": "code",
   "execution_count": null,
   "metadata": {},
   "outputs": [],
   "source": []
  },
  {
   "cell_type": "code",
   "execution_count": null,
   "metadata": {},
   "outputs": [],
   "source": []
  },
  {
   "cell_type": "code",
   "execution_count": null,
   "metadata": {},
   "outputs": [],
   "source": [
    "# Taxi and Uber Pick Up Location GIFS"
   ]
  },
  {
   "cell_type": "code",
   "execution_count": 47,
   "metadata": {},
   "outputs": [],
   "source": []
  },
  {
   "cell_type": "code",
   "execution_count": 48,
   "metadata": {},
   "outputs": [],
   "source": []
  },
  {
   "cell_type": "code",
   "execution_count": 49,
   "metadata": {},
   "outputs": [],
   "source": []
  },
  {
   "cell_type": "code",
   "execution_count": 50,
   "metadata": {},
   "outputs": [],
   "source": [
    "# make copies\n",
    "uber_pickups = uber_2014\n",
    "taxi_pickups = taxi_2014"
   ]
  },
  {
   "cell_type": "code",
   "execution_count": 52,
   "metadata": {},
   "outputs": [
    {
     "data": {
      "text/html": [
       "<div>\n",
       "<style scoped>\n",
       "    .dataframe tbody tr th:only-of-type {\n",
       "        vertical-align: middle;\n",
       "    }\n",
       "\n",
       "    .dataframe tbody tr th {\n",
       "        vertical-align: top;\n",
       "    }\n",
       "\n",
       "    .dataframe thead th {\n",
       "        text-align: right;\n",
       "    }\n",
       "</style>\n",
       "<table border=\"1\" class=\"dataframe\">\n",
       "  <thead>\n",
       "    <tr style=\"text-align: right;\">\n",
       "      <th></th>\n",
       "      <th>DateTime</th>\n",
       "      <th>Lat</th>\n",
       "      <th>Lon</th>\n",
       "      <th>Type</th>\n",
       "      <th>Hour</th>\n",
       "      <th>Month</th>\n",
       "      <th>MonthName</th>\n",
       "    </tr>\n",
       "  </thead>\n",
       "  <tbody>\n",
       "    <tr>\n",
       "      <th>0</th>\n",
       "      <td>4/1/2014 0:11:00</td>\n",
       "      <td>40.7690</td>\n",
       "      <td>-73.9549</td>\n",
       "      <td>Uber</td>\n",
       "      <td>0</td>\n",
       "      <td>4</td>\n",
       "      <td>April</td>\n",
       "    </tr>\n",
       "    <tr>\n",
       "      <th>1</th>\n",
       "      <td>4/1/2014 0:17:00</td>\n",
       "      <td>40.7267</td>\n",
       "      <td>-74.0345</td>\n",
       "      <td>Uber</td>\n",
       "      <td>0</td>\n",
       "      <td>4</td>\n",
       "      <td>April</td>\n",
       "    </tr>\n",
       "    <tr>\n",
       "      <th>2</th>\n",
       "      <td>4/1/2014 0:21:00</td>\n",
       "      <td>40.7316</td>\n",
       "      <td>-73.9873</td>\n",
       "      <td>Uber</td>\n",
       "      <td>0</td>\n",
       "      <td>4</td>\n",
       "      <td>April</td>\n",
       "    </tr>\n",
       "    <tr>\n",
       "      <th>3</th>\n",
       "      <td>4/1/2014 0:28:00</td>\n",
       "      <td>40.7588</td>\n",
       "      <td>-73.9776</td>\n",
       "      <td>Uber</td>\n",
       "      <td>0</td>\n",
       "      <td>4</td>\n",
       "      <td>April</td>\n",
       "    </tr>\n",
       "    <tr>\n",
       "      <th>4</th>\n",
       "      <td>4/1/2014 0:33:00</td>\n",
       "      <td>40.7594</td>\n",
       "      <td>-73.9722</td>\n",
       "      <td>Uber</td>\n",
       "      <td>0</td>\n",
       "      <td>4</td>\n",
       "      <td>April</td>\n",
       "    </tr>\n",
       "  </tbody>\n",
       "</table>\n",
       "</div>"
      ],
      "text/plain": [
       "           DateTime      Lat      Lon  Type  Hour  Month MonthName\n",
       "0  4/1/2014 0:11:00  40.7690 -73.9549  Uber     0      4     April\n",
       "1  4/1/2014 0:17:00  40.7267 -74.0345  Uber     0      4     April\n",
       "2  4/1/2014 0:21:00  40.7316 -73.9873  Uber     0      4     April\n",
       "3  4/1/2014 0:28:00  40.7588 -73.9776  Uber     0      4     April\n",
       "4  4/1/2014 0:33:00  40.7594 -73.9722  Uber     0      4     April"
      ]
     },
     "execution_count": 52,
     "metadata": {},
     "output_type": "execute_result"
    }
   ],
   "source": [
    "# Append, ignore index\n",
    "uber_taxi_pickups = uber_pickups.append(taxi_pickups, ignore_index=True)\n",
    "uber_taxi_pickups.head()"
   ]
  },
  {
   "cell_type": "code",
   "execution_count": 53,
   "metadata": {},
   "outputs": [
    {
     "data": {
      "text/plain": [
       "(9034327, 7)"
      ]
     },
     "execution_count": 53,
     "metadata": {},
     "output_type": "execute_result"
    }
   ],
   "source": [
    "uber_taxi_pickups.shape"
   ]
  },
  {
   "cell_type": "code",
   "execution_count": null,
   "metadata": {},
   "outputs": [],
   "source": [
    "# Pick Random Sample\n",
    "#uber_taxi_pickups_RS = uber_taxi_pickups.sample(n=100000, random_state=1)\n",
    "    # remember to change df name in the rest of the script if using random sample"
   ]
  },
  {
   "cell_type": "code",
   "execution_count": 51,
   "metadata": {},
   "outputs": [],
   "source": [
    "import geopandas as gpd\n",
    "import cartopy.crs as ccrs\n",
    "from shapely.geometry import Point"
   ]
  },
  {
   "cell_type": "code",
   "execution_count": 54,
   "metadata": {},
   "outputs": [],
   "source": [
    "# Convert dataframe into geodataframe object\n",
    "uber_taxi_pickups['Coordinates'] = list(zip(uber_taxi_pickups['Lon'], uber_taxi_pickups['Lat']))\n",
    "uber_taxi_pickups['Coordinates'] = uber_taxi_pickups['Coordinates'].apply(Point)"
   ]
  },
  {
   "cell_type": "code",
   "execution_count": 55,
   "metadata": {},
   "outputs": [],
   "source": [
    "# Specify CRS\n",
    "input_crs = {'init': 'epsg:4326'}\n",
    "uber_taxi_pickups = gpd.GeoDataFrame(uber_taxi_pickups, geometry='Coordinates', crs=input_crs)"
   ]
  },
  {
   "cell_type": "code",
   "execution_count": 56,
   "metadata": {},
   "outputs": [],
   "source": [
    "# Convert to Web Mercator (~10 min)\n",
    "uber_taxi_pickups = uber_taxi_pickups.to_crs(epsg=3857)"
   ]
  },
  {
   "cell_type": "code",
   "execution_count": null,
   "metadata": {},
   "outputs": [],
   "source": []
  },
  {
   "cell_type": "code",
   "execution_count": 127,
   "metadata": {},
   "outputs": [],
   "source": [
    "import dask.array as da\n",
    "import dask.dataframe as dd"
   ]
  },
  {
   "cell_type": "code",
   "execution_count": 128,
   "metadata": {},
   "outputs": [],
   "source": [
    "import datashader as ds\n",
    "from colorcet import fire\n",
    "from datashader.colors import Greys9, viridis, inferno\n",
    "import datashader.transfer_functions as tf"
   ]
  },
  {
   "cell_type": "code",
   "execution_count": null,
   "metadata": {},
   "outputs": [],
   "source": []
  },
  {
   "cell_type": "code",
   "execution_count": 129,
   "metadata": {},
   "outputs": [],
   "source": [
    "# Separate Uber and Taxi Pick Ups into two subsets\n",
    "\n",
    "uber_pickups = uber_taxi_pickups[uber_taxi_pickups['Type']=='Uber']\n",
    "taxi_pickups = uber_taxi_pickups[uber_taxi_pickups['Type']=='Taxi']"
   ]
  },
  {
   "cell_type": "code",
   "execution_count": 130,
   "metadata": {},
   "outputs": [
    {
     "name": "stdout",
     "output_type": "stream",
     "text": [
      "<class 'geopandas.geodataframe.GeoDataFrame'>\n",
      "<class 'geopandas.geodataframe.GeoDataFrame'>\n"
     ]
    }
   ],
   "source": [
    "print(type(uber_pickups))\n",
    "print(type(taxi_pickups))"
   ]
  },
  {
   "cell_type": "code",
   "execution_count": 131,
   "metadata": {},
   "outputs": [
    {
     "name": "stdout",
     "output_type": "stream",
     "text": [
      "(4534327, 8)\n"
     ]
    },
    {
     "data": {
      "text/html": [
       "<div>\n",
       "<style scoped>\n",
       "    .dataframe tbody tr th:only-of-type {\n",
       "        vertical-align: middle;\n",
       "    }\n",
       "\n",
       "    .dataframe tbody tr th {\n",
       "        vertical-align: top;\n",
       "    }\n",
       "\n",
       "    .dataframe thead th {\n",
       "        text-align: right;\n",
       "    }\n",
       "</style>\n",
       "<table border=\"1\" class=\"dataframe\">\n",
       "  <thead>\n",
       "    <tr style=\"text-align: right;\">\n",
       "      <th></th>\n",
       "      <th>DateTime</th>\n",
       "      <th>Lat</th>\n",
       "      <th>Lon</th>\n",
       "      <th>Type</th>\n",
       "      <th>Hour</th>\n",
       "      <th>Month</th>\n",
       "      <th>MonthName</th>\n",
       "      <th>Coordinates</th>\n",
       "    </tr>\n",
       "  </thead>\n",
       "  <tbody>\n",
       "    <tr>\n",
       "      <th>0</th>\n",
       "      <td>4/1/2014 0:11:00</td>\n",
       "      <td>40.7690</td>\n",
       "      <td>-73.9549</td>\n",
       "      <td>Uber</td>\n",
       "      <td>0</td>\n",
       "      <td>4</td>\n",
       "      <td>April</td>\n",
       "      <td>POINT (-8232621.809667466 4978328.692605863)</td>\n",
       "    </tr>\n",
       "    <tr>\n",
       "      <th>1</th>\n",
       "      <td>4/1/2014 0:17:00</td>\n",
       "      <td>40.7267</td>\n",
       "      <td>-74.0345</td>\n",
       "      <td>Uber</td>\n",
       "      <td>0</td>\n",
       "      <td>4</td>\n",
       "      <td>April</td>\n",
       "      <td>POINT (-8241482.841134612 4972113.169739443)</td>\n",
       "    </tr>\n",
       "    <tr>\n",
       "      <th>2</th>\n",
       "      <td>4/1/2014 0:21:00</td>\n",
       "      <td>40.7316</td>\n",
       "      <td>-73.9873</td>\n",
       "      <td>Uber</td>\n",
       "      <td>0</td>\n",
       "      <td>4</td>\n",
       "      <td>April</td>\n",
       "      <td>POINT (-8236228.56116917 4972832.968795056)</td>\n",
       "    </tr>\n",
       "    <tr>\n",
       "      <th>3</th>\n",
       "      <td>4/1/2014 0:28:00</td>\n",
       "      <td>40.7588</td>\n",
       "      <td>-73.9776</td>\n",
       "      <td>Uber</td>\n",
       "      <td>0</td>\n",
       "      <td>4</td>\n",
       "      <td>April</td>\n",
       "      <td>POINT (-8235148.762108474 4976829.552240957)</td>\n",
       "    </tr>\n",
       "    <tr>\n",
       "      <th>4</th>\n",
       "      <td>4/1/2014 0:33:00</td>\n",
       "      <td>40.7594</td>\n",
       "      <td>-73.9722</td>\n",
       "      <td>Uber</td>\n",
       "      <td>0</td>\n",
       "      <td>4</td>\n",
       "      <td>April</td>\n",
       "      <td>POINT (-8234547.636858191 4976917.730599972)</td>\n",
       "    </tr>\n",
       "  </tbody>\n",
       "</table>\n",
       "</div>"
      ],
      "text/plain": [
       "           DateTime      Lat      Lon  Type  Hour  Month MonthName  \\\n",
       "0  4/1/2014 0:11:00  40.7690 -73.9549  Uber     0      4     April   \n",
       "1  4/1/2014 0:17:00  40.7267 -74.0345  Uber     0      4     April   \n",
       "2  4/1/2014 0:21:00  40.7316 -73.9873  Uber     0      4     April   \n",
       "3  4/1/2014 0:28:00  40.7588 -73.9776  Uber     0      4     April   \n",
       "4  4/1/2014 0:33:00  40.7594 -73.9722  Uber     0      4     April   \n",
       "\n",
       "                                    Coordinates  \n",
       "0  POINT (-8232621.809667466 4978328.692605863)  \n",
       "1  POINT (-8241482.841134612 4972113.169739443)  \n",
       "2   POINT (-8236228.56116917 4972832.968795056)  \n",
       "3  POINT (-8235148.762108474 4976829.552240957)  \n",
       "4  POINT (-8234547.636858191 4976917.730599972)  "
      ]
     },
     "execution_count": 131,
     "metadata": {},
     "output_type": "execute_result"
    }
   ],
   "source": [
    "print(uber_pickups.shape)\n",
    "uber_pickups.head()"
   ]
  },
  {
   "cell_type": "code",
   "execution_count": 132,
   "metadata": {},
   "outputs": [
    {
     "name": "stdout",
     "output_type": "stream",
     "text": [
      "(4500000, 8)\n"
     ]
    },
    {
     "data": {
      "text/html": [
       "<div>\n",
       "<style scoped>\n",
       "    .dataframe tbody tr th:only-of-type {\n",
       "        vertical-align: middle;\n",
       "    }\n",
       "\n",
       "    .dataframe tbody tr th {\n",
       "        vertical-align: top;\n",
       "    }\n",
       "\n",
       "    .dataframe thead th {\n",
       "        text-align: right;\n",
       "    }\n",
       "</style>\n",
       "<table border=\"1\" class=\"dataframe\">\n",
       "  <thead>\n",
       "    <tr style=\"text-align: right;\">\n",
       "      <th></th>\n",
       "      <th>DateTime</th>\n",
       "      <th>Lat</th>\n",
       "      <th>Lon</th>\n",
       "      <th>Type</th>\n",
       "      <th>Hour</th>\n",
       "      <th>Month</th>\n",
       "      <th>MonthName</th>\n",
       "      <th>Coordinates</th>\n",
       "    </tr>\n",
       "  </thead>\n",
       "  <tbody>\n",
       "    <tr>\n",
       "      <th>4534327</th>\n",
       "      <td>2014-05-26T19:00:00.000</td>\n",
       "      <td>40.724215</td>\n",
       "      <td>-73.997567</td>\n",
       "      <td>Taxi</td>\n",
       "      <td>19</td>\n",
       "      <td>5</td>\n",
       "      <td>May</td>\n",
       "      <td>POINT (-8237371.478381144 4971748.149044121)</td>\n",
       "    </tr>\n",
       "    <tr>\n",
       "      <th>4534328</th>\n",
       "      <td>2014-09-26T12:13:34.000</td>\n",
       "      <td>40.747538</td>\n",
       "      <td>-73.981323</td>\n",
       "      <td>Taxi</td>\n",
       "      <td>12</td>\n",
       "      <td>9</td>\n",
       "      <td>September</td>\n",
       "      <td>POINT (-8235563.204572699 4975174.592087769)</td>\n",
       "    </tr>\n",
       "    <tr>\n",
       "      <th>4534329</th>\n",
       "      <td>2014-08-03T17:48:47.000</td>\n",
       "      <td>40.646569</td>\n",
       "      <td>-73.789542</td>\n",
       "      <td>Taxi</td>\n",
       "      <td>17</td>\n",
       "      <td>8</td>\n",
       "      <td>August</td>\n",
       "      <td>POINT (-8214214.241308872 4960349.615040787)</td>\n",
       "    </tr>\n",
       "    <tr>\n",
       "      <th>4534330</th>\n",
       "      <td>2014-07-02T22:40:55.000</td>\n",
       "      <td>40.761696</td>\n",
       "      <td>-73.984192</td>\n",
       "      <td>Taxi</td>\n",
       "      <td>22</td>\n",
       "      <td>7</td>\n",
       "      <td>July</td>\n",
       "      <td>POINT (-8235882.580191782 4977255.167137696)</td>\n",
       "    </tr>\n",
       "    <tr>\n",
       "      <th>4534331</th>\n",
       "      <td>2014-05-01T23:09:00.000</td>\n",
       "      <td>40.757397</td>\n",
       "      <td>-73.966917</td>\n",
       "      <td>Taxi</td>\n",
       "      <td>23</td>\n",
       "      <td>5</td>\n",
       "      <td>May</td>\n",
       "      <td>POINT (-8233959.535988328 4976623.364951192)</td>\n",
       "    </tr>\n",
       "  </tbody>\n",
       "</table>\n",
       "</div>"
      ],
      "text/plain": [
       "                        DateTime        Lat        Lon  Type  Hour  Month  \\\n",
       "4534327  2014-05-26T19:00:00.000  40.724215 -73.997567  Taxi    19      5   \n",
       "4534328  2014-09-26T12:13:34.000  40.747538 -73.981323  Taxi    12      9   \n",
       "4534329  2014-08-03T17:48:47.000  40.646569 -73.789542  Taxi    17      8   \n",
       "4534330  2014-07-02T22:40:55.000  40.761696 -73.984192  Taxi    22      7   \n",
       "4534331  2014-05-01T23:09:00.000  40.757397 -73.966917  Taxi    23      5   \n",
       "\n",
       "         MonthName                                   Coordinates  \n",
       "4534327        May  POINT (-8237371.478381144 4971748.149044121)  \n",
       "4534328  September  POINT (-8235563.204572699 4975174.592087769)  \n",
       "4534329     August  POINT (-8214214.241308872 4960349.615040787)  \n",
       "4534330       July  POINT (-8235882.580191782 4977255.167137696)  \n",
       "4534331        May  POINT (-8233959.535988328 4976623.364951192)  "
      ]
     },
     "execution_count": 132,
     "metadata": {},
     "output_type": "execute_result"
    }
   ],
   "source": [
    "print(taxi_pickups.shape)\n",
    "taxi_pickups.head()"
   ]
  },
  {
   "cell_type": "code",
   "execution_count": 133,
   "metadata": {},
   "outputs": [
    {
     "name": "stdout",
     "output_type": "stream",
     "text": [
      "number of rows UBER =  4534327\n",
      "number of rows TAXI =  4500000\n"
     ]
    }
   ],
   "source": [
    "print(\"number of rows UBER = \", len(uber_pickups))\n",
    "print(\"number of rows TAXI = \", len(taxi_pickups))"
   ]
  },
  {
   "cell_type": "code",
   "execution_count": 134,
   "metadata": {},
   "outputs": [],
   "source": [
    "from datashader.utils import lnglat_to_meters as webm\n",
    "\n",
    "NYC = x_range, y_range = ((-8242000,-8210000), (4965000,4990000))\n",
    "plot_width  = int(750)\n",
    "plot_height = int(plot_width//1.2)\n",
    "\n",
    "#NewYorkCity   = (( -74.39,  -73.44), (40.51, 40.91))\n",
    "#x_range,y_range = [list(r) for r in webm(*NewYorkCity)]\n",
    "#plot_width  = int(900)\n",
    "#plot_height = int(plot_width*7.0/12)"
   ]
  },
  {
   "cell_type": "code",
   "execution_count": null,
   "metadata": {},
   "outputs": [],
   "source": []
  },
  {
   "cell_type": "code",
   "execution_count": 135,
   "metadata": {},
   "outputs": [],
   "source": [
    "#uber_points = hv.Points(uber_pickups, kdims=['Lat', 'Lon'])"
   ]
  },
  {
   "cell_type": "code",
   "execution_count": 136,
   "metadata": {},
   "outputs": [
    {
     "data": {
      "text/html": [
       "<div>\n",
       "<style scoped>\n",
       "    .dataframe tbody tr th:only-of-type {\n",
       "        vertical-align: middle;\n",
       "    }\n",
       "\n",
       "    .dataframe tbody tr th {\n",
       "        vertical-align: top;\n",
       "    }\n",
       "\n",
       "    .dataframe thead th {\n",
       "        text-align: right;\n",
       "    }\n",
       "</style>\n",
       "<table border=\"1\" class=\"dataframe\">\n",
       "  <thead>\n",
       "    <tr style=\"text-align: right;\">\n",
       "      <th></th>\n",
       "      <th>DateTime</th>\n",
       "      <th>Lat</th>\n",
       "      <th>Lon</th>\n",
       "      <th>Type</th>\n",
       "      <th>Hour</th>\n",
       "      <th>Month</th>\n",
       "      <th>MonthName</th>\n",
       "      <th>Coordinates</th>\n",
       "    </tr>\n",
       "  </thead>\n",
       "  <tbody>\n",
       "    <tr>\n",
       "      <th>0</th>\n",
       "      <td>4/1/2014 0:11:00</td>\n",
       "      <td>40.7690</td>\n",
       "      <td>-73.9549</td>\n",
       "      <td>Uber</td>\n",
       "      <td>0</td>\n",
       "      <td>4</td>\n",
       "      <td>April</td>\n",
       "      <td>POINT (-8232621.809667466 4978328.692605863)</td>\n",
       "    </tr>\n",
       "    <tr>\n",
       "      <th>1</th>\n",
       "      <td>4/1/2014 0:17:00</td>\n",
       "      <td>40.7267</td>\n",
       "      <td>-74.0345</td>\n",
       "      <td>Uber</td>\n",
       "      <td>0</td>\n",
       "      <td>4</td>\n",
       "      <td>April</td>\n",
       "      <td>POINT (-8241482.841134612 4972113.169739443)</td>\n",
       "    </tr>\n",
       "    <tr>\n",
       "      <th>2</th>\n",
       "      <td>4/1/2014 0:21:00</td>\n",
       "      <td>40.7316</td>\n",
       "      <td>-73.9873</td>\n",
       "      <td>Uber</td>\n",
       "      <td>0</td>\n",
       "      <td>4</td>\n",
       "      <td>April</td>\n",
       "      <td>POINT (-8236228.56116917 4972832.968795056)</td>\n",
       "    </tr>\n",
       "    <tr>\n",
       "      <th>3</th>\n",
       "      <td>4/1/2014 0:28:00</td>\n",
       "      <td>40.7588</td>\n",
       "      <td>-73.9776</td>\n",
       "      <td>Uber</td>\n",
       "      <td>0</td>\n",
       "      <td>4</td>\n",
       "      <td>April</td>\n",
       "      <td>POINT (-8235148.762108474 4976829.552240957)</td>\n",
       "    </tr>\n",
       "    <tr>\n",
       "      <th>4</th>\n",
       "      <td>4/1/2014 0:33:00</td>\n",
       "      <td>40.7594</td>\n",
       "      <td>-73.9722</td>\n",
       "      <td>Uber</td>\n",
       "      <td>0</td>\n",
       "      <td>4</td>\n",
       "      <td>April</td>\n",
       "      <td>POINT (-8234547.636858191 4976917.730599972)</td>\n",
       "    </tr>\n",
       "  </tbody>\n",
       "</table>\n",
       "</div>"
      ],
      "text/plain": [
       "           DateTime      Lat      Lon  Type  Hour  Month MonthName  \\\n",
       "0  4/1/2014 0:11:00  40.7690 -73.9549  Uber     0      4     April   \n",
       "1  4/1/2014 0:17:00  40.7267 -74.0345  Uber     0      4     April   \n",
       "2  4/1/2014 0:21:00  40.7316 -73.9873  Uber     0      4     April   \n",
       "3  4/1/2014 0:28:00  40.7588 -73.9776  Uber     0      4     April   \n",
       "4  4/1/2014 0:33:00  40.7594 -73.9722  Uber     0      4     April   \n",
       "\n",
       "                                    Coordinates  \n",
       "0  POINT (-8232621.809667466 4978328.692605863)  \n",
       "1  POINT (-8241482.841134612 4972113.169739443)  \n",
       "2   POINT (-8236228.56116917 4972832.968795056)  \n",
       "3  POINT (-8235148.762108474 4976829.552240957)  \n",
       "4  POINT (-8234547.636858191 4976917.730599972)  "
      ]
     },
     "execution_count": 136,
     "metadata": {},
     "output_type": "execute_result"
    }
   ],
   "source": [
    "uber_pickups.head()"
   ]
  },
  {
   "cell_type": "code",
   "execution_count": 137,
   "metadata": {},
   "outputs": [
    {
     "name": "stderr",
     "output_type": "stream",
     "text": [
      "/anaconda3/envs/musa-620/lib/python3.6/site-packages/ipykernel_launcher.py:1: SettingWithCopyWarning: \n",
      "A value is trying to be set on a copy of a slice from a DataFrame.\n",
      "Try using .loc[row_indexer,col_indexer] = value instead\n",
      "\n",
      "See the caveats in the documentation: http://pandas.pydata.org/pandas-docs/stable/indexing.html#indexing-view-versus-copy\n",
      "  \"\"\"Entry point for launching an IPython kernel.\n",
      "/anaconda3/envs/musa-620/lib/python3.6/site-packages/ipykernel_launcher.py:2: SettingWithCopyWarning: \n",
      "A value is trying to be set on a copy of a slice from a DataFrame.\n",
      "Try using .loc[row_indexer,col_indexer] = value instead\n",
      "\n",
      "See the caveats in the documentation: http://pandas.pydata.org/pandas-docs/stable/indexing.html#indexing-view-versus-copy\n",
      "  \n"
     ]
    }
   ],
   "source": [
    "uber_pickups['WebM_lon'] = uber_pickups.Coordinates.x\n",
    "uber_pickups['WebM_lat'] = uber_pickups.Coordinates.y"
   ]
  },
  {
   "cell_type": "code",
   "execution_count": 138,
   "metadata": {},
   "outputs": [
    {
     "name": "stderr",
     "output_type": "stream",
     "text": [
      "/anaconda3/envs/musa-620/lib/python3.6/site-packages/ipykernel_launcher.py:2: SettingWithCopyWarning: \n",
      "A value is trying to be set on a copy of a slice from a DataFrame.\n",
      "Try using .loc[row_indexer,col_indexer] = value instead\n",
      "\n",
      "See the caveats in the documentation: http://pandas.pydata.org/pandas-docs/stable/indexing.html#indexing-view-versus-copy\n",
      "  \n"
     ]
    }
   ],
   "source": [
    "# Add Count Column\n",
    "uber_pickups['Count']=1"
   ]
  },
  {
   "cell_type": "code",
   "execution_count": 139,
   "metadata": {},
   "outputs": [
    {
     "data": {
      "text/html": [
       "<div>\n",
       "<style scoped>\n",
       "    .dataframe tbody tr th:only-of-type {\n",
       "        vertical-align: middle;\n",
       "    }\n",
       "\n",
       "    .dataframe tbody tr th {\n",
       "        vertical-align: top;\n",
       "    }\n",
       "\n",
       "    .dataframe thead th {\n",
       "        text-align: right;\n",
       "    }\n",
       "</style>\n",
       "<table border=\"1\" class=\"dataframe\">\n",
       "  <thead>\n",
       "    <tr style=\"text-align: right;\">\n",
       "      <th></th>\n",
       "      <th>DateTime</th>\n",
       "      <th>Lat</th>\n",
       "      <th>Lon</th>\n",
       "      <th>Type</th>\n",
       "      <th>Hour</th>\n",
       "      <th>Month</th>\n",
       "      <th>MonthName</th>\n",
       "      <th>Coordinates</th>\n",
       "      <th>WebM_lon</th>\n",
       "      <th>WebM_lat</th>\n",
       "      <th>Count</th>\n",
       "    </tr>\n",
       "  </thead>\n",
       "  <tbody>\n",
       "    <tr>\n",
       "      <th>0</th>\n",
       "      <td>4/1/2014 0:11:00</td>\n",
       "      <td>40.7690</td>\n",
       "      <td>-73.9549</td>\n",
       "      <td>Uber</td>\n",
       "      <td>0</td>\n",
       "      <td>4</td>\n",
       "      <td>April</td>\n",
       "      <td>POINT (-8232621.809667466 4978328.692605863)</td>\n",
       "      <td>-8.232622e+06</td>\n",
       "      <td>4.978329e+06</td>\n",
       "      <td>1</td>\n",
       "    </tr>\n",
       "    <tr>\n",
       "      <th>1</th>\n",
       "      <td>4/1/2014 0:17:00</td>\n",
       "      <td>40.7267</td>\n",
       "      <td>-74.0345</td>\n",
       "      <td>Uber</td>\n",
       "      <td>0</td>\n",
       "      <td>4</td>\n",
       "      <td>April</td>\n",
       "      <td>POINT (-8241482.841134612 4972113.169739443)</td>\n",
       "      <td>-8.241483e+06</td>\n",
       "      <td>4.972113e+06</td>\n",
       "      <td>1</td>\n",
       "    </tr>\n",
       "    <tr>\n",
       "      <th>2</th>\n",
       "      <td>4/1/2014 0:21:00</td>\n",
       "      <td>40.7316</td>\n",
       "      <td>-73.9873</td>\n",
       "      <td>Uber</td>\n",
       "      <td>0</td>\n",
       "      <td>4</td>\n",
       "      <td>April</td>\n",
       "      <td>POINT (-8236228.56116917 4972832.968795056)</td>\n",
       "      <td>-8.236229e+06</td>\n",
       "      <td>4.972833e+06</td>\n",
       "      <td>1</td>\n",
       "    </tr>\n",
       "    <tr>\n",
       "      <th>3</th>\n",
       "      <td>4/1/2014 0:28:00</td>\n",
       "      <td>40.7588</td>\n",
       "      <td>-73.9776</td>\n",
       "      <td>Uber</td>\n",
       "      <td>0</td>\n",
       "      <td>4</td>\n",
       "      <td>April</td>\n",
       "      <td>POINT (-8235148.762108474 4976829.552240957)</td>\n",
       "      <td>-8.235149e+06</td>\n",
       "      <td>4.976830e+06</td>\n",
       "      <td>1</td>\n",
       "    </tr>\n",
       "    <tr>\n",
       "      <th>4</th>\n",
       "      <td>4/1/2014 0:33:00</td>\n",
       "      <td>40.7594</td>\n",
       "      <td>-73.9722</td>\n",
       "      <td>Uber</td>\n",
       "      <td>0</td>\n",
       "      <td>4</td>\n",
       "      <td>April</td>\n",
       "      <td>POINT (-8234547.636858191 4976917.730599972)</td>\n",
       "      <td>-8.234548e+06</td>\n",
       "      <td>4.976918e+06</td>\n",
       "      <td>1</td>\n",
       "    </tr>\n",
       "  </tbody>\n",
       "</table>\n",
       "</div>"
      ],
      "text/plain": [
       "           DateTime      Lat      Lon  Type  Hour  Month MonthName  \\\n",
       "0  4/1/2014 0:11:00  40.7690 -73.9549  Uber     0      4     April   \n",
       "1  4/1/2014 0:17:00  40.7267 -74.0345  Uber     0      4     April   \n",
       "2  4/1/2014 0:21:00  40.7316 -73.9873  Uber     0      4     April   \n",
       "3  4/1/2014 0:28:00  40.7588 -73.9776  Uber     0      4     April   \n",
       "4  4/1/2014 0:33:00  40.7594 -73.9722  Uber     0      4     April   \n",
       "\n",
       "                                    Coordinates      WebM_lon      WebM_lat  \\\n",
       "0  POINT (-8232621.809667466 4978328.692605863) -8.232622e+06  4.978329e+06   \n",
       "1  POINT (-8241482.841134612 4972113.169739443) -8.241483e+06  4.972113e+06   \n",
       "2   POINT (-8236228.56116917 4972832.968795056) -8.236229e+06  4.972833e+06   \n",
       "3  POINT (-8235148.762108474 4976829.552240957) -8.235149e+06  4.976830e+06   \n",
       "4  POINT (-8234547.636858191 4976917.730599972) -8.234548e+06  4.976918e+06   \n",
       "\n",
       "   Count  \n",
       "0      1  \n",
       "1      1  \n",
       "2      1  \n",
       "3      1  \n",
       "4      1  "
      ]
     },
     "execution_count": 139,
     "metadata": {},
     "output_type": "execute_result"
    }
   ],
   "source": [
    "uber_pickups.head()"
   ]
  },
  {
   "cell_type": "code",
   "execution_count": null,
   "metadata": {},
   "outputs": [],
   "source": []
  },
  {
   "cell_type": "code",
   "execution_count": 102,
   "metadata": {},
   "outputs": [],
   "source": [
    "#taxi_points = hv.Points(taxi_pickups, kdims=['Lat', 'Lon'])"
   ]
  },
  {
   "cell_type": "code",
   "execution_count": 140,
   "metadata": {},
   "outputs": [
    {
     "data": {
      "text/html": [
       "<div>\n",
       "<style scoped>\n",
       "    .dataframe tbody tr th:only-of-type {\n",
       "        vertical-align: middle;\n",
       "    }\n",
       "\n",
       "    .dataframe tbody tr th {\n",
       "        vertical-align: top;\n",
       "    }\n",
       "\n",
       "    .dataframe thead th {\n",
       "        text-align: right;\n",
       "    }\n",
       "</style>\n",
       "<table border=\"1\" class=\"dataframe\">\n",
       "  <thead>\n",
       "    <tr style=\"text-align: right;\">\n",
       "      <th></th>\n",
       "      <th>DateTime</th>\n",
       "      <th>Lat</th>\n",
       "      <th>Lon</th>\n",
       "      <th>Type</th>\n",
       "      <th>Hour</th>\n",
       "      <th>Month</th>\n",
       "      <th>MonthName</th>\n",
       "      <th>Coordinates</th>\n",
       "    </tr>\n",
       "  </thead>\n",
       "  <tbody>\n",
       "    <tr>\n",
       "      <th>4534327</th>\n",
       "      <td>2014-05-26T19:00:00.000</td>\n",
       "      <td>40.724215</td>\n",
       "      <td>-73.997567</td>\n",
       "      <td>Taxi</td>\n",
       "      <td>19</td>\n",
       "      <td>5</td>\n",
       "      <td>May</td>\n",
       "      <td>POINT (-8237371.478381144 4971748.149044121)</td>\n",
       "    </tr>\n",
       "    <tr>\n",
       "      <th>4534328</th>\n",
       "      <td>2014-09-26T12:13:34.000</td>\n",
       "      <td>40.747538</td>\n",
       "      <td>-73.981323</td>\n",
       "      <td>Taxi</td>\n",
       "      <td>12</td>\n",
       "      <td>9</td>\n",
       "      <td>September</td>\n",
       "      <td>POINT (-8235563.204572699 4975174.592087769)</td>\n",
       "    </tr>\n",
       "    <tr>\n",
       "      <th>4534329</th>\n",
       "      <td>2014-08-03T17:48:47.000</td>\n",
       "      <td>40.646569</td>\n",
       "      <td>-73.789542</td>\n",
       "      <td>Taxi</td>\n",
       "      <td>17</td>\n",
       "      <td>8</td>\n",
       "      <td>August</td>\n",
       "      <td>POINT (-8214214.241308872 4960349.615040787)</td>\n",
       "    </tr>\n",
       "    <tr>\n",
       "      <th>4534330</th>\n",
       "      <td>2014-07-02T22:40:55.000</td>\n",
       "      <td>40.761696</td>\n",
       "      <td>-73.984192</td>\n",
       "      <td>Taxi</td>\n",
       "      <td>22</td>\n",
       "      <td>7</td>\n",
       "      <td>July</td>\n",
       "      <td>POINT (-8235882.580191782 4977255.167137696)</td>\n",
       "    </tr>\n",
       "    <tr>\n",
       "      <th>4534331</th>\n",
       "      <td>2014-05-01T23:09:00.000</td>\n",
       "      <td>40.757397</td>\n",
       "      <td>-73.966917</td>\n",
       "      <td>Taxi</td>\n",
       "      <td>23</td>\n",
       "      <td>5</td>\n",
       "      <td>May</td>\n",
       "      <td>POINT (-8233959.535988328 4976623.364951192)</td>\n",
       "    </tr>\n",
       "  </tbody>\n",
       "</table>\n",
       "</div>"
      ],
      "text/plain": [
       "                        DateTime        Lat        Lon  Type  Hour  Month  \\\n",
       "4534327  2014-05-26T19:00:00.000  40.724215 -73.997567  Taxi    19      5   \n",
       "4534328  2014-09-26T12:13:34.000  40.747538 -73.981323  Taxi    12      9   \n",
       "4534329  2014-08-03T17:48:47.000  40.646569 -73.789542  Taxi    17      8   \n",
       "4534330  2014-07-02T22:40:55.000  40.761696 -73.984192  Taxi    22      7   \n",
       "4534331  2014-05-01T23:09:00.000  40.757397 -73.966917  Taxi    23      5   \n",
       "\n",
       "         MonthName                                   Coordinates  \n",
       "4534327        May  POINT (-8237371.478381144 4971748.149044121)  \n",
       "4534328  September  POINT (-8235563.204572699 4975174.592087769)  \n",
       "4534329     August  POINT (-8214214.241308872 4960349.615040787)  \n",
       "4534330       July  POINT (-8235882.580191782 4977255.167137696)  \n",
       "4534331        May  POINT (-8233959.535988328 4976623.364951192)  "
      ]
     },
     "execution_count": 140,
     "metadata": {},
     "output_type": "execute_result"
    }
   ],
   "source": [
    "taxi_pickups.head()"
   ]
  },
  {
   "cell_type": "code",
   "execution_count": 141,
   "metadata": {},
   "outputs": [
    {
     "name": "stderr",
     "output_type": "stream",
     "text": [
      "/anaconda3/envs/musa-620/lib/python3.6/site-packages/ipykernel_launcher.py:1: SettingWithCopyWarning: \n",
      "A value is trying to be set on a copy of a slice from a DataFrame.\n",
      "Try using .loc[row_indexer,col_indexer] = value instead\n",
      "\n",
      "See the caveats in the documentation: http://pandas.pydata.org/pandas-docs/stable/indexing.html#indexing-view-versus-copy\n",
      "  \"\"\"Entry point for launching an IPython kernel.\n",
      "/anaconda3/envs/musa-620/lib/python3.6/site-packages/ipykernel_launcher.py:2: SettingWithCopyWarning: \n",
      "A value is trying to be set on a copy of a slice from a DataFrame.\n",
      "Try using .loc[row_indexer,col_indexer] = value instead\n",
      "\n",
      "See the caveats in the documentation: http://pandas.pydata.org/pandas-docs/stable/indexing.html#indexing-view-versus-copy\n",
      "  \n"
     ]
    }
   ],
   "source": [
    "taxi_pickups['WebM_lon'] = taxi_pickups.Coordinates.x\n",
    "taxi_pickups['WebM_lat'] = taxi_pickups.Coordinates.y"
   ]
  },
  {
   "cell_type": "code",
   "execution_count": 142,
   "metadata": {},
   "outputs": [
    {
     "name": "stderr",
     "output_type": "stream",
     "text": [
      "/anaconda3/envs/musa-620/lib/python3.6/site-packages/ipykernel_launcher.py:2: SettingWithCopyWarning: \n",
      "A value is trying to be set on a copy of a slice from a DataFrame.\n",
      "Try using .loc[row_indexer,col_indexer] = value instead\n",
      "\n",
      "See the caveats in the documentation: http://pandas.pydata.org/pandas-docs/stable/indexing.html#indexing-view-versus-copy\n",
      "  \n"
     ]
    }
   ],
   "source": [
    "# Add Count Column\n",
    "taxi_pickups['Count']=1"
   ]
  },
  {
   "cell_type": "code",
   "execution_count": 143,
   "metadata": {},
   "outputs": [
    {
     "data": {
      "text/html": [
       "<div>\n",
       "<style scoped>\n",
       "    .dataframe tbody tr th:only-of-type {\n",
       "        vertical-align: middle;\n",
       "    }\n",
       "\n",
       "    .dataframe tbody tr th {\n",
       "        vertical-align: top;\n",
       "    }\n",
       "\n",
       "    .dataframe thead th {\n",
       "        text-align: right;\n",
       "    }\n",
       "</style>\n",
       "<table border=\"1\" class=\"dataframe\">\n",
       "  <thead>\n",
       "    <tr style=\"text-align: right;\">\n",
       "      <th></th>\n",
       "      <th>DateTime</th>\n",
       "      <th>Lat</th>\n",
       "      <th>Lon</th>\n",
       "      <th>Type</th>\n",
       "      <th>Hour</th>\n",
       "      <th>Month</th>\n",
       "      <th>MonthName</th>\n",
       "      <th>Coordinates</th>\n",
       "      <th>WebM_lon</th>\n",
       "      <th>WebM_lat</th>\n",
       "      <th>Count</th>\n",
       "    </tr>\n",
       "  </thead>\n",
       "  <tbody>\n",
       "    <tr>\n",
       "      <th>4534327</th>\n",
       "      <td>2014-05-26T19:00:00.000</td>\n",
       "      <td>40.724215</td>\n",
       "      <td>-73.997567</td>\n",
       "      <td>Taxi</td>\n",
       "      <td>19</td>\n",
       "      <td>5</td>\n",
       "      <td>May</td>\n",
       "      <td>POINT (-8237371.478381144 4971748.149044121)</td>\n",
       "      <td>-8.237371e+06</td>\n",
       "      <td>4.971748e+06</td>\n",
       "      <td>1</td>\n",
       "    </tr>\n",
       "    <tr>\n",
       "      <th>4534328</th>\n",
       "      <td>2014-09-26T12:13:34.000</td>\n",
       "      <td>40.747538</td>\n",
       "      <td>-73.981323</td>\n",
       "      <td>Taxi</td>\n",
       "      <td>12</td>\n",
       "      <td>9</td>\n",
       "      <td>September</td>\n",
       "      <td>POINT (-8235563.204572699 4975174.592087769)</td>\n",
       "      <td>-8.235563e+06</td>\n",
       "      <td>4.975175e+06</td>\n",
       "      <td>1</td>\n",
       "    </tr>\n",
       "    <tr>\n",
       "      <th>4534329</th>\n",
       "      <td>2014-08-03T17:48:47.000</td>\n",
       "      <td>40.646569</td>\n",
       "      <td>-73.789542</td>\n",
       "      <td>Taxi</td>\n",
       "      <td>17</td>\n",
       "      <td>8</td>\n",
       "      <td>August</td>\n",
       "      <td>POINT (-8214214.241308872 4960349.615040787)</td>\n",
       "      <td>-8.214214e+06</td>\n",
       "      <td>4.960350e+06</td>\n",
       "      <td>1</td>\n",
       "    </tr>\n",
       "    <tr>\n",
       "      <th>4534330</th>\n",
       "      <td>2014-07-02T22:40:55.000</td>\n",
       "      <td>40.761696</td>\n",
       "      <td>-73.984192</td>\n",
       "      <td>Taxi</td>\n",
       "      <td>22</td>\n",
       "      <td>7</td>\n",
       "      <td>July</td>\n",
       "      <td>POINT (-8235882.580191782 4977255.167137696)</td>\n",
       "      <td>-8.235883e+06</td>\n",
       "      <td>4.977255e+06</td>\n",
       "      <td>1</td>\n",
       "    </tr>\n",
       "    <tr>\n",
       "      <th>4534331</th>\n",
       "      <td>2014-05-01T23:09:00.000</td>\n",
       "      <td>40.757397</td>\n",
       "      <td>-73.966917</td>\n",
       "      <td>Taxi</td>\n",
       "      <td>23</td>\n",
       "      <td>5</td>\n",
       "      <td>May</td>\n",
       "      <td>POINT (-8233959.535988328 4976623.364951192)</td>\n",
       "      <td>-8.233960e+06</td>\n",
       "      <td>4.976623e+06</td>\n",
       "      <td>1</td>\n",
       "    </tr>\n",
       "  </tbody>\n",
       "</table>\n",
       "</div>"
      ],
      "text/plain": [
       "                        DateTime        Lat        Lon  Type  Hour  Month  \\\n",
       "4534327  2014-05-26T19:00:00.000  40.724215 -73.997567  Taxi    19      5   \n",
       "4534328  2014-09-26T12:13:34.000  40.747538 -73.981323  Taxi    12      9   \n",
       "4534329  2014-08-03T17:48:47.000  40.646569 -73.789542  Taxi    17      8   \n",
       "4534330  2014-07-02T22:40:55.000  40.761696 -73.984192  Taxi    22      7   \n",
       "4534331  2014-05-01T23:09:00.000  40.757397 -73.966917  Taxi    23      5   \n",
       "\n",
       "         MonthName                                   Coordinates  \\\n",
       "4534327        May  POINT (-8237371.478381144 4971748.149044121)   \n",
       "4534328  September  POINT (-8235563.204572699 4975174.592087769)   \n",
       "4534329     August  POINT (-8214214.241308872 4960349.615040787)   \n",
       "4534330       July  POINT (-8235882.580191782 4977255.167137696)   \n",
       "4534331        May  POINT (-8233959.535988328 4976623.364951192)   \n",
       "\n",
       "             WebM_lon      WebM_lat  Count  \n",
       "4534327 -8.237371e+06  4.971748e+06      1  \n",
       "4534328 -8.235563e+06  4.975175e+06      1  \n",
       "4534329 -8.214214e+06  4.960350e+06      1  \n",
       "4534330 -8.235883e+06  4.977255e+06      1  \n",
       "4534331 -8.233960e+06  4.976623e+06      1  "
      ]
     },
     "execution_count": 143,
     "metadata": {},
     "output_type": "execute_result"
    }
   ],
   "source": [
    "taxi_pickups.head()"
   ]
  },
  {
   "cell_type": "code",
   "execution_count": null,
   "metadata": {},
   "outputs": [],
   "source": []
  },
  {
   "cell_type": "code",
   "execution_count": 144,
   "metadata": {},
   "outputs": [],
   "source": [
    "# Create GIFs"
   ]
  },
  {
   "cell_type": "code",
   "execution_count": 145,
   "metadata": {},
   "outputs": [],
   "source": [
    "# Define some functions"
   ]
  },
  {
   "cell_type": "code",
   "execution_count": 146,
   "metadata": {},
   "outputs": [],
   "source": [
    "def create_image(df, x_range, y_range, w=plot_width, h=plot_height, cmap=fire):\n",
    "    \n",
    "    # create the canvas\n",
    "    cvs = ds.Canvas(plot_width=w, plot_height=h, x_range=x_range, y_range=y_range)\n",
    "    \n",
    "    # plot violation locations, counting number of violations\n",
    "    agg = cvs.points(df, 'WebM_lon', 'WebM_lat',  ds.count('Count'))\n",
    "    \n",
    "    # shade\n",
    "    img = tf.shade(agg, cmap=cmap, how='eq_hist')\n",
    "    \n",
    "    # return an PIL image\n",
    "    return tf.set_background(img, \"black\").to_pil()"
   ]
  },
  {
   "cell_type": "code",
   "execution_count": 147,
   "metadata": {},
   "outputs": [],
   "source": [
    "def convert_to_12hour(hr24):\n",
    "    \"\"\"\n",
    "    Convert from 24 hr to 12 hr.\n",
    "    \"\"\"\n",
    "    from datetime import datetime\n",
    "    d = datetime.strptime(str(hr24), \"%H\")\n",
    "    return d.strftime(\"%I %p\")"
   ]
  },
  {
   "cell_type": "code",
   "execution_count": 162,
   "metadata": {},
   "outputs": [],
   "source": [
    "def plot_picksups_by_hour(fig, df, hour):\n",
    "    \"\"\"\n",
    "    Plot the violations for particular hour\n",
    "    \"\"\"\n",
    "    # trim to the specific hour\n",
    "    df1 = df.loc[df['Hour']==hour]\n",
    "    #print(df.count)\n",
    "    \n",
    "    # create the datashaded image\n",
    "    #x_range = Philly[0]\n",
    "    #y_range = Philly[1]\n",
    "    img = create_image(df1, x_range, y_range)\n",
    "    \n",
    "    # plot the image on a matplotlib axes\n",
    "    plt.clf()\n",
    "    ax = fig.gca()\n",
    "    ax.imshow(img, extent=[x_range[0], x_range[1], y_range[0], y_range[1]])\n",
    "    ax.axis('off')\n",
    "    \n",
    "    # add a text label for the hour\n",
    "    ax.text(0.05, 0.9, convert_to_12hour(hour), color='white', \n",
    "            fontsize=40, ha='left', va='bottom', transform=ax.transAxes)\n",
    "    \n",
    "   \n",
    "    # draw the figure and return the image\n",
    "    fig.canvas.draw()   \n",
    "    image = np.frombuffer(fig.canvas.tostring_rgb(), dtype='uint8')\n",
    "    image = image.reshape(fig.canvas.get_width_height()[::-1] + (3,))\n",
    "    \n",
    "    return image"
   ]
  },
  {
   "cell_type": "code",
   "execution_count": 157,
   "metadata": {},
   "outputs": [],
   "source": [
    "# Use Functions to Create GIFs"
   ]
  },
  {
   "cell_type": "code",
   "execution_count": 158,
   "metadata": {},
   "outputs": [],
   "source": [
    "import imageio"
   ]
  },
  {
   "cell_type": "code",
   "execution_count": 163,
   "metadata": {},
   "outputs": [
    {
     "data": {
      "image/png": "[encoded data removed]",
      "text/plain": [
       "<Figure size 720x720 with 1 Axes>"
      ]
     },
     "metadata": {},
     "output_type": "display_data"
    }
   ],
   "source": [
    "# create a figure for UBER PickUps\n",
    "fig, ax = plt.subplots(figsize=(10,10), facecolor='black')\n",
    "\n",
    "hours = range(24)\n",
    "\n",
    "images=[]\n",
    "for hour in hours:\n",
    "    hour_image=plot_picksups_by_hour(fig,uber_pickups,hour)\n",
    "    images.append(hour_image)\n",
    "\n",
    "# save the GIF\n",
    "imageio.mimsave('uber_pickups.gif', images, fps=1);"
   ]
  },
  {
   "cell_type": "code",
   "execution_count": 101,
   "metadata": {},
   "outputs": [
    {
     "data": {
      "image/png": "[encoded data removed]",
      "text/plain": [
       "<Figure size 720x720 with 1 Axes>"
      ]
     },
     "metadata": {},
     "output_type": "display_data"
    }
   ],
   "source": [
    "# create a figure for TAXI PickUps\n",
    "fig, ax = plt.subplots(figsize=(10,10), facecolor='black')\n",
    "\n",
    "hours = range(24)\n",
    "\n",
    "images=[]\n",
    "for hour in hours:\n",
    "    hour_image=plot_picksups_by_hour(fig,taxi_pickups,hour)\n",
    "    images.append(hour_image)\n",
    "\n",
    "# save the GIF\n",
    "imageio.mimsave('taxi_pickups.gif', images, fps=1);"
   ]
  },
  {
   "cell_type": "code",
   "execution_count": null,
   "metadata": {},
   "outputs": [],
   "source": []
  },
  {
   "cell_type": "code",
   "execution_count": null,
   "metadata": {},
   "outputs": [],
   "source": []
  },
  {
   "cell_type": "code",
   "execution_count": null,
   "metadata": {},
   "outputs": [],
   "source": []
  },
  {
   "cell_type": "code",
   "execution_count": null,
   "metadata": {},
   "outputs": [],
   "source": []
  },
  {
   "cell_type": "code",
   "execution_count": null,
   "metadata": {},
   "outputs": [],
   "source": []
  },
  {
   "cell_type": "code",
   "execution_count": null,
   "metadata": {},
   "outputs": [],
   "source": []
  },
  {
   "cell_type": "code",
   "execution_count": null,
   "metadata": {},
   "outputs": [],
   "source": []
  },
  {
   "cell_type": "code",
   "execution_count": null,
   "metadata": {},
   "outputs": [],
   "source": []
  },
  {
   "cell_type": "code",
   "execution_count": null,
   "metadata": {},
   "outputs": [],
   "source": []
  },
  {
   "cell_type": "code",
   "execution_count": null,
   "metadata": {},
   "outputs": [],
   "source": []
  },
  {
   "cell_type": "code",
   "execution_count": null,
   "metadata": {},
   "outputs": [],
   "source": []
  },
  {
   "cell_type": "code",
   "execution_count": null,
   "metadata": {},
   "outputs": [],
   "source": []
  },
  {
   "cell_type": "code",
   "execution_count": null,
   "metadata": {},
   "outputs": [],
   "source": []
  },
  {
   "cell_type": "code",
   "execution_count": null,
   "metadata": {},
   "outputs": [],
   "source": []
  },
  {
   "cell_type": "code",
   "execution_count": null,
   "metadata": {},
   "outputs": [],
   "source": []
  },
  {
   "cell_type": "code",
   "execution_count": null,
   "metadata": {},
   "outputs": [],
   "source": []
  },
  {
   "cell_type": "code",
   "execution_count": null,
   "metadata": {},
   "outputs": [],
   "source": []
  },
  {
   "cell_type": "code",
   "execution_count": null,
   "metadata": {},
   "outputs": [],
   "source": []
  },
  {
   "cell_type": "code",
   "execution_count": null,
   "metadata": {},
   "outputs": [],
   "source": []
  },
  {
   "cell_type": "code",
   "execution_count": null,
   "metadata": {},
   "outputs": [],
   "source": []
  },
  {
   "cell_type": "code",
   "execution_count": null,
   "metadata": {},
   "outputs": [],
   "source": []
  },
  {
   "cell_type": "code",
   "execution_count": null,
   "metadata": {},
   "outputs": [],
   "source": []
  },
  {
   "cell_type": "code",
   "execution_count": null,
   "metadata": {},
   "outputs": [],
   "source": []
  },
  {
   "cell_type": "code",
   "execution_count": null,
   "metadata": {},
   "outputs": [],
   "source": []
  },
  {
   "cell_type": "code",
   "execution_count": null,
   "metadata": {},
   "outputs": [],
   "source": []
  },
  {
   "cell_type": "code",
   "execution_count": 92,
   "metadata": {},
   "outputs": [
    {
     "data": {
      "text/html": [
       "<div>\n",
       "<style scoped>\n",
       "    .dataframe tbody tr th:only-of-type {\n",
       "        vertical-align: middle;\n",
       "    }\n",
       "\n",
       "    .dataframe tbody tr th {\n",
       "        vertical-align: top;\n",
       "    }\n",
       "\n",
       "    .dataframe thead th {\n",
       "        text-align: right;\n",
       "    }\n",
       "</style>\n",
       "<table border=\"1\" class=\"dataframe\">\n",
       "  <thead>\n",
       "    <tr style=\"text-align: right;\">\n",
       "      <th></th>\n",
       "      <th>DateTime</th>\n",
       "      <th>Lat</th>\n",
       "      <th>Lon</th>\n",
       "      <th>Type</th>\n",
       "      <th>Hour</th>\n",
       "      <th>Month</th>\n",
       "      <th>MonthName</th>\n",
       "    </tr>\n",
       "  </thead>\n",
       "  <tbody>\n",
       "    <tr>\n",
       "      <th>0</th>\n",
       "      <td>4/1/2014 0:11:00</td>\n",
       "      <td>40.7690</td>\n",
       "      <td>-73.9549</td>\n",
       "      <td>Uber</td>\n",
       "      <td>0</td>\n",
       "      <td>4</td>\n",
       "      <td>April</td>\n",
       "    </tr>\n",
       "    <tr>\n",
       "      <th>1</th>\n",
       "      <td>4/1/2014 0:17:00</td>\n",
       "      <td>40.7267</td>\n",
       "      <td>-74.0345</td>\n",
       "      <td>Uber</td>\n",
       "      <td>0</td>\n",
       "      <td>4</td>\n",
       "      <td>April</td>\n",
       "    </tr>\n",
       "    <tr>\n",
       "      <th>2</th>\n",
       "      <td>4/1/2014 0:21:00</td>\n",
       "      <td>40.7316</td>\n",
       "      <td>-73.9873</td>\n",
       "      <td>Uber</td>\n",
       "      <td>0</td>\n",
       "      <td>4</td>\n",
       "      <td>April</td>\n",
       "    </tr>\n",
       "    <tr>\n",
       "      <th>3</th>\n",
       "      <td>4/1/2014 0:28:00</td>\n",
       "      <td>40.7588</td>\n",
       "      <td>-73.9776</td>\n",
       "      <td>Uber</td>\n",
       "      <td>0</td>\n",
       "      <td>4</td>\n",
       "      <td>April</td>\n",
       "    </tr>\n",
       "    <tr>\n",
       "      <th>4</th>\n",
       "      <td>4/1/2014 0:33:00</td>\n",
       "      <td>40.7594</td>\n",
       "      <td>-73.9722</td>\n",
       "      <td>Uber</td>\n",
       "      <td>0</td>\n",
       "      <td>4</td>\n",
       "      <td>April</td>\n",
       "    </tr>\n",
       "  </tbody>\n",
       "</table>\n",
       "</div>"
      ],
      "text/plain": [
       "           DateTime      Lat      Lon  Type  Hour  Month MonthName\n",
       "0  4/1/2014 0:11:00  40.7690 -73.9549  Uber     0      4     April\n",
       "1  4/1/2014 0:17:00  40.7267 -74.0345  Uber     0      4     April\n",
       "2  4/1/2014 0:21:00  40.7316 -73.9873  Uber     0      4     April\n",
       "3  4/1/2014 0:28:00  40.7588 -73.9776  Uber     0      4     April\n",
       "4  4/1/2014 0:33:00  40.7594 -73.9722  Uber     0      4     April"
      ]
     },
     "execution_count": 92,
     "metadata": {},
     "output_type": "execute_result"
    }
   ],
   "source": [
    "uber_2014.head()"
   ]
  },
  {
   "cell_type": "code",
   "execution_count": 91,
   "metadata": {},
   "outputs": [
    {
     "data": {
      "text/html": [
       "<div>\n",
       "<style scoped>\n",
       "    .dataframe tbody tr th:only-of-type {\n",
       "        vertical-align: middle;\n",
       "    }\n",
       "\n",
       "    .dataframe tbody tr th {\n",
       "        vertical-align: top;\n",
       "    }\n",
       "\n",
       "    .dataframe thead th {\n",
       "        text-align: right;\n",
       "    }\n",
       "</style>\n",
       "<table border=\"1\" class=\"dataframe\">\n",
       "  <thead>\n",
       "    <tr style=\"text-align: right;\">\n",
       "      <th></th>\n",
       "      <th>DateTime</th>\n",
       "      <th>Lat</th>\n",
       "      <th>Lon</th>\n",
       "      <th>Type</th>\n",
       "      <th>Hour</th>\n",
       "      <th>Month</th>\n",
       "      <th>MonthName</th>\n",
       "    </tr>\n",
       "  </thead>\n",
       "  <tbody>\n",
       "    <tr>\n",
       "      <th>0</th>\n",
       "      <td>2014-05-26T19:00:00.000</td>\n",
       "      <td>40.724215</td>\n",
       "      <td>-73.997567</td>\n",
       "      <td>Taxi</td>\n",
       "      <td>19</td>\n",
       "      <td>5</td>\n",
       "      <td>May</td>\n",
       "    </tr>\n",
       "    <tr>\n",
       "      <th>1</th>\n",
       "      <td>2014-09-26T12:13:34.000</td>\n",
       "      <td>40.747538</td>\n",
       "      <td>-73.981323</td>\n",
       "      <td>Taxi</td>\n",
       "      <td>12</td>\n",
       "      <td>9</td>\n",
       "      <td>September</td>\n",
       "    </tr>\n",
       "    <tr>\n",
       "      <th>2</th>\n",
       "      <td>2014-08-03T17:48:47.000</td>\n",
       "      <td>40.646569</td>\n",
       "      <td>-73.789542</td>\n",
       "      <td>Taxi</td>\n",
       "      <td>17</td>\n",
       "      <td>8</td>\n",
       "      <td>August</td>\n",
       "    </tr>\n",
       "    <tr>\n",
       "      <th>3</th>\n",
       "      <td>2014-07-02T22:40:55.000</td>\n",
       "      <td>40.761696</td>\n",
       "      <td>-73.984192</td>\n",
       "      <td>Taxi</td>\n",
       "      <td>22</td>\n",
       "      <td>7</td>\n",
       "      <td>July</td>\n",
       "    </tr>\n",
       "    <tr>\n",
       "      <th>4</th>\n",
       "      <td>2014-05-01T23:09:00.000</td>\n",
       "      <td>40.757397</td>\n",
       "      <td>-73.966917</td>\n",
       "      <td>Taxi</td>\n",
       "      <td>23</td>\n",
       "      <td>5</td>\n",
       "      <td>May</td>\n",
       "    </tr>\n",
       "  </tbody>\n",
       "</table>\n",
       "</div>"
      ],
      "text/plain": [
       "                  DateTime        Lat        Lon  Type  Hour  Month  MonthName\n",
       "0  2014-05-26T19:00:00.000  40.724215 -73.997567  Taxi    19      5        May\n",
       "1  2014-09-26T12:13:34.000  40.747538 -73.981323  Taxi    12      9  September\n",
       "2  2014-08-03T17:48:47.000  40.646569 -73.789542  Taxi    17      8     August\n",
       "3  2014-07-02T22:40:55.000  40.761696 -73.984192  Taxi    22      7       July\n",
       "4  2014-05-01T23:09:00.000  40.757397 -73.966917  Taxi    23      5        May"
      ]
     },
     "execution_count": 91,
     "metadata": {},
     "output_type": "execute_result"
    }
   ],
   "source": [
    "taxi_2014.head()"
   ]
  },
  {
   "cell_type": "code",
   "execution_count": null,
   "metadata": {},
   "outputs": [],
   "source": [
    "#Notes:\n",
    "\n",
    "import osmnx as ox\n",
    "import networkx as nx\n",
    "import folium\n",
    "# Create Base Map of New York - center the map on New York and add custom tiles (carto positron)\n",
    "\n",
    "tile_url = 'https://{s}.basemaps.cartocdn.com/light_all/{z}/{x}/{y}{r}.png'\n",
    "attr = '&copy; <a href=\"https://www.openstreetmap.org/copyright\">OpenStreetMap</a> contributors &copy; <a href=\"https://carto.com/attributions\">CARTO</a>'\n",
    "\n",
    "#coordinates in lat and lon\n",
    "m = folium.Map(\n",
    "    location=[40.7128, -74.0060],\n",
    "    zoom_start=13,\n",
    "    tiles=tile_url,\n",
    "    attr=attr\n",
    ")\n",
    "\n",
    "#m\n",
    "\n",
    "\n",
    "\n",
    "import pyarrow\n",
    "import fastparquet\n",
    "# Make into parquet file \n",
    "uber_pickups=uber_pickups.to_parquet('uber_pickups.parquet')\n",
    "taxi_pickups=taxi_pickups.to_parquet('taxi_pickups.parquet')\n",
    "# Read Parquet Files\n",
    "uber_pickups=dd.read_parquet('uber_pickups.parquet')\n",
    "taxi_pickups=dd.read_parquet('taxi_pickups.parquet')\n",
    "# force dask to load data into memory\n",
    "uber_pickups = uber_pickups.persist()\n",
    "taxi_pickups = taxi_pickups.persist()\n",
    "# Check df sizes\n",
    "print(\"number of rows =\", len(uber_pickups))\n",
    "print(\"number of rows =\", len(taxi_pickups))\n",
    "# Explore df\n",
    "uber_pickups.head()\n",
    "taxi_pickups.head()"
   ]
  },
  {
   "cell_type": "code",
   "execution_count": null,
   "metadata": {},
   "outputs": [],
   "source": [
    "# Traffic Data\n",
    "traffic = pd.read_csv(\"Traffic_Volume_Counts__2012-2013.csv\")\n",
    "traffic.head()\n",
    "print(\"number of rows UBER = \", len(traffic))"
   ]
  }
 ],
 "metadata": {
  "kernelspec": {
   "display_name": "Python 3",
   "language": "python",
   "name": "python3"
  },
  "language_info": {
   "codemirror_mode": {
    "name": "ipython",
    "version": 3
   },
   "file_extension": ".py",
   "mimetype": "text/x-python",
   "name": "python",
   "nbconvert_exporter": "python",
   "pygments_lexer": "ipython3",
   "version": "3.6.7"
  }
 },
 "nbformat": 4,
 "nbformat_minor": 2
}
